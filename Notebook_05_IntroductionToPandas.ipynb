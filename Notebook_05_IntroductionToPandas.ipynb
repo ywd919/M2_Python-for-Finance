{
 "cells": [
  {
   "cell_type": "markdown",
   "metadata": {},
   "source": [
    "# Introduction to Pandas"
   ]
  },
  {
   "cell_type": "markdown",
   "metadata": {},
   "source": [
    "Pandas is a library for managing large datasets in tabular format. It is powerful with lots of functionality and is very fast.\n",
    "\n",
    "We cover loading data and then Pandas data cleaning and organisation commands\n",
    "\n",
    "Pandas gets very powerful when the volume of data is too big for Excel"
   ]
  },
  {
   "cell_type": "code",
   "execution_count": 1,
   "metadata": {},
   "outputs": [],
   "source": [
    "# We load Pandas and prefix all of its commands with pd\n",
    "import pandas as pd\n",
    "import matplotlib.pyplot as plt"
   ]
  },
  {
   "cell_type": "markdown",
   "metadata": {},
   "source": [
    "## The Series"
   ]
  },
  {
   "cell_type": "code",
   "execution_count": 2,
   "metadata": {},
   "outputs": [],
   "source": [
    "sales = pd.Series(data=[303,391,374, 401], index=['Q1','Q2','Q3', 'Q4'])"
   ]
  },
  {
   "cell_type": "code",
   "execution_count": 3,
   "metadata": {},
   "outputs": [
    {
     "data": {
      "text/plain": [
       "Q1    303\n",
       "Q2    391\n",
       "Q3    374\n",
       "Q4    401\n",
       "dtype: int64"
      ]
     },
     "execution_count": 3,
     "metadata": {},
     "output_type": "execute_result"
    }
   ],
   "source": [
    "sales"
   ]
  },
  {
   "cell_type": "code",
   "execution_count": 4,
   "metadata": {},
   "outputs": [
    {
     "data": {
      "text/plain": [
       "303"
      ]
     },
     "execution_count": 4,
     "metadata": {},
     "output_type": "execute_result"
    }
   ],
   "source": [
    "sales['Q1']"
   ]
  },
  {
   "cell_type": "code",
   "execution_count": 5,
   "metadata": {},
   "outputs": [
    {
     "data": {
      "image/png": "[encoded data removed]",
      "text/plain": [
       "<Figure size 432x288 with 1 Axes>"
      ]
     },
     "metadata": {},
     "output_type": "display_data"
    }
   ],
   "source": [
    "plt.style.use('ggplot') \n",
    "sales.plot.bar();"
   ]
  },
  {
   "cell_type": "markdown",
   "metadata": {},
   "source": [
    "## The DataFrame"
   ]
  },
  {
   "cell_type": "code",
   "execution_count": 6,
   "metadata": {},
   "outputs": [
    {
     "data": {
      "text/html": [
       "<div>\n",
       "<style scoped>\n",
       "    .dataframe tbody tr th:only-of-type {\n",
       "        vertical-align: middle;\n",
       "    }\n",
       "\n",
       "    .dataframe tbody tr th {\n",
       "        vertical-align: top;\n",
       "    }\n",
       "\n",
       "    .dataframe thead th {\n",
       "        text-align: right;\n",
       "    }\n",
       "</style>\n",
       "<table border=\"1\" class=\"dataframe\">\n",
       "  <thead>\n",
       "    <tr style=\"text-align: right;\">\n",
       "      <th></th>\n",
       "      <th>odd</th>\n",
       "    </tr>\n",
       "  </thead>\n",
       "  <tbody>\n",
       "    <tr>\n",
       "      <td>a</td>\n",
       "      <td>1</td>\n",
       "    </tr>\n",
       "    <tr>\n",
       "      <td>b</td>\n",
       "      <td>3</td>\n",
       "    </tr>\n",
       "    <tr>\n",
       "      <td>c</td>\n",
       "      <td>5</td>\n",
       "    </tr>\n",
       "    <tr>\n",
       "      <td>d</td>\n",
       "      <td>7</td>\n",
       "    </tr>\n",
       "  </tbody>\n",
       "</table>\n",
       "</div>"
      ],
      "text/plain": [
       "   odd\n",
       "a    1\n",
       "b    3\n",
       "c    5\n",
       "d    7"
      ]
     },
     "execution_count": 6,
     "metadata": {},
     "output_type": "execute_result"
    }
   ],
   "source": [
    "df = pd.DataFrame([1,3,5,7], columns = ['odd'], index = ['a','b','c','d'])\n",
    "df"
   ]
  },
  {
   "cell_type": "code",
   "execution_count": 7,
   "metadata": {},
   "outputs": [],
   "source": [
    "df['even'] = [2,4,6,8]"
   ]
  },
  {
   "cell_type": "code",
   "execution_count": 8,
   "metadata": {},
   "outputs": [
    {
     "data": {
      "text/html": [
       "<div>\n",
       "<style scoped>\n",
       "    .dataframe tbody tr th:only-of-type {\n",
       "        vertical-align: middle;\n",
       "    }\n",
       "\n",
       "    .dataframe tbody tr th {\n",
       "        vertical-align: top;\n",
       "    }\n",
       "\n",
       "    .dataframe thead th {\n",
       "        text-align: right;\n",
       "    }\n",
       "</style>\n",
       "<table border=\"1\" class=\"dataframe\">\n",
       "  <thead>\n",
       "    <tr style=\"text-align: right;\">\n",
       "      <th></th>\n",
       "      <th>odd</th>\n",
       "      <th>even</th>\n",
       "    </tr>\n",
       "  </thead>\n",
       "  <tbody>\n",
       "    <tr>\n",
       "      <td>a</td>\n",
       "      <td>1</td>\n",
       "      <td>2</td>\n",
       "    </tr>\n",
       "    <tr>\n",
       "      <td>b</td>\n",
       "      <td>3</td>\n",
       "      <td>4</td>\n",
       "    </tr>\n",
       "    <tr>\n",
       "      <td>c</td>\n",
       "      <td>5</td>\n",
       "      <td>6</td>\n",
       "    </tr>\n",
       "    <tr>\n",
       "      <td>d</td>\n",
       "      <td>7</td>\n",
       "      <td>8</td>\n",
       "    </tr>\n",
       "  </tbody>\n",
       "</table>\n",
       "</div>"
      ],
      "text/plain": [
       "   odd  even\n",
       "a    1     2\n",
       "b    3     4\n",
       "c    5     6\n",
       "d    7     8"
      ]
     },
     "execution_count": 8,
     "metadata": {},
     "output_type": "execute_result"
    }
   ],
   "source": [
    "df"
   ]
  },
  {
   "cell_type": "code",
   "execution_count": 9,
   "metadata": {},
   "outputs": [
    {
     "data": {
      "text/plain": [
       "pandas.core.series.Series"
      ]
     },
     "execution_count": 9,
     "metadata": {},
     "output_type": "execute_result"
    }
   ],
   "source": [
    "type(df['odd'])"
   ]
  },
  {
   "cell_type": "code",
   "execution_count": 10,
   "metadata": {},
   "outputs": [
    {
     "data": {
      "text/plain": [
       "Index(['a', 'b', 'c', 'd'], dtype='object')"
      ]
     },
     "execution_count": 10,
     "metadata": {},
     "output_type": "execute_result"
    }
   ],
   "source": [
    "df.index"
   ]
  },
  {
   "cell_type": "code",
   "execution_count": 11,
   "metadata": {},
   "outputs": [
    {
     "data": {
      "text/plain": [
       "Index(['odd', 'even'], dtype='object')"
      ]
     },
     "execution_count": 11,
     "metadata": {},
     "output_type": "execute_result"
    }
   ],
   "source": [
    "df.columns"
   ]
  },
  {
   "cell_type": "code",
   "execution_count": 12,
   "metadata": {},
   "outputs": [
    {
     "data": {
      "text/html": [
       "<div>\n",
       "<style scoped>\n",
       "    .dataframe tbody tr th:only-of-type {\n",
       "        vertical-align: middle;\n",
       "    }\n",
       "\n",
       "    .dataframe tbody tr th {\n",
       "        vertical-align: top;\n",
       "    }\n",
       "\n",
       "    .dataframe thead th {\n",
       "        text-align: right;\n",
       "    }\n",
       "</style>\n",
       "<table border=\"1\" class=\"dataframe\">\n",
       "  <thead>\n",
       "    <tr style=\"text-align: right;\">\n",
       "      <th></th>\n",
       "      <th>odd</th>\n",
       "      <th>even</th>\n",
       "    </tr>\n",
       "  </thead>\n",
       "  <tbody>\n",
       "    <tr>\n",
       "      <td>a</td>\n",
       "      <td>1</td>\n",
       "      <td>2</td>\n",
       "    </tr>\n",
       "    <tr>\n",
       "      <td>b</td>\n",
       "      <td>3</td>\n",
       "      <td>4</td>\n",
       "    </tr>\n",
       "    <tr>\n",
       "      <td>c</td>\n",
       "      <td>5</td>\n",
       "      <td>6</td>\n",
       "    </tr>\n",
       "    <tr>\n",
       "      <td>d</td>\n",
       "      <td>7</td>\n",
       "      <td>8</td>\n",
       "    </tr>\n",
       "  </tbody>\n",
       "</table>\n",
       "</div>"
      ],
      "text/plain": [
       "   odd  even\n",
       "a    1     2\n",
       "b    3     4\n",
       "c    5     6\n",
       "d    7     8"
      ]
     },
     "execution_count": 12,
     "metadata": {},
     "output_type": "execute_result"
    }
   ],
   "source": [
    "df.head(5)"
   ]
  },
  {
   "cell_type": "code",
   "execution_count": 13,
   "metadata": {},
   "outputs": [
    {
     "data": {
      "text/plain": [
       "odd     1\n",
       "even    2\n",
       "Name: a, dtype: int64"
      ]
     },
     "execution_count": 13,
     "metadata": {},
     "output_type": "execute_result"
    }
   ],
   "source": [
    "df.loc['a']"
   ]
  },
  {
   "cell_type": "code",
   "execution_count": 14,
   "metadata": {},
   "outputs": [
    {
     "data": {
      "text/plain": [
       "odd     5\n",
       "even    6\n",
       "Name: c, dtype: int64"
      ]
     },
     "execution_count": 14,
     "metadata": {},
     "output_type": "execute_result"
    }
   ],
   "source": [
    "df.iloc[2]"
   ]
  },
  {
   "cell_type": "code",
   "execution_count": 15,
   "metadata": {},
   "outputs": [],
   "source": [
    "df['square'] = [1,2,4,16]"
   ]
  },
  {
   "cell_type": "code",
   "execution_count": 16,
   "metadata": {},
   "outputs": [
    {
     "data": {
      "text/html": [
       "<div>\n",
       "<style scoped>\n",
       "    .dataframe tbody tr th:only-of-type {\n",
       "        vertical-align: middle;\n",
       "    }\n",
       "\n",
       "    .dataframe tbody tr th {\n",
       "        vertical-align: top;\n",
       "    }\n",
       "\n",
       "    .dataframe thead th {\n",
       "        text-align: right;\n",
       "    }\n",
       "</style>\n",
       "<table border=\"1\" class=\"dataframe\">\n",
       "  <thead>\n",
       "    <tr style=\"text-align: right;\">\n",
       "      <th></th>\n",
       "      <th>odd</th>\n",
       "      <th>even</th>\n",
       "      <th>square</th>\n",
       "    </tr>\n",
       "  </thead>\n",
       "  <tbody>\n",
       "    <tr>\n",
       "      <td>a</td>\n",
       "      <td>1</td>\n",
       "      <td>2</td>\n",
       "      <td>1</td>\n",
       "    </tr>\n",
       "    <tr>\n",
       "      <td>b</td>\n",
       "      <td>3</td>\n",
       "      <td>4</td>\n",
       "      <td>2</td>\n",
       "    </tr>\n",
       "    <tr>\n",
       "      <td>c</td>\n",
       "      <td>5</td>\n",
       "      <td>6</td>\n",
       "      <td>4</td>\n",
       "    </tr>\n",
       "    <tr>\n",
       "      <td>d</td>\n",
       "      <td>7</td>\n",
       "      <td>8</td>\n",
       "      <td>16</td>\n",
       "    </tr>\n",
       "  </tbody>\n",
       "</table>\n",
       "</div>"
      ],
      "text/plain": [
       "   odd  even  square\n",
       "a    1     2       1\n",
       "b    3     4       2\n",
       "c    5     6       4\n",
       "d    7     8      16"
      ]
     },
     "execution_count": 16,
     "metadata": {},
     "output_type": "execute_result"
    }
   ],
   "source": [
    "df"
   ]
  },
  {
   "cell_type": "code",
   "execution_count": 17,
   "metadata": {},
   "outputs": [
    {
     "data": {
      "text/plain": [
       "a    1\n",
       "b    3\n",
       "c    5\n",
       "d    7\n",
       "Name: odd, dtype: int64"
      ]
     },
     "execution_count": 17,
     "metadata": {},
     "output_type": "execute_result"
    }
   ],
   "source": [
    "# We can use column name to access it as follows\n",
    "df.odd"
   ]
  },
  {
   "cell_type": "code",
   "execution_count": 18,
   "metadata": {},
   "outputs": [
    {
     "data": {
      "text/plain": [
       "a     1\n",
       "b     2\n",
       "c     4\n",
       "d    16\n",
       "Name: square, dtype: int64"
      ]
     },
     "execution_count": 18,
     "metadata": {},
     "output_type": "execute_result"
    }
   ],
   "source": [
    "# We can use column name to access it as follows\n",
    "df.square"
   ]
  },
  {
   "cell_type": "code",
   "execution_count": 19,
   "metadata": {},
   "outputs": [
    {
     "data": {
      "text/plain": [
       "(4, 3)"
      ]
     },
     "execution_count": 19,
     "metadata": {},
     "output_type": "execute_result"
    }
   ],
   "source": [
    "df.shape"
   ]
  },
  {
   "cell_type": "markdown",
   "metadata": {},
   "source": [
    "## Loading a Large Dataset"
   ]
  },
  {
   "cell_type": "markdown",
   "metadata": {},
   "source": [
    "Let's consider a larger data set"
   ]
  },
  {
   "cell_type": "code",
   "execution_count": 23,
   "metadata": {},
   "outputs": [],
   "source": [
    "# We read the file into the data frame in one go\n",
    "# Pandas always assumes that the first row is the header\n",
    "df = pd.read_csv(\"./optionPortfolio.csv\") "
   ]
  },
  {
   "cell_type": "code",
   "execution_count": 24,
   "metadata": {},
   "outputs": [
    {
     "data": {
      "text/plain": [
       "Index(['TradeDate', 'Currency', 'Ticker', 'OptionType', 'TradedStockPrice',\n",
       "       'NumOptions', 'Strike', 'ExpiryDate'],\n",
       "      dtype='object')"
      ]
     },
     "execution_count": 24,
     "metadata": {},
     "output_type": "execute_result"
    }
   ],
   "source": [
    "df.columns"
   ]
  },
  {
   "cell_type": "code",
   "execution_count": 25,
   "metadata": {},
   "outputs": [
    {
     "data": {
      "text/html": [
       "<div>\n",
       "<style scoped>\n",
       "    .dataframe tbody tr th:only-of-type {\n",
       "        vertical-align: middle;\n",
       "    }\n",
       "\n",
       "    .dataframe tbody tr th {\n",
       "        vertical-align: top;\n",
       "    }\n",
       "\n",
       "    .dataframe thead th {\n",
       "        text-align: right;\n",
       "    }\n",
       "</style>\n",
       "<table border=\"1\" class=\"dataframe\">\n",
       "  <thead>\n",
       "    <tr style=\"text-align: right;\">\n",
       "      <th></th>\n",
       "      <th>TradeDate</th>\n",
       "      <th>Currency</th>\n",
       "      <th>Ticker</th>\n",
       "      <th>OptionType</th>\n",
       "      <th>TradedStockPrice</th>\n",
       "      <th>NumOptions</th>\n",
       "      <th>Strike</th>\n",
       "      <th>ExpiryDate</th>\n",
       "    </tr>\n",
       "  </thead>\n",
       "  <tbody>\n",
       "    <tr>\n",
       "      <td>0</td>\n",
       "      <td>2013-01-02</td>\n",
       "      <td>USD</td>\n",
       "      <td>PUT</td>\n",
       "      <td>BA</td>\n",
       "      <td>77.070000</td>\n",
       "      <td>60</td>\n",
       "      <td>77</td>\n",
       "      <td>2013-07-01</td>\n",
       "    </tr>\n",
       "    <tr>\n",
       "      <td>1</td>\n",
       "      <td>2013-01-02</td>\n",
       "      <td>USD</td>\n",
       "      <td>PUT</td>\n",
       "      <td>XRX</td>\n",
       "      <td>18.945982</td>\n",
       "      <td>330</td>\n",
       "      <td>19</td>\n",
       "      <td>2013-07-01</td>\n",
       "    </tr>\n",
       "    <tr>\n",
       "      <td>2</td>\n",
       "      <td>2013-01-02</td>\n",
       "      <td>USD</td>\n",
       "      <td>CALL</td>\n",
       "      <td>CHK</td>\n",
       "      <td>15.704825</td>\n",
       "      <td>230</td>\n",
       "      <td>15</td>\n",
       "      <td>2013-04-02</td>\n",
       "    </tr>\n",
       "    <tr>\n",
       "      <td>3</td>\n",
       "      <td>2013-01-02</td>\n",
       "      <td>USD</td>\n",
       "      <td>PUT</td>\n",
       "      <td>FB</td>\n",
       "      <td>28.000000</td>\n",
       "      <td>340</td>\n",
       "      <td>28</td>\n",
       "      <td>2013-12-28</td>\n",
       "    </tr>\n",
       "    <tr>\n",
       "      <td>4</td>\n",
       "      <td>2013-01-02</td>\n",
       "      <td>USD</td>\n",
       "      <td>PUT</td>\n",
       "      <td>MSFT</td>\n",
       "      <td>27.620001</td>\n",
       "      <td>690</td>\n",
       "      <td>26</td>\n",
       "      <td>2013-12-28</td>\n",
       "    </tr>\n",
       "  </tbody>\n",
       "</table>\n",
       "</div>"
      ],
      "text/plain": [
       "    TradeDate Currency Ticker OptionType  TradedStockPrice  NumOptions  \\\n",
       "0  2013-01-02      USD    PUT         BA         77.070000          60   \n",
       "1  2013-01-02      USD    PUT        XRX         18.945982         330   \n",
       "2  2013-01-02      USD   CALL        CHK         15.704825         230   \n",
       "3  2013-01-02      USD    PUT         FB         28.000000         340   \n",
       "4  2013-01-02      USD    PUT       MSFT         27.620001         690   \n",
       "\n",
       "   Strike  ExpiryDate  \n",
       "0      77  2013-07-01  \n",
       "1      19  2013-07-01  \n",
       "2      15  2013-04-02  \n",
       "3      28  2013-12-28  \n",
       "4      26  2013-12-28  "
      ]
     },
     "execution_count": 25,
     "metadata": {},
     "output_type": "execute_result"
    }
   ],
   "source": [
    "df.head()"
   ]
  },
  {
   "cell_type": "code",
   "execution_count": 26,
   "metadata": {},
   "outputs": [],
   "source": [
    "# There is a mislabelled column - let's fix it\n",
    "df.columns = ['TradeDate', 'Currency', 'OptionType', 'Ticker', 'TradedStockPrice',\n",
    "       'NumOptions', 'Strike', 'ExpiryDate']"
   ]
  },
  {
   "cell_type": "code",
   "execution_count": 27,
   "metadata": {},
   "outputs": [
    {
     "data": {
      "text/plain": [
       "pandas.core.frame.DataFrame"
      ]
     },
     "execution_count": 27,
     "metadata": {},
     "output_type": "execute_result"
    }
   ],
   "source": [
    "# What is this ?\n",
    "type(df)"
   ]
  },
  {
   "cell_type": "code",
   "execution_count": 28,
   "metadata": {},
   "outputs": [
    {
     "data": {
      "text/plain": [
       "(4198, 8)"
      ]
     },
     "execution_count": 28,
     "metadata": {},
     "output_type": "execute_result"
    }
   ],
   "source": [
    "# We can see the size of the data frame\n",
    "df.shape"
   ]
  },
  {
   "cell_type": "code",
   "execution_count": 30,
   "metadata": {},
   "outputs": [
    {
     "data": {
      "text/html": [
       "<div>\n",
       "<style scoped>\n",
       "    .dataframe tbody tr th:only-of-type {\n",
       "        vertical-align: middle;\n",
       "    }\n",
       "\n",
       "    .dataframe tbody tr th {\n",
       "        vertical-align: top;\n",
       "    }\n",
       "\n",
       "    .dataframe thead th {\n",
       "        text-align: right;\n",
       "    }\n",
       "</style>\n",
       "<table border=\"1\" class=\"dataframe\">\n",
       "  <thead>\n",
       "    <tr style=\"text-align: right;\">\n",
       "      <th></th>\n",
       "      <th>TradeDate</th>\n",
       "      <th>Currency</th>\n",
       "      <th>OptionType</th>\n",
       "      <th>Ticker</th>\n",
       "      <th>TradedStockPrice</th>\n",
       "      <th>NumOptions</th>\n",
       "      <th>Strike</th>\n",
       "      <th>ExpiryDate</th>\n",
       "    </tr>\n",
       "  </thead>\n",
       "  <tbody>\n",
       "    <tr>\n",
       "      <td>0</td>\n",
       "      <td>2013-01-02</td>\n",
       "      <td>USD</td>\n",
       "      <td>PUT</td>\n",
       "      <td>BA</td>\n",
       "      <td>77.070000</td>\n",
       "      <td>60</td>\n",
       "      <td>77</td>\n",
       "      <td>2013-07-01</td>\n",
       "    </tr>\n",
       "    <tr>\n",
       "      <td>1</td>\n",
       "      <td>2013-01-02</td>\n",
       "      <td>USD</td>\n",
       "      <td>PUT</td>\n",
       "      <td>XRX</td>\n",
       "      <td>18.945982</td>\n",
       "      <td>330</td>\n",
       "      <td>19</td>\n",
       "      <td>2013-07-01</td>\n",
       "    </tr>\n",
       "    <tr>\n",
       "      <td>2</td>\n",
       "      <td>2013-01-02</td>\n",
       "      <td>USD</td>\n",
       "      <td>CALL</td>\n",
       "      <td>CHK</td>\n",
       "      <td>15.704825</td>\n",
       "      <td>230</td>\n",
       "      <td>15</td>\n",
       "      <td>2013-04-02</td>\n",
       "    </tr>\n",
       "    <tr>\n",
       "      <td>3</td>\n",
       "      <td>2013-01-02</td>\n",
       "      <td>USD</td>\n",
       "      <td>PUT</td>\n",
       "      <td>FB</td>\n",
       "      <td>28.000000</td>\n",
       "      <td>340</td>\n",
       "      <td>28</td>\n",
       "      <td>2013-12-28</td>\n",
       "    </tr>\n",
       "    <tr>\n",
       "      <td>4</td>\n",
       "      <td>2013-01-02</td>\n",
       "      <td>USD</td>\n",
       "      <td>PUT</td>\n",
       "      <td>MSFT</td>\n",
       "      <td>27.620001</td>\n",
       "      <td>690</td>\n",
       "      <td>26</td>\n",
       "      <td>2013-12-28</td>\n",
       "    </tr>\n",
       "  </tbody>\n",
       "</table>\n",
       "</div>"
      ],
      "text/plain": [
       "    TradeDate Currency OptionType Ticker  TradedStockPrice  NumOptions  \\\n",
       "0  2013-01-02      USD        PUT     BA         77.070000          60   \n",
       "1  2013-01-02      USD        PUT    XRX         18.945982         330   \n",
       "2  2013-01-02      USD       CALL    CHK         15.704825         230   \n",
       "3  2013-01-02      USD        PUT     FB         28.000000         340   \n",
       "4  2013-01-02      USD        PUT   MSFT         27.620001         690   \n",
       "\n",
       "   Strike  ExpiryDate  \n",
       "0      77  2013-07-01  \n",
       "1      19  2013-07-01  \n",
       "2      15  2013-04-02  \n",
       "3      28  2013-12-28  \n",
       "4      26  2013-12-28  "
      ]
     },
     "execution_count": 30,
     "metadata": {},
     "output_type": "execute_result"
    }
   ],
   "source": [
    "# head gives us the first 5 rows \n",
    "df.head()"
   ]
  },
  {
   "cell_type": "markdown",
   "metadata": {},
   "source": [
    "## Preparing the Data"
   ]
  },
  {
   "cell_type": "code",
   "execution_count": 31,
   "metadata": {},
   "outputs": [
    {
     "name": "stdout",
     "output_type": "stream",
     "text": [
      "<class 'pandas.core.frame.DataFrame'>\n",
      "RangeIndex: 4198 entries, 0 to 4197\n",
      "Data columns (total 8 columns):\n",
      "TradeDate           4198 non-null object\n",
      "Currency            4198 non-null object\n",
      "OptionType          4198 non-null object\n",
      "Ticker              4198 non-null object\n",
      "TradedStockPrice    4198 non-null float64\n",
      "NumOptions          4198 non-null int64\n",
      "Strike              4198 non-null int64\n",
      "ExpiryDate          4198 non-null object\n",
      "dtypes: float64(1), int64(2), object(5)\n",
      "memory usage: 262.5+ KB\n"
     ]
    }
   ],
   "source": [
    "# Look for missing data by getting info on all of the columns\n",
    "# Make sure all the fields have the correct data type\n",
    "df.info()"
   ]
  },
  {
   "cell_type": "code",
   "execution_count": 32,
   "metadata": {},
   "outputs": [],
   "source": [
    "df = df.drop(['Currency'],axis=1)"
   ]
  },
  {
   "cell_type": "code",
   "execution_count": 33,
   "metadata": {},
   "outputs": [
    {
     "data": {
      "text/plain": [
       "pandas.core.frame.DataFrame"
      ]
     },
     "execution_count": 33,
     "metadata": {},
     "output_type": "execute_result"
    }
   ],
   "source": [
    "type(df)"
   ]
  },
  {
   "cell_type": "code",
   "execution_count": 34,
   "metadata": {},
   "outputs": [
    {
     "data": {
      "text/plain": [
       "array(['PUT', 'CALL'], dtype=object)"
      ]
     },
     "execution_count": 34,
     "metadata": {},
     "output_type": "execute_result"
    }
   ],
   "source": [
    "df['OptionType'].unique()"
   ]
  },
  {
   "cell_type": "code",
   "execution_count": 35,
   "metadata": {},
   "outputs": [
    {
     "data": {
      "text/plain": [
       "XRX     589\n",
       "MSFT    586\n",
       "CHK     584\n",
       "BA      554\n",
       "FB      548\n",
       "AMZN    544\n",
       "AAPL    528\n",
       "BLCM    265\n",
       "Name: Ticker, dtype: int64"
      ]
     },
     "execution_count": 35,
     "metadata": {},
     "output_type": "execute_result"
    }
   ],
   "source": [
    "df['Ticker'].value_counts()"
   ]
  },
  {
   "cell_type": "markdown",
   "metadata": {},
   "source": [
    "## Examining the Dataframe"
   ]
  },
  {
   "cell_type": "code",
   "execution_count": 36,
   "metadata": {},
   "outputs": [],
   "source": [
    "# We can convert the data frame to a Numpy array \n",
    "m = df.values"
   ]
  },
  {
   "cell_type": "code",
   "execution_count": 37,
   "metadata": {},
   "outputs": [
    {
     "data": {
      "text/plain": [
       "numpy.ndarray"
      ]
     },
     "execution_count": 37,
     "metadata": {},
     "output_type": "execute_result"
    }
   ],
   "source": [
    "type(m)"
   ]
  },
  {
   "cell_type": "code",
   "execution_count": 38,
   "metadata": {},
   "outputs": [
    {
     "data": {
      "text/plain": [
       "640"
      ]
     },
     "execution_count": 38,
     "metadata": {},
     "output_type": "execute_result"
    }
   ],
   "source": [
    "m[10,4]"
   ]
  },
  {
   "cell_type": "code",
   "execution_count": 39,
   "metadata": {},
   "outputs": [
    {
     "data": {
      "text/html": [
       "<div>\n",
       "<style scoped>\n",
       "    .dataframe tbody tr th:only-of-type {\n",
       "        vertical-align: middle;\n",
       "    }\n",
       "\n",
       "    .dataframe tbody tr th {\n",
       "        vertical-align: top;\n",
       "    }\n",
       "\n",
       "    .dataframe thead th {\n",
       "        text-align: right;\n",
       "    }\n",
       "</style>\n",
       "<table border=\"1\" class=\"dataframe\">\n",
       "  <thead>\n",
       "    <tr style=\"text-align: right;\">\n",
       "      <th></th>\n",
       "      <th>TradeDate</th>\n",
       "      <th>OptionType</th>\n",
       "      <th>Ticker</th>\n",
       "      <th>TradedStockPrice</th>\n",
       "      <th>NumOptions</th>\n",
       "      <th>Strike</th>\n",
       "      <th>ExpiryDate</th>\n",
       "    </tr>\n",
       "  </thead>\n",
       "  <tbody>\n",
       "    <tr>\n",
       "      <td>1</td>\n",
       "      <td>2013-01-02</td>\n",
       "      <td>PUT</td>\n",
       "      <td>XRX</td>\n",
       "      <td>18.945982</td>\n",
       "      <td>330</td>\n",
       "      <td>19</td>\n",
       "      <td>2013-07-01</td>\n",
       "    </tr>\n",
       "    <tr>\n",
       "      <td>2</td>\n",
       "      <td>2013-01-02</td>\n",
       "      <td>CALL</td>\n",
       "      <td>CHK</td>\n",
       "      <td>15.704825</td>\n",
       "      <td>230</td>\n",
       "      <td>15</td>\n",
       "      <td>2013-04-02</td>\n",
       "    </tr>\n",
       "    <tr>\n",
       "      <td>3</td>\n",
       "      <td>2013-01-02</td>\n",
       "      <td>PUT</td>\n",
       "      <td>FB</td>\n",
       "      <td>28.000000</td>\n",
       "      <td>340</td>\n",
       "      <td>28</td>\n",
       "      <td>2013-12-28</td>\n",
       "    </tr>\n",
       "    <tr>\n",
       "      <td>4</td>\n",
       "      <td>2013-01-02</td>\n",
       "      <td>PUT</td>\n",
       "      <td>MSFT</td>\n",
       "      <td>27.620001</td>\n",
       "      <td>690</td>\n",
       "      <td>26</td>\n",
       "      <td>2013-12-28</td>\n",
       "    </tr>\n",
       "    <tr>\n",
       "      <td>5</td>\n",
       "      <td>2013-01-02</td>\n",
       "      <td>PUT</td>\n",
       "      <td>FB</td>\n",
       "      <td>28.000000</td>\n",
       "      <td>240</td>\n",
       "      <td>26</td>\n",
       "      <td>2013-07-01</td>\n",
       "    </tr>\n",
       "    <tr>\n",
       "      <td>6</td>\n",
       "      <td>2013-01-02</td>\n",
       "      <td>CALL</td>\n",
       "      <td>FB</td>\n",
       "      <td>28.000000</td>\n",
       "      <td>590</td>\n",
       "      <td>28</td>\n",
       "      <td>2013-12-28</td>\n",
       "    </tr>\n",
       "    <tr>\n",
       "      <td>7</td>\n",
       "      <td>2013-01-03</td>\n",
       "      <td>CALL</td>\n",
       "      <td>XRX</td>\n",
       "      <td>18.945982</td>\n",
       "      <td>0</td>\n",
       "      <td>19</td>\n",
       "      <td>2013-04-03</td>\n",
       "    </tr>\n",
       "    <tr>\n",
       "      <td>8</td>\n",
       "      <td>2013-01-03</td>\n",
       "      <td>CALL</td>\n",
       "      <td>AMZN</td>\n",
       "      <td>258.480011</td>\n",
       "      <td>450</td>\n",
       "      <td>249</td>\n",
       "      <td>2013-07-02</td>\n",
       "    </tr>\n",
       "  </tbody>\n",
       "</table>\n",
       "</div>"
      ],
      "text/plain": [
       "    TradeDate OptionType Ticker  TradedStockPrice  NumOptions  Strike  \\\n",
       "1  2013-01-02        PUT    XRX         18.945982         330      19   \n",
       "2  2013-01-02       CALL    CHK         15.704825         230      15   \n",
       "3  2013-01-02        PUT     FB         28.000000         340      28   \n",
       "4  2013-01-02        PUT   MSFT         27.620001         690      26   \n",
       "5  2013-01-02        PUT     FB         28.000000         240      26   \n",
       "6  2013-01-02       CALL     FB         28.000000         590      28   \n",
       "7  2013-01-03       CALL    XRX         18.945982           0      19   \n",
       "8  2013-01-03       CALL   AMZN        258.480011         450     249   \n",
       "\n",
       "   ExpiryDate  \n",
       "1  2013-07-01  \n",
       "2  2013-04-02  \n",
       "3  2013-12-28  \n",
       "4  2013-12-28  \n",
       "5  2013-07-01  \n",
       "6  2013-12-28  \n",
       "7  2013-04-03  \n",
       "8  2013-07-02  "
      ]
     },
     "execution_count": 39,
     "metadata": {},
     "output_type": "execute_result"
    }
   ],
   "source": [
    "# To get the first 8 rows we can use iloc\n",
    "df.iloc[1:9]"
   ]
  },
  {
   "cell_type": "markdown",
   "metadata": {},
   "source": [
    "## Apply"
   ]
  },
  {
   "cell_type": "markdown",
   "metadata": {},
   "source": [
    "The trade date is in a string form"
   ]
  },
  {
   "cell_type": "code",
   "execution_count": 40,
   "metadata": {},
   "outputs": [
    {
     "name": "stdout",
     "output_type": "stream",
     "text": [
      "<class 'pandas.core.frame.DataFrame'>\n",
      "RangeIndex: 4198 entries, 0 to 4197\n",
      "Data columns (total 7 columns):\n",
      "TradeDate           4198 non-null object\n",
      "OptionType          4198 non-null object\n",
      "Ticker              4198 non-null object\n",
      "TradedStockPrice    4198 non-null float64\n",
      "NumOptions          4198 non-null int64\n",
      "Strike              4198 non-null int64\n",
      "ExpiryDate          4198 non-null object\n",
      "dtypes: float64(1), int64(2), object(4)\n",
      "memory usage: 229.7+ KB\n"
     ]
    }
   ],
   "source": [
    "df.info()"
   ]
  },
  {
   "cell_type": "code",
   "execution_count": 41,
   "metadata": {},
   "outputs": [],
   "source": [
    "# We write a quick function to remove the '/' from the date and to replace it with a space\n",
    "# We could have done this another way but I \n",
    "def dateConverter(dt):\n",
    "    dt = dt.replace('-',' ')\n",
    "    return pd.to_datetime(dt, format='%Y %m %d',dayfirst=True)"
   ]
  },
  {
   "cell_type": "code",
   "execution_count": 42,
   "metadata": {},
   "outputs": [],
   "source": [
    "# The apply function let's us do something complicated to a column \n",
    "df['TradeDate'] = df['TradeDate'].apply(dateConverter) "
   ]
  },
  {
   "cell_type": "code",
   "execution_count": 43,
   "metadata": {},
   "outputs": [],
   "source": [
    "df['ExpiryDate'] = df['ExpiryDate'].apply(dateConverter) "
   ]
  },
  {
   "cell_type": "code",
   "execution_count": 44,
   "metadata": {},
   "outputs": [
    {
     "data": {
      "text/html": [
       "<div>\n",
       "<style scoped>\n",
       "    .dataframe tbody tr th:only-of-type {\n",
       "        vertical-align: middle;\n",
       "    }\n",
       "\n",
       "    .dataframe tbody tr th {\n",
       "        vertical-align: top;\n",
       "    }\n",
       "\n",
       "    .dataframe thead th {\n",
       "        text-align: right;\n",
       "    }\n",
       "</style>\n",
       "<table border=\"1\" class=\"dataframe\">\n",
       "  <thead>\n",
       "    <tr style=\"text-align: right;\">\n",
       "      <th></th>\n",
       "      <th>TradeDate</th>\n",
       "      <th>OptionType</th>\n",
       "      <th>Ticker</th>\n",
       "      <th>TradedStockPrice</th>\n",
       "      <th>NumOptions</th>\n",
       "      <th>Strike</th>\n",
       "      <th>ExpiryDate</th>\n",
       "    </tr>\n",
       "  </thead>\n",
       "  <tbody>\n",
       "    <tr>\n",
       "      <td>0</td>\n",
       "      <td>2013-01-02</td>\n",
       "      <td>PUT</td>\n",
       "      <td>BA</td>\n",
       "      <td>77.070000</td>\n",
       "      <td>60</td>\n",
       "      <td>77</td>\n",
       "      <td>2013-07-01</td>\n",
       "    </tr>\n",
       "    <tr>\n",
       "      <td>1</td>\n",
       "      <td>2013-01-02</td>\n",
       "      <td>PUT</td>\n",
       "      <td>XRX</td>\n",
       "      <td>18.945982</td>\n",
       "      <td>330</td>\n",
       "      <td>19</td>\n",
       "      <td>2013-07-01</td>\n",
       "    </tr>\n",
       "    <tr>\n",
       "      <td>2</td>\n",
       "      <td>2013-01-02</td>\n",
       "      <td>CALL</td>\n",
       "      <td>CHK</td>\n",
       "      <td>15.704825</td>\n",
       "      <td>230</td>\n",
       "      <td>15</td>\n",
       "      <td>2013-04-02</td>\n",
       "    </tr>\n",
       "    <tr>\n",
       "      <td>3</td>\n",
       "      <td>2013-01-02</td>\n",
       "      <td>PUT</td>\n",
       "      <td>FB</td>\n",
       "      <td>28.000000</td>\n",
       "      <td>340</td>\n",
       "      <td>28</td>\n",
       "      <td>2013-12-28</td>\n",
       "    </tr>\n",
       "    <tr>\n",
       "      <td>4</td>\n",
       "      <td>2013-01-02</td>\n",
       "      <td>PUT</td>\n",
       "      <td>MSFT</td>\n",
       "      <td>27.620001</td>\n",
       "      <td>690</td>\n",
       "      <td>26</td>\n",
       "      <td>2013-12-28</td>\n",
       "    </tr>\n",
       "    <tr>\n",
       "      <td>...</td>\n",
       "      <td>...</td>\n",
       "      <td>...</td>\n",
       "      <td>...</td>\n",
       "      <td>...</td>\n",
       "      <td>...</td>\n",
       "      <td>...</td>\n",
       "      <td>...</td>\n",
       "    </tr>\n",
       "    <tr>\n",
       "      <td>4193</td>\n",
       "      <td>2016-12-30</td>\n",
       "      <td>CALL</td>\n",
       "      <td>CHK</td>\n",
       "      <td>7.020000</td>\n",
       "      <td>90</td>\n",
       "      <td>7</td>\n",
       "      <td>2017-06-28</td>\n",
       "    </tr>\n",
       "    <tr>\n",
       "      <td>4194</td>\n",
       "      <td>2016-12-30</td>\n",
       "      <td>PUT</td>\n",
       "      <td>BLCM</td>\n",
       "      <td>13.620000</td>\n",
       "      <td>700</td>\n",
       "      <td>14</td>\n",
       "      <td>2017-06-28</td>\n",
       "    </tr>\n",
       "    <tr>\n",
       "      <td>4195</td>\n",
       "      <td>2016-12-30</td>\n",
       "      <td>PUT</td>\n",
       "      <td>AMZN</td>\n",
       "      <td>749.869995</td>\n",
       "      <td>750</td>\n",
       "      <td>782</td>\n",
       "      <td>2017-12-25</td>\n",
       "    </tr>\n",
       "    <tr>\n",
       "      <td>4196</td>\n",
       "      <td>2016-12-30</td>\n",
       "      <td>PUT</td>\n",
       "      <td>XRX</td>\n",
       "      <td>23.003952</td>\n",
       "      <td>30</td>\n",
       "      <td>22</td>\n",
       "      <td>2017-12-25</td>\n",
       "    </tr>\n",
       "    <tr>\n",
       "      <td>4197</td>\n",
       "      <td>2016-12-30</td>\n",
       "      <td>PUT</td>\n",
       "      <td>FB</td>\n",
       "      <td>115.050003</td>\n",
       "      <td>260</td>\n",
       "      <td>115</td>\n",
       "      <td>2017-06-28</td>\n",
       "    </tr>\n",
       "  </tbody>\n",
       "</table>\n",
       "<p>4198 rows × 7 columns</p>\n",
       "</div>"
      ],
      "text/plain": [
       "      TradeDate OptionType Ticker  TradedStockPrice  NumOptions  Strike  \\\n",
       "0    2013-01-02        PUT     BA         77.070000          60      77   \n",
       "1    2013-01-02        PUT    XRX         18.945982         330      19   \n",
       "2    2013-01-02       CALL    CHK         15.704825         230      15   \n",
       "3    2013-01-02        PUT     FB         28.000000         340      28   \n",
       "4    2013-01-02        PUT   MSFT         27.620001         690      26   \n",
       "...         ...        ...    ...               ...         ...     ...   \n",
       "4193 2016-12-30       CALL    CHK          7.020000          90       7   \n",
       "4194 2016-12-30        PUT   BLCM         13.620000         700      14   \n",
       "4195 2016-12-30        PUT   AMZN        749.869995         750     782   \n",
       "4196 2016-12-30        PUT    XRX         23.003952          30      22   \n",
       "4197 2016-12-30        PUT     FB        115.050003         260     115   \n",
       "\n",
       "     ExpiryDate  \n",
       "0    2013-07-01  \n",
       "1    2013-07-01  \n",
       "2    2013-04-02  \n",
       "3    2013-12-28  \n",
       "4    2013-12-28  \n",
       "...         ...  \n",
       "4193 2017-06-28  \n",
       "4194 2017-06-28  \n",
       "4195 2017-12-25  \n",
       "4196 2017-12-25  \n",
       "4197 2017-06-28  \n",
       "\n",
       "[4198 rows x 7 columns]"
      ]
     },
     "execution_count": 44,
     "metadata": {},
     "output_type": "execute_result"
    }
   ],
   "source": [
    "df"
   ]
  },
  {
   "cell_type": "code",
   "execution_count": 45,
   "metadata": {},
   "outputs": [
    {
     "name": "stdout",
     "output_type": "stream",
     "text": [
      "<class 'pandas.core.frame.DataFrame'>\n",
      "RangeIndex: 4198 entries, 0 to 4197\n",
      "Data columns (total 7 columns):\n",
      "TradeDate           4198 non-null datetime64[ns]\n",
      "OptionType          4198 non-null object\n",
      "Ticker              4198 non-null object\n",
      "TradedStockPrice    4198 non-null float64\n",
      "NumOptions          4198 non-null int64\n",
      "Strike              4198 non-null int64\n",
      "ExpiryDate          4198 non-null datetime64[ns]\n",
      "dtypes: datetime64[ns](2), float64(1), int64(2), object(2)\n",
      "memory usage: 229.7+ KB\n"
     ]
    }
   ],
   "source": [
    "# The date is now a datetime \n",
    "df.info()"
   ]
  },
  {
   "cell_type": "code",
   "execution_count": 46,
   "metadata": {},
   "outputs": [
    {
     "name": "stdout",
     "output_type": "stream",
     "text": [
      "<class 'pandas.core.frame.DataFrame'>\n",
      "RangeIndex: 4198 entries, 0 to 4197\n",
      "Data columns (total 7 columns):\n",
      "TradeDate           4198 non-null datetime64[ns]\n",
      "OptionType          4198 non-null object\n",
      "Ticker              4198 non-null object\n",
      "TradedStockPrice    4198 non-null float64\n",
      "NumOptions          4198 non-null int64\n",
      "Strike              4198 non-null int64\n",
      "ExpiryDate          4198 non-null datetime64[ns]\n",
      "dtypes: datetime64[ns](2), float64(1), int64(2), object(2)\n",
      "memory usage: 229.7+ KB\n"
     ]
    }
   ],
   "source": [
    "df.info()"
   ]
  },
  {
   "cell_type": "markdown",
   "metadata": {
    "collapsed": true
   },
   "source": [
    "## Filters"
   ]
  },
  {
   "cell_type": "code",
   "execution_count": 47,
   "metadata": {},
   "outputs": [
    {
     "data": {
      "text/plain": [
       "0        True\n",
       "1        True\n",
       "2       False\n",
       "3        True\n",
       "4        True\n",
       "        ...  \n",
       "4193    False\n",
       "4194     True\n",
       "4195     True\n",
       "4196     True\n",
       "4197     True\n",
       "Name: OptionType, Length: 4198, dtype: bool"
      ]
     },
     "execution_count": 47,
     "metadata": {},
     "output_type": "execute_result"
    }
   ],
   "source": [
    "df['OptionType'] == \"PUT\""
   ]
  },
  {
   "cell_type": "code",
   "execution_count": 48,
   "metadata": {},
   "outputs": [
    {
     "data": {
      "text/html": [
       "<div>\n",
       "<style scoped>\n",
       "    .dataframe tbody tr th:only-of-type {\n",
       "        vertical-align: middle;\n",
       "    }\n",
       "\n",
       "    .dataframe tbody tr th {\n",
       "        vertical-align: top;\n",
       "    }\n",
       "\n",
       "    .dataframe thead th {\n",
       "        text-align: right;\n",
       "    }\n",
       "</style>\n",
       "<table border=\"1\" class=\"dataframe\">\n",
       "  <thead>\n",
       "    <tr style=\"text-align: right;\">\n",
       "      <th></th>\n",
       "      <th>TradeDate</th>\n",
       "      <th>OptionType</th>\n",
       "      <th>Ticker</th>\n",
       "      <th>TradedStockPrice</th>\n",
       "      <th>NumOptions</th>\n",
       "      <th>Strike</th>\n",
       "      <th>ExpiryDate</th>\n",
       "    </tr>\n",
       "  </thead>\n",
       "  <tbody>\n",
       "    <tr>\n",
       "      <td>0</td>\n",
       "      <td>2013-01-02</td>\n",
       "      <td>PUT</td>\n",
       "      <td>BA</td>\n",
       "      <td>77.070000</td>\n",
       "      <td>60</td>\n",
       "      <td>77</td>\n",
       "      <td>2013-07-01</td>\n",
       "    </tr>\n",
       "    <tr>\n",
       "      <td>1</td>\n",
       "      <td>2013-01-02</td>\n",
       "      <td>PUT</td>\n",
       "      <td>XRX</td>\n",
       "      <td>18.945982</td>\n",
       "      <td>330</td>\n",
       "      <td>19</td>\n",
       "      <td>2013-07-01</td>\n",
       "    </tr>\n",
       "    <tr>\n",
       "      <td>3</td>\n",
       "      <td>2013-01-02</td>\n",
       "      <td>PUT</td>\n",
       "      <td>FB</td>\n",
       "      <td>28.000000</td>\n",
       "      <td>340</td>\n",
       "      <td>28</td>\n",
       "      <td>2013-12-28</td>\n",
       "    </tr>\n",
       "    <tr>\n",
       "      <td>4</td>\n",
       "      <td>2013-01-02</td>\n",
       "      <td>PUT</td>\n",
       "      <td>MSFT</td>\n",
       "      <td>27.620001</td>\n",
       "      <td>690</td>\n",
       "      <td>26</td>\n",
       "      <td>2013-12-28</td>\n",
       "    </tr>\n",
       "    <tr>\n",
       "      <td>5</td>\n",
       "      <td>2013-01-02</td>\n",
       "      <td>PUT</td>\n",
       "      <td>FB</td>\n",
       "      <td>28.000000</td>\n",
       "      <td>240</td>\n",
       "      <td>26</td>\n",
       "      <td>2013-07-01</td>\n",
       "    </tr>\n",
       "  </tbody>\n",
       "</table>\n",
       "</div>"
      ],
      "text/plain": [
       "   TradeDate OptionType Ticker  TradedStockPrice  NumOptions  Strike  \\\n",
       "0 2013-01-02        PUT     BA         77.070000          60      77   \n",
       "1 2013-01-02        PUT    XRX         18.945982         330      19   \n",
       "3 2013-01-02        PUT     FB         28.000000         340      28   \n",
       "4 2013-01-02        PUT   MSFT         27.620001         690      26   \n",
       "5 2013-01-02        PUT     FB         28.000000         240      26   \n",
       "\n",
       "  ExpiryDate  \n",
       "0 2013-07-01  \n",
       "1 2013-07-01  \n",
       "3 2013-12-28  \n",
       "4 2013-12-28  \n",
       "5 2013-07-01  "
      ]
     },
     "execution_count": 48,
     "metadata": {},
     "output_type": "execute_result"
    }
   ],
   "source": [
    "df[df['OptionType'] == \"PUT\"].head()"
   ]
  },
  {
   "cell_type": "code",
   "execution_count": 49,
   "metadata": {},
   "outputs": [
    {
     "data": {
      "text/html": [
       "<div>\n",
       "<style scoped>\n",
       "    .dataframe tbody tr th:only-of-type {\n",
       "        vertical-align: middle;\n",
       "    }\n",
       "\n",
       "    .dataframe tbody tr th {\n",
       "        vertical-align: top;\n",
       "    }\n",
       "\n",
       "    .dataframe thead th {\n",
       "        text-align: right;\n",
       "    }\n",
       "</style>\n",
       "<table border=\"1\" class=\"dataframe\">\n",
       "  <thead>\n",
       "    <tr style=\"text-align: right;\">\n",
       "      <th></th>\n",
       "      <th>TradeDate</th>\n",
       "      <th>OptionType</th>\n",
       "      <th>Ticker</th>\n",
       "      <th>TradedStockPrice</th>\n",
       "      <th>NumOptions</th>\n",
       "      <th>Strike</th>\n",
       "      <th>ExpiryDate</th>\n",
       "    </tr>\n",
       "  </thead>\n",
       "  <tbody>\n",
       "    <tr>\n",
       "      <td>18</td>\n",
       "      <td>2013-01-08</td>\n",
       "      <td>PUT</td>\n",
       "      <td>AAPL</td>\n",
       "      <td>75.044289</td>\n",
       "      <td>650</td>\n",
       "      <td>75</td>\n",
       "      <td>2013-04-08</td>\n",
       "    </tr>\n",
       "    <tr>\n",
       "      <td>29</td>\n",
       "      <td>2013-01-14</td>\n",
       "      <td>PUT</td>\n",
       "      <td>AAPL</td>\n",
       "      <td>71.678574</td>\n",
       "      <td>940</td>\n",
       "      <td>73</td>\n",
       "      <td>2014-01-09</td>\n",
       "    </tr>\n",
       "    <tr>\n",
       "      <td>34</td>\n",
       "      <td>2013-01-16</td>\n",
       "      <td>PUT</td>\n",
       "      <td>AAPL</td>\n",
       "      <td>72.298569</td>\n",
       "      <td>250</td>\n",
       "      <td>72</td>\n",
       "      <td>2014-01-11</td>\n",
       "    </tr>\n",
       "    <tr>\n",
       "      <td>44</td>\n",
       "      <td>2013-01-22</td>\n",
       "      <td>PUT</td>\n",
       "      <td>AAPL</td>\n",
       "      <td>72.110001</td>\n",
       "      <td>530</td>\n",
       "      <td>74</td>\n",
       "      <td>2013-04-22</td>\n",
       "    </tr>\n",
       "    <tr>\n",
       "      <td>47</td>\n",
       "      <td>2013-01-22</td>\n",
       "      <td>PUT</td>\n",
       "      <td>AAPL</td>\n",
       "      <td>72.110001</td>\n",
       "      <td>490</td>\n",
       "      <td>70</td>\n",
       "      <td>2013-07-21</td>\n",
       "    </tr>\n",
       "  </tbody>\n",
       "</table>\n",
       "</div>"
      ],
      "text/plain": [
       "    TradeDate OptionType Ticker  TradedStockPrice  NumOptions  Strike  \\\n",
       "18 2013-01-08        PUT   AAPL         75.044289         650      75   \n",
       "29 2013-01-14        PUT   AAPL         71.678574         940      73   \n",
       "34 2013-01-16        PUT   AAPL         72.298569         250      72   \n",
       "44 2013-01-22        PUT   AAPL         72.110001         530      74   \n",
       "47 2013-01-22        PUT   AAPL         72.110001         490      70   \n",
       "\n",
       "   ExpiryDate  \n",
       "18 2013-04-08  \n",
       "29 2014-01-09  \n",
       "34 2014-01-11  \n",
       "44 2013-04-22  \n",
       "47 2013-07-21  "
      ]
     },
     "execution_count": 49,
     "metadata": {},
     "output_type": "execute_result"
    }
   ],
   "source": [
    "df[(df['Ticker'] == \"AAPL\") & (df['OptionType'] == \"PUT\")].head()"
   ]
  },
  {
   "cell_type": "code",
   "execution_count": 50,
   "metadata": {},
   "outputs": [
    {
     "data": {
      "text/html": [
       "<div>\n",
       "<style scoped>\n",
       "    .dataframe tbody tr th:only-of-type {\n",
       "        vertical-align: middle;\n",
       "    }\n",
       "\n",
       "    .dataframe tbody tr th {\n",
       "        vertical-align: top;\n",
       "    }\n",
       "\n",
       "    .dataframe thead th {\n",
       "        text-align: right;\n",
       "    }\n",
       "</style>\n",
       "<table border=\"1\" class=\"dataframe\">\n",
       "  <thead>\n",
       "    <tr style=\"text-align: right;\">\n",
       "      <th></th>\n",
       "      <th>TradeDate</th>\n",
       "      <th>OptionType</th>\n",
       "      <th>Ticker</th>\n",
       "      <th>TradedStockPrice</th>\n",
       "      <th>NumOptions</th>\n",
       "      <th>Strike</th>\n",
       "      <th>ExpiryDate</th>\n",
       "    </tr>\n",
       "  </thead>\n",
       "  <tbody>\n",
       "    <tr>\n",
       "      <td>0</td>\n",
       "      <td>2013-01-02</td>\n",
       "      <td>PUT</td>\n",
       "      <td>BA</td>\n",
       "      <td>77.070000</td>\n",
       "      <td>60</td>\n",
       "      <td>77</td>\n",
       "      <td>2013-07-01</td>\n",
       "    </tr>\n",
       "    <tr>\n",
       "      <td>1</td>\n",
       "      <td>2013-01-02</td>\n",
       "      <td>PUT</td>\n",
       "      <td>XRX</td>\n",
       "      <td>18.945982</td>\n",
       "      <td>330</td>\n",
       "      <td>19</td>\n",
       "      <td>2013-07-01</td>\n",
       "    </tr>\n",
       "    <tr>\n",
       "      <td>5</td>\n",
       "      <td>2013-01-02</td>\n",
       "      <td>PUT</td>\n",
       "      <td>FB</td>\n",
       "      <td>28.000000</td>\n",
       "      <td>240</td>\n",
       "      <td>26</td>\n",
       "      <td>2013-07-01</td>\n",
       "    </tr>\n",
       "    <tr>\n",
       "      <td>11</td>\n",
       "      <td>2013-01-07</td>\n",
       "      <td>PUT</td>\n",
       "      <td>CHK</td>\n",
       "      <td>16.669821</td>\n",
       "      <td>820</td>\n",
       "      <td>17</td>\n",
       "      <td>2013-04-07</td>\n",
       "    </tr>\n",
       "    <tr>\n",
       "      <td>17</td>\n",
       "      <td>2013-01-08</td>\n",
       "      <td>PUT</td>\n",
       "      <td>FB</td>\n",
       "      <td>29.059999</td>\n",
       "      <td>480</td>\n",
       "      <td>29</td>\n",
       "      <td>2013-07-07</td>\n",
       "    </tr>\n",
       "    <tr>\n",
       "      <td>...</td>\n",
       "      <td>...</td>\n",
       "      <td>...</td>\n",
       "      <td>...</td>\n",
       "      <td>...</td>\n",
       "      <td>...</td>\n",
       "      <td>...</td>\n",
       "      <td>...</td>\n",
       "    </tr>\n",
       "    <tr>\n",
       "      <td>461</td>\n",
       "      <td>2013-06-18</td>\n",
       "      <td>PUT</td>\n",
       "      <td>AAPL</td>\n",
       "      <td>61.681427</td>\n",
       "      <td>240</td>\n",
       "      <td>64</td>\n",
       "      <td>2013-09-16</td>\n",
       "    </tr>\n",
       "    <tr>\n",
       "      <td>469</td>\n",
       "      <td>2013-06-20</td>\n",
       "      <td>PUT</td>\n",
       "      <td>CHK</td>\n",
       "      <td>18.997162</td>\n",
       "      <td>740</td>\n",
       "      <td>19</td>\n",
       "      <td>2013-09-18</td>\n",
       "    </tr>\n",
       "    <tr>\n",
       "      <td>470</td>\n",
       "      <td>2013-06-21</td>\n",
       "      <td>PUT</td>\n",
       "      <td>FB</td>\n",
       "      <td>24.530001</td>\n",
       "      <td>430</td>\n",
       "      <td>24</td>\n",
       "      <td>2013-09-19</td>\n",
       "    </tr>\n",
       "    <tr>\n",
       "      <td>486</td>\n",
       "      <td>2013-06-26</td>\n",
       "      <td>PUT</td>\n",
       "      <td>FB</td>\n",
       "      <td>24.160000</td>\n",
       "      <td>400</td>\n",
       "      <td>23</td>\n",
       "      <td>2013-09-24</td>\n",
       "    </tr>\n",
       "    <tr>\n",
       "      <td>488</td>\n",
       "      <td>2013-06-26</td>\n",
       "      <td>PUT</td>\n",
       "      <td>BA</td>\n",
       "      <td>100.750000</td>\n",
       "      <td>420</td>\n",
       "      <td>98</td>\n",
       "      <td>2013-09-24</td>\n",
       "    </tr>\n",
       "  </tbody>\n",
       "</table>\n",
       "<p>126 rows × 7 columns</p>\n",
       "</div>"
      ],
      "text/plain": [
       "     TradeDate OptionType Ticker  TradedStockPrice  NumOptions  Strike  \\\n",
       "0   2013-01-02        PUT     BA         77.070000          60      77   \n",
       "1   2013-01-02        PUT    XRX         18.945982         330      19   \n",
       "5   2013-01-02        PUT     FB         28.000000         240      26   \n",
       "11  2013-01-07        PUT    CHK         16.669821         820      17   \n",
       "17  2013-01-08        PUT     FB         29.059999         480      29   \n",
       "..         ...        ...    ...               ...         ...     ...   \n",
       "461 2013-06-18        PUT   AAPL         61.681427         240      64   \n",
       "469 2013-06-20        PUT    CHK         18.997162         740      19   \n",
       "470 2013-06-21        PUT     FB         24.530001         430      24   \n",
       "486 2013-06-26        PUT     FB         24.160000         400      23   \n",
       "488 2013-06-26        PUT     BA        100.750000         420      98   \n",
       "\n",
       "    ExpiryDate  \n",
       "0   2013-07-01  \n",
       "1   2013-07-01  \n",
       "5   2013-07-01  \n",
       "11  2013-04-07  \n",
       "17  2013-07-07  \n",
       "..         ...  \n",
       "461 2013-09-16  \n",
       "469 2013-09-18  \n",
       "470 2013-09-19  \n",
       "486 2013-09-24  \n",
       "488 2013-09-24  \n",
       "\n",
       "[126 rows x 7 columns]"
      ]
     },
     "execution_count": 50,
     "metadata": {},
     "output_type": "execute_result"
    }
   ],
   "source": [
    "import datetime as dt\n",
    "df[(df['ExpiryDate'] < dt.datetime(2013,10,2)) & (df['OptionType'] == \"PUT\")]"
   ]
  },
  {
   "cell_type": "markdown",
   "metadata": {},
   "source": [
    "## Group By"
   ]
  },
  {
   "cell_type": "markdown",
   "metadata": {},
   "source": [
    "This enables us to do a breakdown by a particular field"
   ]
  },
  {
   "cell_type": "code",
   "execution_count": null,
   "metadata": {},
   "outputs": [],
   "source": [
    "df[['NumOptions','Ticker']].groupby(['Ticker']).count()"
   ]
  },
  {
   "cell_type": "code",
   "execution_count": null,
   "metadata": {},
   "outputs": [],
   "source": [
    "df[['Strike','Ticker']].groupby(['Ticker']).mean()"
   ]
  }
 ],
 "metadata": {
  "kernelspec": {
   "display_name": "Python 3",
   "language": "python",
   "name": "python3"
  },
  "language_info": {
   "codemirror_mode": {
    "name": "ipython",
    "version": 3
   },
   "file_extension": ".py",
   "mimetype": "text/x-python",
   "name": "python",
   "nbconvert_exporter": "python",
   "pygments_lexer": "ipython3",
   "version": "3.7.4"
  }
 },
 "nbformat": 4,
 "nbformat_minor": 2
}
