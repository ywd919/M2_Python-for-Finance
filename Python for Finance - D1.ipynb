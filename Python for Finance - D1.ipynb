{
 "cells": [
  {
   "cell_type": "markdown",
   "metadata": {},
   "source": [
    "# Python for Finance"
   ]
  },
  {
   "cell_type": "code",
   "execution_count": 1,
   "metadata": {},
   "outputs": [
    {
     "data": {
      "text/plain": [
       "2"
      ]
     },
     "execution_count": 1,
     "metadata": {},
     "output_type": "execute_result"
    }
   ],
   "source": [
    "1+1"
   ]
  },
  {
   "cell_type": "code",
   "execution_count": 2,
   "metadata": {},
   "outputs": [
    {
     "data": {
      "text/plain": [
       "18"
      ]
     },
     "execution_count": 2,
     "metadata": {},
     "output_type": "execute_result"
    }
   ],
   "source": [
    "3*6"
   ]
  },
  {
   "cell_type": "markdown",
   "metadata": {},
   "source": [
    "# Big Header"
   ]
  },
  {
   "cell_type": "markdown",
   "metadata": {},
   "source": [
    "## Medium Header"
   ]
  },
  {
   "cell_type": "markdown",
   "metadata": {},
   "source": [
    "### Small Header"
   ]
  },
  {
   "cell_type": "markdown",
   "metadata": {},
   "source": [
    "text #just transfer the code to markdown"
   ]
  },
  {
   "cell_type": "markdown",
   "metadata": {},
   "source": [
    "### Datetypes"
   ]
  },
  {
   "cell_type": "code",
   "execution_count": 3,
   "metadata": {},
   "outputs": [],
   "source": [
    "z=5/2"
   ]
  },
  {
   "cell_type": "code",
   "execution_count": 4,
   "metadata": {},
   "outputs": [
    {
     "data": {
      "text/plain": [
       "2.5"
      ]
     },
     "execution_count": 4,
     "metadata": {},
     "output_type": "execute_result"
    }
   ],
   "source": [
    "z"
   ]
  },
  {
   "cell_type": "code",
   "execution_count": 5,
   "metadata": {},
   "outputs": [
    {
     "data": {
      "text/plain": [
       "float"
      ]
     },
     "execution_count": 5,
     "metadata": {},
     "output_type": "execute_result"
    }
   ],
   "source": [
    "type(z) #Get the type of the variable"
   ]
  },
  {
   "cell_type": "code",
   "execution_count": 6,
   "metadata": {},
   "outputs": [],
   "source": [
    "x,y = 10, 20"
   ]
  },
  {
   "cell_type": "code",
   "execution_count": 7,
   "metadata": {},
   "outputs": [
    {
     "data": {
      "text/plain": [
       "int"
      ]
     },
     "execution_count": 7,
     "metadata": {},
     "output_type": "execute_result"
    }
   ],
   "source": [
    "type(x)"
   ]
  },
  {
   "cell_type": "code",
   "execution_count": 8,
   "metadata": {},
   "outputs": [],
   "source": [
    "name = \"EDHEC\""
   ]
  },
  {
   "cell_type": "code",
   "execution_count": 9,
   "metadata": {},
   "outputs": [
    {
     "data": {
      "text/plain": [
       "str"
      ]
     },
     "execution_count": 9,
     "metadata": {},
     "output_type": "execute_result"
    }
   ],
   "source": [
    "type(name)"
   ]
  },
  {
   "cell_type": "code",
   "execution_count": 10,
   "metadata": {},
   "outputs": [
    {
     "name": "stdout",
     "output_type": "stream",
     "text": [
      "Hello!\n"
     ]
    }
   ],
   "source": [
    "print('Hello!') #print commend needs brackets!"
   ]
  },
  {
   "cell_type": "code",
   "execution_count": 11,
   "metadata": {},
   "outputs": [
    {
     "name": "stdout",
     "output_type": "stream",
     "text": [
      "Hello! 5.4233\n"
     ]
    }
   ],
   "source": [
    "x = 5.4233\n",
    "print('Hello!',x)"
   ]
  },
  {
   "cell_type": "code",
   "execution_count": 12,
   "metadata": {},
   "outputs": [
    {
     "name": "stdout",
     "output_type": "stream",
     "text": [
      "Hello5.4233EDHEC\n"
     ]
    }
   ],
   "source": [
    "print(\"Hello\"+ str(x) + \"EDHEC\")"
   ]
  },
  {
   "cell_type": "markdown",
   "metadata": {},
   "source": [
    "### Mathmatics in Python"
   ]
  },
  {
   "cell_type": "code",
   "execution_count": 13,
   "metadata": {},
   "outputs": [],
   "source": [
    "# Assignment is =; Comparison is =="
   ]
  },
  {
   "cell_type": "code",
   "execution_count": 14,
   "metadata": {},
   "outputs": [],
   "source": [
    "# Logical operator is and, or, not"
   ]
  },
  {
   "cell_type": "code",
   "execution_count": 15,
   "metadata": {},
   "outputs": [
    {
     "data": {
      "text/plain": [
       "float"
      ]
     },
     "execution_count": 15,
     "metadata": {},
     "output_type": "execute_result"
    }
   ],
   "source": [
    "type(15.0) #Integer or float from context given to variables"
   ]
  },
  {
   "cell_type": "code",
   "execution_count": 16,
   "metadata": {},
   "outputs": [],
   "source": [
    "import math"
   ]
  },
  {
   "cell_type": "code",
   "execution_count": 17,
   "metadata": {},
   "outputs": [],
   "source": [
    "x = math.exp(5)"
   ]
  },
  {
   "cell_type": "code",
   "execution_count": 18,
   "metadata": {},
   "outputs": [
    {
     "data": {
      "text/plain": [
       "148.4131591025766"
      ]
     },
     "execution_count": 18,
     "metadata": {},
     "output_type": "execute_result"
    }
   ],
   "source": [
    "x"
   ]
  },
  {
   "cell_type": "code",
   "execution_count": 19,
   "metadata": {},
   "outputs": [],
   "source": [
    "from math import exp "
   ]
  },
  {
   "cell_type": "markdown",
   "metadata": {},
   "source": [
    "from math import *\n",
    "which could import lots of functions\n",
    "But can be a problem conflicted with functions you created"
   ]
  },
  {
   "cell_type": "code",
   "execution_count": 20,
   "metadata": {},
   "outputs": [],
   "source": [
    "x = exp(5.0)"
   ]
  },
  {
   "cell_type": "code",
   "execution_count": 21,
   "metadata": {},
   "outputs": [
    {
     "data": {
      "text/plain": [
       "148.4131591025766"
      ]
     },
     "execution_count": 21,
     "metadata": {},
     "output_type": "execute_result"
    }
   ],
   "source": [
    "x"
   ]
  },
  {
   "cell_type": "code",
   "execution_count": 22,
   "metadata": {},
   "outputs": [],
   "source": [
    "x = 3.34233283459879872342552423; string = 'Hello'"
   ]
  },
  {
   "cell_type": "code",
   "execution_count": 23,
   "metadata": {},
   "outputs": [
    {
     "name": "stdout",
     "output_type": "stream",
     "text": [
      "x= 3.342332834598799\n"
     ]
    }
   ],
   "source": [
    "print('x=', x)"
   ]
  },
  {
   "cell_type": "code",
   "execution_count": 24,
   "metadata": {},
   "outputs": [
    {
     "name": "stdout",
     "output_type": "stream",
     "text": [
      "x = 3.34233\n"
     ]
    }
   ],
   "source": [
    "print(\"x = %7.5f\"%x)"
   ]
  },
  {
   "cell_type": "code",
   "execution_count": 25,
   "metadata": {},
   "outputs": [
    {
     "name": "stdout",
     "output_type": "stream",
     "text": [
      "Hello = 3.34233\n"
     ]
    }
   ],
   "source": [
    "print('%s = %6.5f' %(string,x)) #format 's' and floats in a tuple"
   ]
  },
  {
   "cell_type": "markdown",
   "metadata": {},
   "source": [
    "## Fancy Printing"
   ]
  },
  {
   "cell_type": "markdown",
   "metadata": {},
   "source": [
    "Formatting code - 'f' is floating and 7.5 = 7 chars with 5 decimal "
   ]
  },
  {
   "cell_type": "code",
   "execution_count": 26,
   "metadata": {},
   "outputs": [
    {
     "name": "stdout",
     "output_type": "stream",
     "text": [
      "x = 3.33240\n"
     ]
    }
   ],
   "source": [
    "x = 3.3323984722342989845\n",
    "print('x = %7.5f' %x)"
   ]
  },
  {
   "cell_type": "markdown",
   "metadata": {},
   "source": [
    "Combing code - formating code 's'and floats in a tuple"
   ]
  },
  {
   "cell_type": "code",
   "execution_count": 27,
   "metadata": {},
   "outputs": [
    {
     "name": "stdout",
     "output_type": "stream",
     "text": [
      "Hello = 3.33240\n"
     ]
    }
   ],
   "source": [
    "string  = 'Hello'\n",
    "print('%s = %6.5f' %(string,x))"
   ]
  },
  {
   "cell_type": "markdown",
   "metadata": {},
   "source": [
    "## Dates and Times"
   ]
  },
  {
   "cell_type": "code",
   "execution_count": 28,
   "metadata": {},
   "outputs": [],
   "source": [
    "import datetime as dt #own built-in date and times library"
   ]
  },
  {
   "cell_type": "code",
   "execution_count": 29,
   "metadata": {},
   "outputs": [
    {
     "name": "stdout",
     "output_type": "stream",
     "text": [
      "Current date and time: 2021-09-23 17:57:26.072976\n"
     ]
    }
   ],
   "source": [
    "print('Current date and time:', dt.datetime.now())"
   ]
  },
  {
   "cell_type": "code",
   "execution_count": 30,
   "metadata": {},
   "outputs": [
    {
     "name": "stdout",
     "output_type": "stream",
     "text": [
      "21/09/23 17:57\n"
     ]
    }
   ],
   "source": [
    "print(dt.datetime.now().strftime('%y/%m/%d %H:%M'))"
   ]
  },
  {
   "cell_type": "code",
   "execution_count": 31,
   "metadata": {},
   "outputs": [
    {
     "name": "stdout",
     "output_type": "stream",
     "text": [
      "Current year: 2021\n"
     ]
    }
   ],
   "source": [
    "print('Current year:', dt.datetime.now().strftime('%Y'))"
   ]
  },
  {
   "cell_type": "code",
   "execution_count": 32,
   "metadata": {},
   "outputs": [
    {
     "name": "stdout",
     "output_type": "stream",
     "text": [
      "Month of year: September\n"
     ]
    }
   ],
   "source": [
    "print('Month of year:', dt.datetime.now().strftime('%B'))"
   ]
  },
  {
   "cell_type": "code",
   "execution_count": 33,
   "metadata": {},
   "outputs": [
    {
     "name": "stdout",
     "output_type": "stream",
     "text": [
      "Day of the month: 23\n"
     ]
    }
   ],
   "source": [
    "print('Day of the month:', dt.datetime.now().strftime('%d'))"
   ]
  },
  {
   "cell_type": "markdown",
   "metadata": {},
   "source": [
    "### Differencing Dates"
   ]
  },
  {
   "cell_type": "code",
   "execution_count": 34,
   "metadata": {},
   "outputs": [],
   "source": [
    "import datetime as dt\n",
    "trade_date  = dt.date(2021,9,3) #Use comma! \n",
    "expire_date = dt.date(2021,12,20)"
   ]
  },
  {
   "cell_type": "code",
   "execution_count": 35,
   "metadata": {},
   "outputs": [
    {
     "name": "stdout",
     "output_type": "stream",
     "text": [
      "108 days, 0:00:00\n"
     ]
    }
   ],
   "source": [
    "day_diff = expire_date - trade_date\n",
    "print(day_diff)"
   ]
  },
  {
   "cell_type": "code",
   "execution_count": 36,
   "metadata": {},
   "outputs": [
    {
     "data": {
      "text/plain": [
       "108"
      ]
     },
     "execution_count": 36,
     "metadata": {},
     "output_type": "execute_result"
    }
   ],
   "source": [
    "#Number of days as integer\n",
    "day_diff.days"
   ]
  },
  {
   "cell_type": "markdown",
   "metadata": {},
   "source": [
    "## List, Tuples and Dictionaries"
   ]
  },
  {
   "cell_type": "markdown",
   "metadata": {},
   "source": [
    "### Lists"
   ]
  },
  {
   "cell_type": "code",
   "execution_count": 37,
   "metadata": {},
   "outputs": [],
   "source": [
    "list1 = ['EDHEC', 'Business School', 493, 'Nice']"
   ]
  },
  {
   "cell_type": "code",
   "execution_count": 38,
   "metadata": {},
   "outputs": [
    {
     "name": "stdout",
     "output_type": "stream",
     "text": [
      "EDHEC\n"
     ]
    }
   ],
   "source": [
    "print(list1[0])"
   ]
  },
  {
   "cell_type": "code",
   "execution_count": 39,
   "metadata": {},
   "outputs": [],
   "source": [
    "list1.append('France') #Use append to add new members"
   ]
  },
  {
   "cell_type": "code",
   "execution_count": 40,
   "metadata": {},
   "outputs": [
    {
     "data": {
      "text/plain": [
       "['EDHEC', 'Business School', 493, 'Nice', 'France']"
      ]
     },
     "execution_count": 40,
     "metadata": {},
     "output_type": "execute_result"
    }
   ],
   "source": [
    "list1[0:5]"
   ]
  },
  {
   "cell_type": "markdown",
   "metadata": {},
   "source": [
    "### Matrices"
   ]
  },
  {
   "cell_type": "code",
   "execution_count": 41,
   "metadata": {},
   "outputs": [],
   "source": [
    "m = [[1,2,5],[3,2,7]]"
   ]
  },
  {
   "cell_type": "code",
   "execution_count": 42,
   "metadata": {},
   "outputs": [
    {
     "data": {
      "text/plain": [
       "1"
      ]
     },
     "execution_count": 42,
     "metadata": {},
     "output_type": "execute_result"
    }
   ],
   "source": [
    "m[0][0]"
   ]
  },
  {
   "cell_type": "code",
   "execution_count": 43,
   "metadata": {},
   "outputs": [
    {
     "data": {
      "text/plain": [
       "7"
      ]
     },
     "execution_count": 43,
     "metadata": {},
     "output_type": "execute_result"
    }
   ],
   "source": [
    "m[1][2]"
   ]
  },
  {
   "cell_type": "markdown",
   "metadata": {},
   "source": [
    "For complicated lists or any computationally heavy matrix calculations, use Numpy arrays and matrics instead, since it's faster"
   ]
  },
  {
   "cell_type": "markdown",
   "metadata": {},
   "source": [
    "### Tuples"
   ]
  },
  {
   "cell_type": "markdown",
   "metadata": {},
   "source": [
    "Tuple is similar to list, but it is an immutable(unchanging) sequence."
   ]
  },
  {
   "cell_type": "code",
   "execution_count": 44,
   "metadata": {},
   "outputs": [],
   "source": [
    "tup1 = ('EDHEC', 'Business School',493, 'Nice')"
   ]
  },
  {
   "cell_type": "code",
   "execution_count": 45,
   "metadata": {},
   "outputs": [
    {
     "data": {
      "text/plain": [
       "493"
      ]
     },
     "execution_count": 45,
     "metadata": {},
     "output_type": "execute_result"
    }
   ],
   "source": [
    "tup1[2] #Access members using square brackets"
   ]
  },
  {
   "cell_type": "markdown",
   "metadata": {},
   "source": [
    "### Dictionary"
   ]
  },
  {
   "cell_type": "markdown",
   "metadata": {},
   "source": [
    "Dictionary is a list of key(use to look up the value) and value pairs. Key and values are separated by a colon."
   ]
  },
  {
   "cell_type": "code",
   "execution_count": 46,
   "metadata": {},
   "outputs": [],
   "source": [
    "dict = {'Name':'Pierre','Age':'23','Nationality':'French'}"
   ]
  },
  {
   "cell_type": "code",
   "execution_count": 47,
   "metadata": {},
   "outputs": [
    {
     "data": {
      "text/plain": [
       "'Pierre'"
      ]
     },
     "execution_count": 47,
     "metadata": {},
     "output_type": "execute_result"
    }
   ],
   "source": [
    "dict['Name']"
   ]
  },
  {
   "cell_type": "code",
   "execution_count": 48,
   "metadata": {},
   "outputs": [
    {
     "data": {
      "text/plain": [
       "'23'"
      ]
     },
     "execution_count": 48,
     "metadata": {},
     "output_type": "execute_result"
    }
   ],
   "source": [
    "dict['Age']"
   ]
  },
  {
   "cell_type": "code",
   "execution_count": 49,
   "metadata": {},
   "outputs": [],
   "source": [
    "dict['Age'] = 24 # Elements can be amended directly using their key"
   ]
  },
  {
   "cell_type": "code",
   "execution_count": 50,
   "metadata": {},
   "outputs": [
    {
     "data": {
      "text/plain": [
       "24"
      ]
     },
     "execution_count": 50,
     "metadata": {},
     "output_type": "execute_result"
    }
   ],
   "source": [
    "dict['Age']"
   ]
  },
  {
   "cell_type": "code",
   "execution_count": 51,
   "metadata": {},
   "outputs": [
    {
     "data": {
      "text/plain": [
       "dict_items([('Name', 'Pierre'), ('Age', 24), ('Nationality', 'French')])"
      ]
     },
     "execution_count": 51,
     "metadata": {},
     "output_type": "execute_result"
    }
   ],
   "source": [
    "dict.items()"
   ]
  },
  {
   "cell_type": "code",
   "execution_count": 52,
   "metadata": {},
   "outputs": [
    {
     "data": {
      "text/plain": [
       "dict_keys(['Name', 'Age', 'Nationality'])"
      ]
     },
     "execution_count": 52,
     "metadata": {},
     "output_type": "execute_result"
    }
   ],
   "source": [
    "dict.keys()"
   ]
  },
  {
   "cell_type": "code",
   "execution_count": 53,
   "metadata": {},
   "outputs": [],
   "source": [
    "#Type 'Tab' to get the function key words"
   ]
  },
  {
   "cell_type": "markdown",
   "metadata": {},
   "source": [
    "### Lambda Functions"
   ]
  },
  {
   "cell_type": "markdown",
   "metadata": {},
   "source": [
    "Only call a function from one place\n",
    "- Function: def f(x):return x*x\n",
    "- Lambda: f = lambda x: x*x"
   ]
  },
  {
   "cell_type": "code",
   "execution_count": 54,
   "metadata": {},
   "outputs": [
    {
     "data": {
      "text/plain": [
       "8"
      ]
     },
     "execution_count": 54,
     "metadata": {},
     "output_type": "execute_result"
    }
   ],
   "source": [
    "f = lambda x: x**2 + 2*x + 5\n",
    "f(1)"
   ]
  },
  {
   "cell_type": "code",
   "execution_count": 55,
   "metadata": {},
   "outputs": [
    {
     "data": {
      "text/plain": [
       "7"
      ]
     },
     "execution_count": 55,
     "metadata": {},
     "output_type": "execute_result"
    }
   ],
   "source": [
    "f = lambda x,y,z: x+y+z\n",
    "f(1,2,4)"
   ]
  },
  {
   "cell_type": "markdown",
   "metadata": {},
   "source": [
    "## List Comprehensions"
   ]
  },
  {
   "cell_type": "code",
   "execution_count": 56,
   "metadata": {},
   "outputs": [
    {
     "name": "stdout",
     "output_type": "stream",
     "text": [
      "['E', 'D', 'H', 'E', 'C']\n"
     ]
    }
   ],
   "source": [
    "list1 = []\n",
    "for char in 'EDHEC':\n",
    "    list1.append(char)\n",
    "\n",
    "print(list1)"
   ]
  },
  {
   "cell_type": "code",
   "execution_count": 57,
   "metadata": {},
   "outputs": [
    {
     "name": "stdout",
     "output_type": "stream",
     "text": [
      "['E', 'D', 'H', 'E', 'C']\n"
     ]
    }
   ],
   "source": [
    "list2 = [char for char in 'EDHEC']\n",
    "print(list2)"
   ]
  },
  {
   "cell_type": "code",
   "execution_count": 58,
   "metadata": {},
   "outputs": [
    {
     "name": "stdout",
     "output_type": "stream",
     "text": [
      "[0, 1, 4, 9, 16, 25, 36, 49, 64, 81, 100]\n"
     ]
    }
   ],
   "source": [
    "list1 = []\n",
    "for x in range (0,11):\n",
    "    list1.append(x**2)\n",
    "\n",
    "print(list1)"
   ]
  },
  {
   "cell_type": "code",
   "execution_count": 59,
   "metadata": {},
   "outputs": [
    {
     "name": "stdout",
     "output_type": "stream",
     "text": [
      "[0, 1, 4, 9, 16, 25, 36, 49, 64, 81, 100]\n"
     ]
    }
   ],
   "source": [
    "list2 = [x**2 for x in range(0,11)]\n",
    "print(list2)"
   ]
  },
  {
   "cell_type": "markdown",
   "metadata": {},
   "source": [
    "## Program Control Flow"
   ]
  },
  {
   "cell_type": "markdown",
   "metadata": {},
   "source": [
    "### Loops using for"
   ]
  },
  {
   "cell_type": "code",
   "execution_count": 60,
   "metadata": {},
   "outputs": [
    {
     "name": "stdout",
     "output_type": "stream",
     "text": [
      "cat 3\n",
      "monkey 6\n",
      "hippopotamus 12\n"
     ]
    }
   ],
   "source": [
    "words = ['cat','monkey','hippopotamus']\n",
    "for w in words:\n",
    "    print(w, len(w))"
   ]
  },
  {
   "cell_type": "code",
   "execution_count": 61,
   "metadata": {},
   "outputs": [
    {
     "name": "stdout",
     "output_type": "stream",
     "text": [
      "0 0\n",
      "1 1\n",
      "2 4\n",
      "3 9\n"
     ]
    }
   ],
   "source": [
    "for i in range(0,4):  #平方**\n",
    "    print(i, i**2)"
   ]
  },
  {
   "cell_type": "markdown",
   "metadata": {},
   "source": [
    "Range will always start at zero."
   ]
  },
  {
   "cell_type": "code",
   "execution_count": 62,
   "metadata": {},
   "outputs": [],
   "source": [
    "list1 = [\"Fred\", \"Pierre\",\"Sandrine\"]"
   ]
  },
  {
   "cell_type": "code",
   "execution_count": 63,
   "metadata": {},
   "outputs": [
    {
     "name": "stdout",
     "output_type": "stream",
     "text": [
      "Sandrine\n"
     ]
    }
   ],
   "source": [
    "for nm in list1:  #loop until the last of list\n",
    "    pass\n",
    "print(nm)"
   ]
  },
  {
   "cell_type": "code",
   "execution_count": 64,
   "metadata": {},
   "outputs": [
    {
     "name": "stdout",
     "output_type": "stream",
     "text": [
      "x =  0.00000, y =     1.00000\n",
      "x =  1.00000, y =     2.71828\n",
      "x =  2.00000, y =     7.38906\n",
      "x =  3.00000, y =    20.08554\n",
      "x =  4.00000, y =    54.59815\n",
      "x =  5.00000, y =   148.41316\n",
      "x =  6.00000, y =   403.42879\n",
      "x =  7.00000, y =  1096.63316\n",
      "x =  8.00000, y =  2980.95799\n",
      "x =  9.00000, y =  8103.08393\n"
     ]
    }
   ],
   "source": [
    "for x in range(0,10):\n",
    "    y = exp(x)\n",
    "    print(\"x =%9.5f, y =%12.5f\" %(x,y))"
   ]
  },
  {
   "cell_type": "markdown",
   "metadata": {},
   "source": [
    "### Control Flow using if, elif, else"
   ]
  },
  {
   "cell_type": "code",
   "execution_count": 65,
   "metadata": {},
   "outputs": [
    {
     "name": "stdout",
     "output_type": "stream",
     "text": [
      "x is positive and greater than 10\n"
     ]
    }
   ],
   "source": [
    "x = 25\n",
    "if x < 0:\n",
    "    print(\"x is negative\")\n",
    "elif x < 10:\n",
    "    print(\"x is positive but less than 10\")\n",
    "else:\n",
    "    print(\"x is positive and greater than 10\")"
   ]
  },
  {
   "cell_type": "markdown",
   "metadata": {},
   "source": [
    "### Control Flow using break"
   ]
  },
  {
   "cell_type": "markdown",
   "metadata": {},
   "source": [
    "Using break statement to jump out of an inner loop"
   ]
  },
  {
   "cell_type": "code",
   "execution_count": 66,
   "metadata": {},
   "outputs": [
    {
     "name": "stdout",
     "output_type": "stream",
     "text": [
      "2 is a prime number\n",
      "3 is a prime number\n",
      "4 equals 2 * 2.0\n",
      "5 is a prime number\n",
      "6 equals 2 * 3.0\n",
      "7 is a prime number\n",
      "8 equals 2 * 4.0\n",
      "9 equals 3 * 3.0\n"
     ]
    }
   ],
   "source": [
    "#找质数\n",
    "for n in range(2,10):\n",
    "    prime = True\n",
    "    for x in range(2,n):\n",
    "        if n % x == 0:   #整除%\n",
    "            print(n, 'equals', x, '*', n/x)\n",
    "            prime = False\n",
    "            break\n",
    "            \n",
    "    if prime == True:\n",
    "        print(n, 'is a prime number')"
   ]
  },
  {
   "cell_type": "markdown",
   "metadata": {},
   "source": [
    "## Functions"
   ]
  },
  {
   "cell_type": "markdown",
   "metadata": {},
   "source": [
    "### Using def"
   ]
  },
  {
   "cell_type": "code",
   "execution_count": 67,
   "metadata": {},
   "outputs": [],
   "source": [
    "from math import exp"
   ]
  },
  {
   "cell_type": "code",
   "execution_count": 68,
   "metadata": {},
   "outputs": [],
   "source": [
    "def sigmoid(x):\n",
    "    \"This function returns the value of the sigmoid function.\"\n",
    "    e = exp(-x)\n",
    "    s = 1.0/(1.0+e)\n",
    "    return s"
   ]
  },
  {
   "cell_type": "code",
   "execution_count": 69,
   "metadata": {},
   "outputs": [
    {
     "data": {
      "text/plain": [
       "0.5"
      ]
     },
     "execution_count": 69,
     "metadata": {},
     "output_type": "execute_result"
    }
   ],
   "source": [
    "sigmoid(0)"
   ]
  },
  {
   "cell_type": "code",
   "execution_count": 70,
   "metadata": {},
   "outputs": [
    {
     "name": "stdout",
     "output_type": "stream",
     "text": [
      "Help on function sigmoid in module __main__:\n",
      "\n",
      "sigmoid(x)\n",
      "    This function returns the value of the sigmoid function.\n",
      "\n"
     ]
    }
   ],
   "source": [
    "help(sigmoid)  #See the docstring in the function"
   ]
  },
  {
   "cell_type": "code",
   "execution_count": 71,
   "metadata": {},
   "outputs": [],
   "source": [
    "def sigmoid2(x):\n",
    "    e = exp(-x); s=1.0/(1.0+e)\n",
    "    return s, e"
   ]
  },
  {
   "cell_type": "code",
   "execution_count": 72,
   "metadata": {},
   "outputs": [
    {
     "name": "stdout",
     "output_type": "stream",
     "text": [
      "(0.5, 1.0)\n"
     ]
    }
   ],
   "source": [
    "z = sigmoid2(0)\n",
    "print(z)"
   ]
  },
  {
   "cell_type": "code",
   "execution_count": 73,
   "metadata": {},
   "outputs": [
    {
     "data": {
      "text/plain": [
       "1.0"
      ]
     },
     "execution_count": 73,
     "metadata": {},
     "output_type": "execute_result"
    }
   ],
   "source": [
    "z[1]"
   ]
  },
  {
   "cell_type": "code",
   "execution_count": 74,
   "metadata": {},
   "outputs": [
    {
     "name": "stdout",
     "output_type": "stream",
     "text": [
      "0.7310585786300049 0.36787944117144233\n"
     ]
    }
   ],
   "source": [
    "x, y = sigmoid2(1)\n",
    "print(x,y)"
   ]
  },
  {
   "cell_type": "markdown",
   "metadata": {},
   "source": [
    "### Function Default Arguments"
   ]
  },
  {
   "cell_type": "raw",
   "metadata": {},
   "source": [
    "Default arguments is to set some which almost never change and which saves the user from having to input a value."
   ]
  },
  {
   "cell_type": "code",
   "execution_count": 75,
   "metadata": {},
   "outputs": [],
   "source": [
    "import datetime as dt"
   ]
  },
  {
   "cell_type": "code",
   "execution_count": 76,
   "metadata": {},
   "outputs": [],
   "source": [
    "def year_frac(d1, d2, daysInYear = 365.252):\n",
    "    day_diff = d2 - d1\n",
    "    frac = day_diff.days / daysInYear\n",
    "    return frac"
   ]
  },
  {
   "cell_type": "code",
   "execution_count": 77,
   "metadata": {},
   "outputs": [],
   "source": [
    "trade_date = dt.date(2021,9,2)\n",
    "pay_date = dt.date(2021,11,19)"
   ]
  },
  {
   "cell_type": "code",
   "execution_count": 78,
   "metadata": {},
   "outputs": [
    {
     "data": {
      "text/plain": [
       "0.21666666666666667"
      ]
     },
     "execution_count": 78,
     "metadata": {},
     "output_type": "execute_result"
    }
   ],
   "source": [
    "year_frac(trade_date, pay_date, 360)"
   ]
  },
  {
   "cell_type": "code",
   "execution_count": 79,
   "metadata": {},
   "outputs": [
    {
     "data": {
      "text/plain": [
       "0.21355119205370537"
      ]
     },
     "execution_count": 79,
     "metadata": {},
     "output_type": "execute_result"
    }
   ],
   "source": [
    "year_frac(trade_date, pay_date)"
   ]
  },
  {
   "cell_type": "markdown",
   "metadata": {},
   "source": [
    "### Function Keyword Arguments"
   ]
  },
  {
   "cell_type": "code",
   "execution_count": 82,
   "metadata": {},
   "outputs": [
    {
     "data": {
      "text/plain": [
       "0.41341320512960916"
      ]
     },
     "execution_count": 82,
     "metadata": {},
     "output_type": "execute_result"
    }
   ],
   "source": [
    "startDt = dt.datetime(2011,1,1)\n",
    "endDt = dt.datetime(2011,6,1)\n",
    "year_frac(startDt, endDt)"
   ]
  },
  {
   "cell_type": "code",
   "execution_count": 83,
   "metadata": {},
   "outputs": [
    {
     "data": {
      "text/plain": [
       "0.41341320512960916"
      ]
     },
     "execution_count": 83,
     "metadata": {},
     "output_type": "execute_result"
    }
   ],
   "source": [
    "year_frac(d1=startDt,d2=endDt)"
   ]
  },
  {
   "cell_type": "code",
   "execution_count": 84,
   "metadata": {},
   "outputs": [
    {
     "data": {
      "text/plain": [
       "-0.41341320512960916"
      ]
     },
     "execution_count": 84,
     "metadata": {},
     "output_type": "execute_result"
    }
   ],
   "source": [
    "year_frac(d2=startDt,d1=endDt)"
   ]
  },
  {
   "cell_type": "markdown",
   "metadata": {},
   "source": [
    "## Lambda Functions"
   ]
  },
  {
   "cell_type": "code",
   "execution_count": 85,
   "metadata": {},
   "outputs": [],
   "source": [
    "#def f(x):return x*x\n",
    "f = lambda x: x*x"
   ]
  },
  {
   "cell_type": "code",
   "execution_count": 86,
   "metadata": {},
   "outputs": [],
   "source": [
    "f = lambda x, y, z:x+y+z"
   ]
  },
  {
   "cell_type": "markdown",
   "metadata": {},
   "source": [
    "## String Manipulation"
   ]
  },
  {
   "cell_type": "code",
   "execution_count": 87,
   "metadata": {},
   "outputs": [],
   "source": [
    "s = \"EDHEC is a Business School\""
   ]
  },
  {
   "cell_type": "code",
   "execution_count": 89,
   "metadata": {},
   "outputs": [
    {
     "data": {
      "text/plain": [
       "26"
      ]
     },
     "execution_count": 89,
     "metadata": {},
     "output_type": "execute_result"
    }
   ],
   "source": [
    "len(s)"
   ]
  },
  {
   "cell_type": "code",
   "execution_count": 90,
   "metadata": {},
   "outputs": [
    {
     "data": {
      "text/plain": [
       "'C'"
      ]
     },
     "execution_count": 90,
     "metadata": {},
     "output_type": "execute_result"
    }
   ],
   "source": [
    "s[4]"
   ]
  },
  {
   "cell_type": "code",
   "execution_count": 91,
   "metadata": {
    "scrolled": true
   },
   "outputs": [
    {
     "data": {
      "text/plain": [
       "str"
      ]
     },
     "execution_count": 91,
     "metadata": {},
     "output_type": "execute_result"
    }
   ],
   "source": [
    "type(s)"
   ]
  },
  {
   "cell_type": "code",
   "execution_count": 92,
   "metadata": {},
   "outputs": [
    {
     "data": {
      "text/plain": [
       "' Busi'"
      ]
     },
     "execution_count": 92,
     "metadata": {},
     "output_type": "execute_result"
    }
   ],
   "source": [
    "s[10:15]"
   ]
  },
  {
   "cell_type": "code",
   "execution_count": 94,
   "metadata": {},
   "outputs": [
    {
     "data": {
      "text/plain": [
       "4"
      ]
     },
     "execution_count": 94,
     "metadata": {},
     "output_type": "execute_result"
    }
   ],
   "source": [
    "#查找s有几个\n",
    "s.count('s')"
   ]
  },
  {
   "cell_type": "code",
   "execution_count": 95,
   "metadata": {},
   "outputs": [
    {
     "data": {
      "text/plain": [
       "11"
      ]
     },
     "execution_count": 95,
     "metadata": {},
     "output_type": "execute_result"
    }
   ],
   "source": [
    "s.find('B')"
   ]
  },
  {
   "cell_type": "code",
   "execution_count": 96,
   "metadata": {},
   "outputs": [
    {
     "data": {
      "text/plain": [
       "'B'"
      ]
     },
     "execution_count": 96,
     "metadata": {},
     "output_type": "execute_result"
    }
   ],
   "source": [
    "s[11]"
   ]
  },
  {
   "cell_type": "code",
   "execution_count": 97,
   "metadata": {},
   "outputs": [
    {
     "data": {
      "text/plain": [
       "-1"
      ]
     },
     "execution_count": 97,
     "metadata": {},
     "output_type": "execute_result"
    }
   ],
   "source": [
    "s.find('X')"
   ]
  },
  {
   "cell_type": "markdown",
   "metadata": {},
   "source": [
    "-1 means not find"
   ]
  },
  {
   "cell_type": "code",
   "execution_count": 98,
   "metadata": {},
   "outputs": [
    {
     "data": {
      "text/plain": [
       "'EDHEC is the Business School'"
      ]
     },
     "execution_count": 98,
     "metadata": {},
     "output_type": "execute_result"
    }
   ],
   "source": [
    "s.replace('a','the')"
   ]
  },
  {
   "cell_type": "code",
   "execution_count": 99,
   "metadata": {},
   "outputs": [
    {
     "data": {
      "text/plain": [
       "'edhec is a business school'"
      ]
     },
     "execution_count": 99,
     "metadata": {},
     "output_type": "execute_result"
    }
   ],
   "source": [
    "s.lower()"
   ]
  },
  {
   "cell_type": "code",
   "execution_count": 100,
   "metadata": {},
   "outputs": [
    {
     "data": {
      "text/plain": [
       "'EDHEC IS A BUSINESS SCHOOL'"
      ]
     },
     "execution_count": 100,
     "metadata": {},
     "output_type": "execute_result"
    }
   ],
   "source": [
    "s.upper()"
   ]
  },
  {
   "cell_type": "markdown",
   "metadata": {},
   "source": [
    "## Python File I/O"
   ]
  },
  {
   "cell_type": "markdown",
   "metadata": {},
   "source": [
    "### Organising data folders"
   ]
  },
  {
   "cell_type": "markdown",
   "metadata": {},
   "source": [
    "Copy the folder data into the same folder as the notebook"
   ]
  },
  {
   "cell_type": "markdown",
   "metadata": {},
   "source": [
    "### Getting  a list of Files"
   ]
  },
  {
   "cell_type": "markdown",
   "metadata": {},
   "source": [
    "Find the file before opening it"
   ]
  },
  {
   "cell_type": "code",
   "execution_count": 119,
   "metadata": {},
   "outputs": [
    {
     "name": "stdout",
     "output_type": "stream",
     "text": [
      "['giltBondPrices.txt', '.DS_Store', 'index', 'optionPortfolio.csv']\n"
     ]
    }
   ],
   "source": [
    "mypath = \"./data/\"\n",
    "import os\n",
    "files = os.listdir(mypath)\n",
    "print(files)"
   ]
  },
  {
   "cell_type": "markdown",
   "metadata": {},
   "source": [
    "Use a pattern matching filter, glob library"
   ]
  },
  {
   "cell_type": "code",
   "execution_count": 120,
   "metadata": {},
   "outputs": [
    {
     "name": "stdout",
     "output_type": "stream",
     "text": [
      "['./data/giltBondPrices.txt']\n"
     ]
    }
   ],
   "source": [
    "import glob\n",
    "files = glob.glob(\"./data/*.txt\")\n",
    "print(files)"
   ]
  },
  {
   "cell_type": "markdown",
   "metadata": {},
   "source": [
    "### Reading from a File"
   ]
  },
  {
   "cell_type": "markdown",
   "metadata": {},
   "source": [
    "- Using open() with 'r';\n",
    "- Create a file object that use to extract file content;\n",
    "- Read whole file into a list object using readlines();\n",
    "- Detect EOL characters in the file."
   ]
  },
  {
   "cell_type": "code",
   "execution_count": 121,
   "metadata": {},
   "outputs": [],
   "source": [
    "filename = \"./data/giltBondPrices.txt\"\n",
    "f = open(filename,'r')\n",
    "lines = f.readlines()\n",
    "f.close()"
   ]
  },
  {
   "cell_type": "code",
   "execution_count": 122,
   "metadata": {},
   "outputs": [
    {
     "data": {
      "text/plain": [
       "['epic\\tdescription\\tcoupon\\tmaturity\\tbid\\task\\tchange\\tincome yield\\tgross redemption yield\\n',\n",
       " 'TR13\\tUk Gilt Treasury Stk\\t4.5\\t07-Mar-13\\t101.92\\t102.07\\t-0.01\\t4.41\\t0.22\\n',\n",
       " 'T813\\tUk Gilt Treasury Stk\\t8\\t27-Sep-13\\t107.86\\t107.98\\t-0.03\\t7.41\\t0.23\\n',\n",
       " 'TR14\\tUk Gilt Treasury Stk\\t2.25\\t07-Mar-14\\t102.9\\t103.05\\t0.01\\t2.18\\t0.22\\n',\n",
       " 'T514\\tUk Gilt Treasury Stk\\t5\\t07-Sep-14\\t109.28\\t109.43\\t0.02\\t4.57\\t0.23\\n',\n",
       " 'TR15\\tUk Gilt Treasury Stk\\t2.75\\t22-Jan-15\\t105.57\\t105.68\\t0.05\\t2.6\\t0.33\\n',\n",
       " 'T4T\\tUk Gilt Treasury Stk\\t4.75\\t07-Sep-15\\t112.92\\t113.04\\t0.04\\t4.2\\t0.35\\n',\n",
       " 'TY8\\tUk Gilt Treasury Stk\\t8\\t07-Dec-15\\t124.39\\t124.55\\t0.04\\t6.43\\t0.34\\n',\n",
       " 'TS16\\tUk Gilt Treasury Stk\\t2\\t22-Jan-16\\t104.92\\t105.04\\t0.07\\t1.91\\t0.49\\n',\n",
       " 'T16\\tUk Gilt Treasury Stk\\t4\\t07-Sep-16\\t113.44\\t113.55\\t0.08\\t3.52\\t0.56\\n',\n",
       " 'TR17\\tUk Gilt Treasury Stk\\t8.75\\t25-Aug-17\\t138.48\\t138.66\\t0.14\\t6.31\\t0.77\\n',\n",
       " 'T18\\tUk Gilt Treasury Stk\\t5\\t07-Mar-18\\t121.74\\t121.84\\t0.16\\t4.11\\t0.91\\n',\n",
       " 'T19\\tUk Gilt Treasury Stk\\t4.5\\t07-Mar-19\\t121.28\\t121.41\\t0.23\\t3.71\\t1.07\\n',\n",
       " 'TR19\\tUk Gilt Treasury Stk\\t3.75\\t07-Sep-19\\t116.5\\t117.13\\t0.26\\t3.21\\t1.22\\n',\n",
       " 'TS20\\tUk Gilt Treasury Stk\\t4.75\\t07-Mar-20\\t124.24\\t124.36\\t0.28\\t3.82\\t1.32\\n',\n",
       " 'TR20\\tUk Gilt Treasury Stk\\t3.75\\t07-Sep-20\\t117.25\\t117.5\\t0.32\\t3.19\\t1.43\\n',\n",
       " 'TR21\\tUk Gilt Treasury Stk\\t8\\t07-Jun-21\\t152.25\\t153.61\\t0.42\\t5.23\\t1.5\\n',\n",
       " 'TY21\\tUk Gilt Treasury Stk\\t3.75\\t07-Sep-21\\t117.62\\t117.77\\t0.38\\t3.19\\t1.62\\n',\n",
       " 'TR22\\tUk Gilt Treasury Stk\\t4\\t07-Mar-22\\t119.92\\t120.12\\t0.41\\t3.33\\t1.7\\n',\n",
       " 'TR25\\tUk Gilt Treasury Stk\\t5\\t07-Mar-25\\t131.89\\t132.19\\t0.52\\t3.79\\t2.07\\n',\n",
       " 'TR27\\tUk Gilt Treasury Stk\\t4.25\\t07-Dec-27\\t123.78\\t124.33\\t0.58\\t3.43\\t2.36\\n',\n",
       " 'TR28\\tUk Gilt Treasury Stk\\t6\\t07-Dec-28\\t148.21\\t148.26\\t0.68\\t4.05\\t2.39\\n',\n",
       " 'TR30\\tUk Gilt Treasury Stk\\t4.75\\t07-Dec-30\\t130.96\\t131.14\\t0.55\\t3.62\\t2.6\\n',\n",
       " 'TR32\\tUk Gilt Treasury Stk\\t4.25\\t07-Jun-32\\t122.93\\t123.08\\t0.54\\t3.46\\t2.73\\n',\n",
       " 'T34\\tUk Gilt Treasury Stk\\t4.5\\t07-Sep-34\\t126.09\\t126.18\\t0.58\\t3.57\\t2.89\\n',\n",
       " 'T4Q\\tUk Gilt Treasury Stk\\t4.25\\t07-Mar-36\\t121.46\\t121.71\\t0.53\\t3.5\\t2.97\\n',\n",
       " 'TR38\\tUk Gilt Treasury Stk\\t4.75\\t07-Dec-38\\t130.7\\t130.8\\t0.55\\t3.63\\t3.04\\n',\n",
       " 'T39\\tUk Gilt Treasury Stk\\t4.25\\t07-Sep-39\\t120.9\\t121.15\\t0.54\\t3.51\\t3.09\\n',\n",
       " 'T40\\tUk Gilt Treasury Stk\\t4.25\\t07-Dec-40\\t120.55\\t120.93\\t0.53\\t3.52\\t3.14\\n',\n",
       " 'T42\\tUk Gilt Treasury Stk\\t4.5\\t07-Dec-42\\t125.77\\t126.07\\t0.58\\t3.57\\t3.16\\n',\n",
       " 'T46\\tUk Gilt Treasury Stk\\t4.25\\t07-Dec-46\\t120.93\\t121.37\\t0.56\\t3.51\\t3.22\\n',\n",
       " 'T49\\tUk Gilt Treasury Stk\\t4.25\\t07-Dec-49\\t120.99\\t121.34\\t0.53\\t3.51\\t3.26\\n',\n",
       " 'TR4Q\\tUk Gilt Treasury Stk\\t4.25\\t07-Dec-55\\t122.49\\t122.9\\t0.55\\t3.46\\t3.27\\n',\n",
       " 'TR60\\tUk Gilt Treasury Stk\\t4\\t22-Jan-60\\t117.6\\t118.06\\t0.51\\t3.39\\t3.26']"
      ]
     },
     "execution_count": 122,
     "metadata": {},
     "output_type": "execute_result"
    }
   ],
   "source": [
    "lines"
   ]
  },
  {
   "cell_type": "code",
   "execution_count": 123,
   "metadata": {},
   "outputs": [],
   "source": [
    "with open(filename,'r') as f:\n",
    "    lines = f.readlines()"
   ]
  },
  {
   "cell_type": "markdown",
   "metadata": {},
   "source": [
    "### Parsing Data in a File"
   ]
  },
  {
   "cell_type": "markdown",
   "metadata": {},
   "source": [
    "- Replace to remove the end of line character\n",
    "- Split data into columns using split command"
   ]
  },
  {
   "cell_type": "code",
   "execution_count": 124,
   "metadata": {},
   "outputs": [],
   "source": [
    "dataTable = []\n",
    "for line in lines:\n",
    "    line2 = line.replace(\"\\n\",\"\")\n",
    "    line3 = line2.split(\"\\t\")\n",
    "    dataTable.append(line3)"
   ]
  },
  {
   "cell_type": "code",
   "execution_count": 125,
   "metadata": {},
   "outputs": [
    {
     "data": {
      "text/plain": [
       "[['epic',\n",
       "  'description',\n",
       "  'coupon',\n",
       "  'maturity',\n",
       "  'bid',\n",
       "  'ask',\n",
       "  'change',\n",
       "  'income yield',\n",
       "  'gross redemption yield'],\n",
       " ['TR13',\n",
       "  'Uk Gilt Treasury Stk',\n",
       "  '4.5',\n",
       "  '07-Mar-13',\n",
       "  '101.92',\n",
       "  '102.07',\n",
       "  '-0.01',\n",
       "  '4.41',\n",
       "  '0.22'],\n",
       " ['T813',\n",
       "  'Uk Gilt Treasury Stk',\n",
       "  '8',\n",
       "  '27-Sep-13',\n",
       "  '107.86',\n",
       "  '107.98',\n",
       "  '-0.03',\n",
       "  '7.41',\n",
       "  '0.23'],\n",
       " ['TR14',\n",
       "  'Uk Gilt Treasury Stk',\n",
       "  '2.25',\n",
       "  '07-Mar-14',\n",
       "  '102.9',\n",
       "  '103.05',\n",
       "  '0.01',\n",
       "  '2.18',\n",
       "  '0.22'],\n",
       " ['T514',\n",
       "  'Uk Gilt Treasury Stk',\n",
       "  '5',\n",
       "  '07-Sep-14',\n",
       "  '109.28',\n",
       "  '109.43',\n",
       "  '0.02',\n",
       "  '4.57',\n",
       "  '0.23'],\n",
       " ['TR15',\n",
       "  'Uk Gilt Treasury Stk',\n",
       "  '2.75',\n",
       "  '22-Jan-15',\n",
       "  '105.57',\n",
       "  '105.68',\n",
       "  '0.05',\n",
       "  '2.6',\n",
       "  '0.33'],\n",
       " ['T4T',\n",
       "  'Uk Gilt Treasury Stk',\n",
       "  '4.75',\n",
       "  '07-Sep-15',\n",
       "  '112.92',\n",
       "  '113.04',\n",
       "  '0.04',\n",
       "  '4.2',\n",
       "  '0.35'],\n",
       " ['TY8',\n",
       "  'Uk Gilt Treasury Stk',\n",
       "  '8',\n",
       "  '07-Dec-15',\n",
       "  '124.39',\n",
       "  '124.55',\n",
       "  '0.04',\n",
       "  '6.43',\n",
       "  '0.34'],\n",
       " ['TS16',\n",
       "  'Uk Gilt Treasury Stk',\n",
       "  '2',\n",
       "  '22-Jan-16',\n",
       "  '104.92',\n",
       "  '105.04',\n",
       "  '0.07',\n",
       "  '1.91',\n",
       "  '0.49'],\n",
       " ['T16',\n",
       "  'Uk Gilt Treasury Stk',\n",
       "  '4',\n",
       "  '07-Sep-16',\n",
       "  '113.44',\n",
       "  '113.55',\n",
       "  '0.08',\n",
       "  '3.52',\n",
       "  '0.56'],\n",
       " ['TR17',\n",
       "  'Uk Gilt Treasury Stk',\n",
       "  '8.75',\n",
       "  '25-Aug-17',\n",
       "  '138.48',\n",
       "  '138.66',\n",
       "  '0.14',\n",
       "  '6.31',\n",
       "  '0.77'],\n",
       " ['T18',\n",
       "  'Uk Gilt Treasury Stk',\n",
       "  '5',\n",
       "  '07-Mar-18',\n",
       "  '121.74',\n",
       "  '121.84',\n",
       "  '0.16',\n",
       "  '4.11',\n",
       "  '0.91'],\n",
       " ['T19',\n",
       "  'Uk Gilt Treasury Stk',\n",
       "  '4.5',\n",
       "  '07-Mar-19',\n",
       "  '121.28',\n",
       "  '121.41',\n",
       "  '0.23',\n",
       "  '3.71',\n",
       "  '1.07'],\n",
       " ['TR19',\n",
       "  'Uk Gilt Treasury Stk',\n",
       "  '3.75',\n",
       "  '07-Sep-19',\n",
       "  '116.5',\n",
       "  '117.13',\n",
       "  '0.26',\n",
       "  '3.21',\n",
       "  '1.22'],\n",
       " ['TS20',\n",
       "  'Uk Gilt Treasury Stk',\n",
       "  '4.75',\n",
       "  '07-Mar-20',\n",
       "  '124.24',\n",
       "  '124.36',\n",
       "  '0.28',\n",
       "  '3.82',\n",
       "  '1.32'],\n",
       " ['TR20',\n",
       "  'Uk Gilt Treasury Stk',\n",
       "  '3.75',\n",
       "  '07-Sep-20',\n",
       "  '117.25',\n",
       "  '117.5',\n",
       "  '0.32',\n",
       "  '3.19',\n",
       "  '1.43'],\n",
       " ['TR21',\n",
       "  'Uk Gilt Treasury Stk',\n",
       "  '8',\n",
       "  '07-Jun-21',\n",
       "  '152.25',\n",
       "  '153.61',\n",
       "  '0.42',\n",
       "  '5.23',\n",
       "  '1.5'],\n",
       " ['TY21',\n",
       "  'Uk Gilt Treasury Stk',\n",
       "  '3.75',\n",
       "  '07-Sep-21',\n",
       "  '117.62',\n",
       "  '117.77',\n",
       "  '0.38',\n",
       "  '3.19',\n",
       "  '1.62'],\n",
       " ['TR22',\n",
       "  'Uk Gilt Treasury Stk',\n",
       "  '4',\n",
       "  '07-Mar-22',\n",
       "  '119.92',\n",
       "  '120.12',\n",
       "  '0.41',\n",
       "  '3.33',\n",
       "  '1.7'],\n",
       " ['TR25',\n",
       "  'Uk Gilt Treasury Stk',\n",
       "  '5',\n",
       "  '07-Mar-25',\n",
       "  '131.89',\n",
       "  '132.19',\n",
       "  '0.52',\n",
       "  '3.79',\n",
       "  '2.07'],\n",
       " ['TR27',\n",
       "  'Uk Gilt Treasury Stk',\n",
       "  '4.25',\n",
       "  '07-Dec-27',\n",
       "  '123.78',\n",
       "  '124.33',\n",
       "  '0.58',\n",
       "  '3.43',\n",
       "  '2.36'],\n",
       " ['TR28',\n",
       "  'Uk Gilt Treasury Stk',\n",
       "  '6',\n",
       "  '07-Dec-28',\n",
       "  '148.21',\n",
       "  '148.26',\n",
       "  '0.68',\n",
       "  '4.05',\n",
       "  '2.39'],\n",
       " ['TR30',\n",
       "  'Uk Gilt Treasury Stk',\n",
       "  '4.75',\n",
       "  '07-Dec-30',\n",
       "  '130.96',\n",
       "  '131.14',\n",
       "  '0.55',\n",
       "  '3.62',\n",
       "  '2.6'],\n",
       " ['TR32',\n",
       "  'Uk Gilt Treasury Stk',\n",
       "  '4.25',\n",
       "  '07-Jun-32',\n",
       "  '122.93',\n",
       "  '123.08',\n",
       "  '0.54',\n",
       "  '3.46',\n",
       "  '2.73'],\n",
       " ['T34',\n",
       "  'Uk Gilt Treasury Stk',\n",
       "  '4.5',\n",
       "  '07-Sep-34',\n",
       "  '126.09',\n",
       "  '126.18',\n",
       "  '0.58',\n",
       "  '3.57',\n",
       "  '2.89'],\n",
       " ['T4Q',\n",
       "  'Uk Gilt Treasury Stk',\n",
       "  '4.25',\n",
       "  '07-Mar-36',\n",
       "  '121.46',\n",
       "  '121.71',\n",
       "  '0.53',\n",
       "  '3.5',\n",
       "  '2.97'],\n",
       " ['TR38',\n",
       "  'Uk Gilt Treasury Stk',\n",
       "  '4.75',\n",
       "  '07-Dec-38',\n",
       "  '130.7',\n",
       "  '130.8',\n",
       "  '0.55',\n",
       "  '3.63',\n",
       "  '3.04'],\n",
       " ['T39',\n",
       "  'Uk Gilt Treasury Stk',\n",
       "  '4.25',\n",
       "  '07-Sep-39',\n",
       "  '120.9',\n",
       "  '121.15',\n",
       "  '0.54',\n",
       "  '3.51',\n",
       "  '3.09'],\n",
       " ['T40',\n",
       "  'Uk Gilt Treasury Stk',\n",
       "  '4.25',\n",
       "  '07-Dec-40',\n",
       "  '120.55',\n",
       "  '120.93',\n",
       "  '0.53',\n",
       "  '3.52',\n",
       "  '3.14'],\n",
       " ['T42',\n",
       "  'Uk Gilt Treasury Stk',\n",
       "  '4.5',\n",
       "  '07-Dec-42',\n",
       "  '125.77',\n",
       "  '126.07',\n",
       "  '0.58',\n",
       "  '3.57',\n",
       "  '3.16'],\n",
       " ['T46',\n",
       "  'Uk Gilt Treasury Stk',\n",
       "  '4.25',\n",
       "  '07-Dec-46',\n",
       "  '120.93',\n",
       "  '121.37',\n",
       "  '0.56',\n",
       "  '3.51',\n",
       "  '3.22'],\n",
       " ['T49',\n",
       "  'Uk Gilt Treasury Stk',\n",
       "  '4.25',\n",
       "  '07-Dec-49',\n",
       "  '120.99',\n",
       "  '121.34',\n",
       "  '0.53',\n",
       "  '3.51',\n",
       "  '3.26'],\n",
       " ['TR4Q',\n",
       "  'Uk Gilt Treasury Stk',\n",
       "  '4.25',\n",
       "  '07-Dec-55',\n",
       "  '122.49',\n",
       "  '122.9',\n",
       "  '0.55',\n",
       "  '3.46',\n",
       "  '3.27'],\n",
       " ['TR60',\n",
       "  'Uk Gilt Treasury Stk',\n",
       "  '4',\n",
       "  '22-Jan-60',\n",
       "  '117.6',\n",
       "  '118.06',\n",
       "  '0.51',\n",
       "  '3.39',\n",
       "  '3.26']]"
      ]
     },
     "execution_count": 125,
     "metadata": {},
     "output_type": "execute_result"
    }
   ],
   "source": [
    "dataTable"
   ]
  },
  {
   "cell_type": "markdown",
   "metadata": {},
   "source": [
    "### Writing to a File"
   ]
  },
  {
   "cell_type": "markdown",
   "metadata": {},
   "source": [
    "- Open new file using open() with 'w'\n",
    "- Open an existing one with 'a' for append|"
   ]
  },
  {
   "cell_type": "code",
   "execution_count": 129,
   "metadata": {},
   "outputs": [],
   "source": [
    "with open(filename,'w') as f:\n",
    "    f.write(\"Hello World\")\n",
    "\n",
    "f = open(filename,'r')\n",
    "lines = f.readlines()\n",
    "f.close()"
   ]
  },
  {
   "cell_type": "code",
   "execution_count": 127,
   "metadata": {},
   "outputs": [
    {
     "data": {
      "text/plain": [
       "['Hello World']"
      ]
     },
     "execution_count": 127,
     "metadata": {},
     "output_type": "execute_result"
    }
   ],
   "source": [
    "lines"
   ]
  },
  {
   "cell_type": "markdown",
   "metadata": {},
   "source": [
    "## Using the Libraries"
   ]
  },
  {
   "cell_type": "markdown",
   "metadata": {},
   "source": [
    "pip is the name of the program that you use to install new or update existing libraries in the Python package. It's a command line in cmd."
   ]
  },
  {
   "cell_type": "markdown",
   "metadata": {},
   "source": [
    "- Numpy: Fast mathematics library with vectorization\n",
    "- Scipy: Math functions, statstics and optimizers\n",
    "- Pandas: Advanced manipulation of data tables\n",
    "- Matplotlib: Advanced plotting and visualisation\n",
    "- Statsmodels: Time series analysis / econometrics\n",
    "- Numba: High performance calculations"
   ]
  },
  {
   "cell_type": "markdown",
   "metadata": {},
   "source": [
    "## Libraries: NumPy and Numba"
   ]
  },
  {
   "cell_type": "markdown",
   "metadata": {},
   "source": [
    "NumPy is Numerical Python, dedicated for numerical work.\n",
    "It uses less memory as it uses numpy arrays, assuming data members are all the same (calcualtion faster)"
   ]
  },
  {
   "cell_type": "code",
   "execution_count": 133,
   "metadata": {},
   "outputs": [],
   "source": [
    "import numpy as np"
   ]
  },
  {
   "cell_type": "markdown",
   "metadata": {},
   "source": [
    "### Create a NumPy Array"
   ]
  },
  {
   "cell_type": "markdown",
   "metadata": {},
   "source": [
    "ndarray is multidimensional array type\n",
    "\n",
    "ndarray.ndim: number of dimensions\n",
    "\n",
    "ndarray.shap: shape tuple of the size in each dimension"
   ]
  },
  {
   "cell_type": "code",
   "execution_count": 137,
   "metadata": {},
   "outputs": [],
   "source": [
    "#Converting a list\n",
    "x = np.array([3,4,5,2])"
   ]
  },
  {
   "cell_type": "code",
   "execution_count": 138,
   "metadata": {},
   "outputs": [
    {
     "data": {
      "text/plain": [
       "numpy.ndarray"
      ]
     },
     "execution_count": 138,
     "metadata": {},
     "output_type": "execute_result"
    }
   ],
   "source": [
    "type(x)"
   ]
  },
  {
   "cell_type": "code",
   "execution_count": 139,
   "metadata": {},
   "outputs": [
    {
     "data": {
      "text/plain": [
       "array([3, 4, 5, 2])"
      ]
     },
     "execution_count": 139,
     "metadata": {},
     "output_type": "execute_result"
    }
   ],
   "source": [
    "x"
   ]
  },
  {
   "cell_type": "code",
   "execution_count": 140,
   "metadata": {},
   "outputs": [
    {
     "data": {
      "text/plain": [
       "4"
      ]
     },
     "execution_count": 140,
     "metadata": {},
     "output_type": "execute_result"
    }
   ],
   "source": [
    "x[1]"
   ]
  },
  {
   "cell_type": "code",
   "execution_count": 142,
   "metadata": {},
   "outputs": [
    {
     "data": {
      "text/plain": [
       "14"
      ]
     },
     "execution_count": 142,
     "metadata": {},
     "output_type": "execute_result"
    }
   ],
   "source": [
    "x.sum()"
   ]
  },
  {
   "cell_type": "code",
   "execution_count": 143,
   "metadata": {},
   "outputs": [],
   "source": [
    "#Use zeros to create a 10-element arrays of zeros\n",
    "x2 = np.zeros(10) "
   ]
  },
  {
   "cell_type": "code",
   "execution_count": 144,
   "metadata": {},
   "outputs": [
    {
     "data": {
      "text/plain": [
       "array([0., 0., 0., 0., 0., 0., 0., 0., 0., 0.])"
      ]
     },
     "execution_count": 144,
     "metadata": {},
     "output_type": "execute_result"
    }
   ],
   "source": [
    "x2"
   ]
  },
  {
   "cell_type": "code",
   "execution_count": 145,
   "metadata": {},
   "outputs": [],
   "source": [
    "x3 = np.ones(10)"
   ]
  },
  {
   "cell_type": "code",
   "execution_count": 146,
   "metadata": {},
   "outputs": [
    {
     "data": {
      "text/plain": [
       "array([1., 1., 1., 1., 1., 1., 1., 1., 1., 1.])"
      ]
     },
     "execution_count": 146,
     "metadata": {},
     "output_type": "execute_result"
    }
   ],
   "source": [
    "x3"
   ]
  },
  {
   "cell_type": "code",
   "execution_count": 149,
   "metadata": {},
   "outputs": [],
   "source": [
    "#Use shape tuple to create multi-dimensional arrays\n",
    "x4 = np.zeros((3,2))"
   ]
  },
  {
   "cell_type": "code",
   "execution_count": 150,
   "metadata": {},
   "outputs": [
    {
     "data": {
      "text/plain": [
       "array([[0., 0.],\n",
       "       [0., 0.],\n",
       "       [0., 0.]])"
      ]
     },
     "execution_count": 150,
     "metadata": {},
     "output_type": "execute_result"
    }
   ],
   "source": [
    "x4"
   ]
  },
  {
   "cell_type": "code",
   "execution_count": 152,
   "metadata": {},
   "outputs": [
    {
     "data": {
      "text/plain": [
       "array([[[1., 1., 1.],\n",
       "        [1., 1., 1.],\n",
       "        [1., 1., 1.],\n",
       "        [1., 1., 1.],\n",
       "        [1., 1., 1.]],\n",
       "\n",
       "       [[1., 1., 1.],\n",
       "        [1., 1., 1.],\n",
       "        [1., 1., 1.],\n",
       "        [1., 1., 1.],\n",
       "        [1., 1., 1.]],\n",
       "\n",
       "       [[1., 1., 1.],\n",
       "        [1., 1., 1.],\n",
       "        [1., 1., 1.],\n",
       "        [1., 1., 1.],\n",
       "        [1., 1., 1.]],\n",
       "\n",
       "       [[1., 1., 1.],\n",
       "        [1., 1., 1.],\n",
       "        [1., 1., 1.],\n",
       "        [1., 1., 1.],\n",
       "        [1., 1., 1.]]])"
      ]
     },
     "execution_count": 152,
     "metadata": {},
     "output_type": "execute_result"
    }
   ],
   "source": [
    "x5 = np.ones((4,5,3))\n",
    "x5"
   ]
  },
  {
   "cell_type": "code",
   "execution_count": 153,
   "metadata": {},
   "outputs": [],
   "source": [
    "x5[3,4,2] = 99  #amend the element in arrays"
   ]
  },
  {
   "cell_type": "code",
   "execution_count": 154,
   "metadata": {},
   "outputs": [
    {
     "data": {
      "text/plain": [
       "array([[[ 1.,  1.,  1.],\n",
       "        [ 1.,  1.,  1.],\n",
       "        [ 1.,  1.,  1.],\n",
       "        [ 1.,  1.,  1.],\n",
       "        [ 1.,  1.,  1.]],\n",
       "\n",
       "       [[ 1.,  1.,  1.],\n",
       "        [ 1.,  1.,  1.],\n",
       "        [ 1.,  1.,  1.],\n",
       "        [ 1.,  1.,  1.],\n",
       "        [ 1.,  1.,  1.]],\n",
       "\n",
       "       [[ 1.,  1.,  1.],\n",
       "        [ 1.,  1.,  1.],\n",
       "        [ 1.,  1.,  1.],\n",
       "        [ 1.,  1.,  1.],\n",
       "        [ 1.,  1.,  1.]],\n",
       "\n",
       "       [[ 1.,  1.,  1.],\n",
       "        [ 1.,  1.,  1.],\n",
       "        [ 1.,  1.,  1.],\n",
       "        [ 1.,  1.,  1.],\n",
       "        [ 1.,  1., 99.]]])"
      ]
     },
     "execution_count": 154,
     "metadata": {},
     "output_type": "execute_result"
    }
   ],
   "source": [
    "x5"
   ]
  },
  {
   "cell_type": "markdown",
   "metadata": {},
   "source": [
    "### linspace and arange"
   ]
  },
  {
   "cell_type": "markdown",
   "metadata": {},
   "source": [
    "linspace: get a list of values evenly spaced between two values"
   ]
  },
  {
   "cell_type": "code",
   "execution_count": 166,
   "metadata": {},
   "outputs": [
    {
     "data": {
      "text/plain": [
       "array([ 0. ,  2.5,  5. ,  7.5, 10. ])"
      ]
     },
     "execution_count": 166,
     "metadata": {},
     "output_type": "execute_result"
    }
   ],
   "source": [
    "#Values between 0 and 10 with 5 evenly spaced values returned\n",
    "np.linspace(0,10,5) "
   ]
  },
  {
   "cell_type": "markdown",
   "metadata": {},
   "source": [
    "! Don't pass 4, if want a list of integers, just use arrange"
   ]
  },
  {
   "cell_type": "code",
   "execution_count": 169,
   "metadata": {},
   "outputs": [
    {
     "name": "stdout",
     "output_type": "stream",
     "text": [
      "[0 1 2 3 4 5 6 7 8 9]\n"
     ]
    }
   ],
   "source": [
    "l = np.arange(10)\n",
    "print(l)"
   ]
  },
  {
   "cell_type": "markdown",
   "metadata": {},
   "source": [
    "### Random Numbers in NumPy"
   ]
  },
  {
   "cell_type": "markdown",
   "metadata": {},
   "source": [
    "numpy.random: a lot of random number distributions built-in"
   ]
  },
  {
   "cell_type": "code",
   "execution_count": 155,
   "metadata": {},
   "outputs": [
    {
     "data": {
      "text/plain": [
       "96"
      ]
     },
     "execution_count": 155,
     "metadata": {},
     "output_type": "execute_result"
    }
   ],
   "source": [
    "np.random.randint(1, 101) #random int between 1 and 100"
   ]
  },
  {
   "cell_type": "code",
   "execution_count": 162,
   "metadata": {},
   "outputs": [],
   "source": [
    "# For reproducibility set the seed\n",
    "np.random.seed(18)"
   ]
  },
  {
   "cell_type": "markdown",
   "metadata": {},
   "source": [
    "! Give the same sequence of random numbers each time you run the code"
   ]
  },
  {
   "cell_type": "code",
   "execution_count": 163,
   "metadata": {},
   "outputs": [
    {
     "name": "stdout",
     "output_type": "stream",
     "text": [
      "[0.65037424 0.50545337 0.87860147 0.18184023 0.85223307 0.75013629\n",
      " 0.66610167 0.98789545 0.25696842 0.02830593]\n"
     ]
    }
   ],
   "source": [
    "# Uniform random numbers\n",
    "x = np.random.rand(10)\n",
    "print(x)"
   ]
  },
  {
   "cell_type": "code",
   "execution_count": 164,
   "metadata": {},
   "outputs": [
    {
     "name": "stdout",
     "output_type": "stream",
     "text": [
      "[[ 1.00890349  0.39424879 -0.3363867  -0.64590646  0.80545771]\n",
      " [ 0.41644284  0.57461975 -1.10167133 -0.99475687  1.34551948]\n",
      " [ 0.58186781  0.53723871  2.06704686 -0.29032412  0.60136507]\n",
      " [-0.56452682 -1.16795166 -1.02200224  0.88351955 -0.53374449]\n",
      " [-1.35043218  0.23009402  0.89485483  1.37075992  2.4637016 ]]\n"
     ]
    }
   ],
   "source": [
    "#Gaussian random numbers 描述正态分布的随机数\n",
    "r = np.random.normal(size=(5,5))\n",
    "print(r)"
   ]
  },
  {
   "cell_type": "markdown",
   "metadata": {},
   "source": [
    "### NumPy Vectorisation"
   ]
  },
  {
   "cell_type": "markdown",
   "metadata": {},
   "source": [
    "NumPy's function allows vectorisation, which Python's functions do not. "
   ]
  },
  {
   "cell_type": "code",
   "execution_count": 170,
   "metadata": {},
   "outputs": [
    {
     "name": "stdout",
     "output_type": "stream",
     "text": [
      "[1.0124089  2.00418597 1.70686646 1.08235012 1.01373092 1.32029215\n",
      " 2.71118357 1.25307513 1.11072766 1.01643436]\n"
     ]
    }
   ],
   "source": [
    "x = np.random.rand(10)\n",
    "y = np.exp(x)\n",
    "print(y)"
   ]
  },
  {
   "cell_type": "markdown",
   "metadata": {},
   "source": [
    "### Speed Test: Compare Python vs NumPy"
   ]
  },
  {
   "cell_type": "code",
   "execution_count": 134,
   "metadata": {},
   "outputs": [],
   "source": [
    "# Speed Test: Python vs NumPy\n",
    "\n",
    "#Generate 10,000 random numbers\n",
    "from math import exp\n",
    "num_elements = 10000\n",
    "rv= np.random.rand(num_elements)\n",
    "\n",
    "#Function f1 stores 10,000 values of the exponential in array x\n",
    "def f1(rvector):\n",
    "    x = []\n",
    "    for rv in rvector: \n",
    "        x.append(exp(rv))\n",
    "    return x"
   ]
  },
  {
   "cell_type": "code",
   "execution_count": 135,
   "metadata": {},
   "outputs": [
    {
     "name": "stdout",
     "output_type": "stream",
     "text": [
      "2.76 ms ± 491 µs per loop (mean ± std. dev. of 7 runs, 100 loops each)\n"
     ]
    }
   ],
   "source": [
    "#Timing\n",
    "%timeit f1(rv)"
   ]
  },
  {
   "cell_type": "markdown",
   "metadata": {},
   "source": [
    "%timeit: usefull function to calculate the average running time"
   ]
  },
  {
   "cell_type": "code",
   "execution_count": 136,
   "metadata": {},
   "outputs": [],
   "source": [
    "#Vectorized Calculations are fast\n",
    "def f2(rv):\n",
    "    x = np.exp(rv)\n",
    "    return x"
   ]
  },
  {
   "cell_type": "code",
   "execution_count": 137,
   "metadata": {},
   "outputs": [
    {
     "name": "stdout",
     "output_type": "stream",
     "text": [
      "23.8 µs ± 2.52 µs per loop (mean ± std. dev. of 7 runs, 10000 loops each)\n"
     ]
    }
   ],
   "source": [
    "#Timing of Vectorized calculations\n",
    "%timeit x = f2(rv)"
   ]
  },
  {
   "cell_type": "markdown",
   "metadata": {},
   "source": [
    "#### NumPy Vectorized calculations are fast !"
   ]
  },
  {
   "cell_type": "markdown",
   "metadata": {},
   "source": [
    "### Numba"
   ]
  },
  {
   "cell_type": "markdown",
   "metadata": {},
   "source": [
    "Numba uses a just-in-time(JIT) compiler to convert code to native machine code. Working best when NumPy vectorization is not possible."
   ]
  },
  {
   "cell_type": "code",
   "execution_count": 138,
   "metadata": {},
   "outputs": [],
   "source": [
    "from numba import njit\n",
    "@njit\n",
    "def f3(rv):\n",
    "    x = []\n",
    "    for r in rv:\n",
    "        x.append(exp(r))\n",
    "    return x"
   ]
  },
  {
   "cell_type": "code",
   "execution_count": 139,
   "metadata": {},
   "outputs": [
    {
     "name": "stdout",
     "output_type": "stream",
     "text": [
      "23.6 µs ± 2.96 µs per loop (mean ± std. dev. of 7 runs, 10000 loops each)\n"
     ]
    }
   ],
   "source": [
    "#Timing\n",
    "%timeit x = f2(rv)"
   ]
  },
  {
   "cell_type": "markdown",
   "metadata": {},
   "source": [
    "## Libraries: Matplotlib"
   ]
  },
  {
   "cell_type": "markdown",
   "metadata": {},
   "source": [
    "Matplotlib is 2D and 3D plotting library which produces publiciation quality figures in a variety of hardcopy formats. \n",
    "The subsection of Matplotlib is called pyplot."
   ]
  },
  {
   "cell_type": "code",
   "execution_count": 140,
   "metadata": {},
   "outputs": [],
   "source": [
    "import matplotlib.pyplot as plt"
   ]
  },
  {
   "cell_type": "markdown",
   "metadata": {},
   "source": [
    "### Simple Plots"
   ]
  },
  {
   "cell_type": "code",
   "execution_count": 141,
   "metadata": {},
   "outputs": [
    {
     "data": {
      "text/plain": [
       "<matplotlib.legend.Legend at 0x7fe224b43610>"
      ]
     },
     "execution_count": 141,
     "metadata": {},
     "output_type": "execute_result"
    },
    {
     "data": {
      "image/png": "[encoded data removed]",
      "text/plain": [
       "<Figure size 640x480 with 1 Axes>"
      ]
     },
     "metadata": {
      "needs_background": "light"
     },
     "output_type": "display_data"
    }
   ],
   "source": [
    "x = np.linspace(-np.pi,np.pi,256,endpoint = True)\n",
    "cx, sx = np.cos(x), np.sin(x)\n",
    "plt.figure(figsize=(8,6), dpi=80)\n",
    "plt.plot(x,cx,color='green', label=\"Cos(x)\",linewidth=2)\n",
    "plt.plot(x,sx,color='red', label=\"Sin(x)\", linewidth=2)\n",
    "plt.title(\"Trigonometric Functions\")\n",
    "plt.xlabel(\"Theta\")  #横坐标\n",
    "plt.legend()"
   ]
  },
  {
   "cell_type": "markdown",
   "metadata": {},
   "source": [
    "### Scatterplots"
   ]
  },
  {
   "cell_type": "code",
   "execution_count": 142,
   "metadata": {},
   "outputs": [
    {
     "data": {
      "text/plain": [
       "Text(0.5, 1.0, 'Scatter Plot')"
      ]
     },
     "execution_count": 142,
     "metadata": {},
     "output_type": "execute_result"
    },
    {
     "data": {
      "image/png": "[encoded data removed]",
      "text/plain": [
       "<Figure size 640x480 with 1 Axes>"
      ]
     },
     "metadata": {
      "needs_background": "light"
     },
     "output_type": "display_data"
    }
   ],
   "source": [
    "y = np.random.standard_normal((1000,2))\n",
    "plt.figure(figsize=(8,6),dpi=80)\n",
    "plt.plot(y[:,0],y[:,1],'ro')   #'ro' means red\n",
    "plt.grid(True)\n",
    "plt.xlabel('1st')\n",
    "plt.ylabel('2nd')\n",
    "plt.title('Scatter Plot')"
   ]
  },
  {
   "cell_type": "markdown",
   "metadata": {},
   "source": [
    "Colors: b = blue, g=green, y=yellow, w=white, m=magenta, k=black"
   ]
  },
  {
   "cell_type": "markdown",
   "metadata": {},
   "source": [
    "Markers: .=dot, o=circle, *=star, -=lines, v=triangle down, s=square, h=hexagon, +=plus"
   ]
  },
  {
   "cell_type": "markdown",
   "metadata": {},
   "source": [
    "### Scatterplots with colored points - use a ColorMap"
   ]
  },
  {
   "cell_type": "code",
   "execution_count": 143,
   "metadata": {},
   "outputs": [
    {
     "data": {
      "text/plain": [
       "<matplotlib.collections.PathCollection at 0x7fe224adb5d0>"
      ]
     },
     "execution_count": 143,
     "metadata": {},
     "output_type": "execute_result"
    },
    {
     "data": {
      "image/png": "[encoded data removed]",
      "text/plain": [
       "<Figure size 432x288 with 1 Axes>"
      ]
     },
     "metadata": {
      "needs_background": "light"
     },
     "output_type": "display_data"
    }
   ],
   "source": [
    "#ColorMap\n",
    "from matplotlib import colors\n",
    "colours = ['red', 'green','blue']\n",
    "c = np.random.randint(0,len(colours),len(y))\n",
    "cmap = colors.ListedColormap(colours)\n",
    "plt.scatter(y[:,0],y[:,1],c=c, marker='o',cmap=cmap, alpha=0.6)"
   ]
  },
  {
   "cell_type": "markdown",
   "metadata": {},
   "source": [
    "### Bar Charts"
   ]
  },
  {
   "cell_type": "code",
   "execution_count": 147,
   "metadata": {},
   "outputs": [
    {
     "data": {
      "text/plain": [
       "<matplotlib.legend.Legend at 0x7fe2252946d0>"
      ]
     },
     "execution_count": 147,
     "metadata": {},
     "output_type": "execute_result"
    },
    {
     "data": {
      "image/png": "[encoded data removed]",
      "text/plain": [
       "<Figure size 640x480 with 1 Axes>"
      ]
     },
     "metadata": {
      "needs_background": "light"
     },
     "output_type": "display_data"
    }
   ],
   "source": [
    "import numpy as np\n",
    "import matplotlib.pyplot as plt\n",
    "n = 12\n",
    "x = np.arange(n)\n",
    "y1 = np.random.uniform(0.0,1.0,n)\n",
    "y2 = np.random.uniform(0.0,1.0,n)\n",
    "plt.figure(figsize=(8,6),dpi=80)\n",
    "plt.bar(x,y1,facecolor='green',alpha=0.4,label=\"Y1\")\n",
    "plt.bar(x,y2,facecolor='red',alpha=0.4,label=\"Y2\")\n",
    "plt.xlabel(\"Month\")\n",
    "plt.ylabel(\"Value\")\n",
    "plt.legend()"
   ]
  },
  {
   "cell_type": "markdown",
   "metadata": {},
   "source": [
    "Alpha is the transparency so could see both columns"
   ]
  },
  {
   "cell_type": "markdown",
   "metadata": {},
   "source": [
    "### Horizonal Stacked Bar Charts and Ticks"
   ]
  },
  {
   "cell_type": "code",
   "execution_count": 149,
   "metadata": {},
   "outputs": [
    {
     "data": {
      "text/plain": [
       "<matplotlib.legend.Legend at 0x7fe22542e2d0>"
      ]
     },
     "execution_count": 149,
     "metadata": {},
     "output_type": "execute_result"
    },
    {
     "data": {
      "image/png": "[encoded data removed]",
      "text/plain": [
       "<Figure size 432x288 with 1 Axes>"
      ]
     },
     "metadata": {
      "needs_background": "light"
     },
     "output_type": "display_data"
    }
   ],
   "source": [
    "plt.barh(x,y1,facecolor='green',alpha=0.4,label=\"Y1\")\n",
    "plt.barh(x,y2,left=y1,facecolor='red',alpha=0.4,label=\"Y2\")\n",
    "plt.xlabel(\"Value\")\n",
    "plt.ylabel(\"Month\")\n",
    "plt.yticks(x,('Jan','Feb','Mar','Apr','May','Jun','Jul','Aug','Sep','Oct','Nov','Dec'))\n",
    "plt.legend()"
   ]
  },
  {
   "cell_type": "markdown",
   "metadata": {},
   "source": [
    "### Histograms"
   ]
  },
  {
   "cell_type": "code",
   "execution_count": 152,
   "metadata": {},
   "outputs": [
    {
     "name": "stderr",
     "output_type": "stream",
     "text": [
      "/Users/yangfeilin/opt/anaconda3/lib/python3.7/site-packages/ipykernel_launcher.py:3: MatplotlibDeprecationWarning: \n",
      "The 'normed' kwarg was deprecated in Matplotlib 2.1 and will be removed in 3.1. Use 'density' instead.\n",
      "  This is separate from the ipykernel package so we can avoid doing imports until\n"
     ]
    },
    {
     "data": {
      "image/png": "[encoded data removed]",
      "text/plain": [
       "<Figure size 640x480 with 1 Axes>"
      ]
     },
     "metadata": {},
     "output_type": "display_data"
    }
   ],
   "source": [
    "n = np.random.randn(1000)\n",
    "plt.figure(figsize=(8,6), dpi = 80)\n",
    "plt.hist(n, bins=20,alpha = 0.5, normed=1)  \n",
    "#normed=1, convert frequencies to probabilities\n",
    "#plt.style.use('ggplot')\n",
    "plt.title(\"Random Number Frequency Plot\")\n",
    "plt.xlim((min(n),max(n)))\n",
    "plt.xlabel(\"X\")\n",
    "plt.ylabel(\"PDF\")\n",
    "plt.grid(True)"
   ]
  },
  {
   "cell_type": "markdown",
   "metadata": {},
   "source": [
    "normed = 1 converts frequencies to probabilities"
   ]
  },
  {
   "cell_type": "markdown",
   "metadata": {},
   "source": [
    "### Use Styles to make good-looking figures "
   ]
  },
  {
   "cell_type": "code",
   "execution_count": 150,
   "metadata": {},
   "outputs": [],
   "source": [
    "plt.style.use('ggplot')\n",
    "#ggplot similar to style used in R"
   ]
  },
  {
   "cell_type": "code",
   "execution_count": 154,
   "metadata": {},
   "outputs": [],
   "source": [
    "#Recover default settings\n",
    "import matplotlib as mpl\n",
    "mpl.rcParams.update(mpl.rcParamsDefault)"
   ]
  },
  {
   "cell_type": "markdown",
   "metadata": {},
   "source": [
    "### Saving Plots to File"
   ]
  },
  {
   "cell_type": "code",
   "execution_count": 156,
   "metadata": {},
   "outputs": [
    {
     "data": {
      "text/plain": [
       "<Figure size 640x480 with 0 Axes>"
      ]
     },
     "metadata": {},
     "output_type": "display_data"
    }
   ],
   "source": [
    "#plt.savefig('surfaceplot.png')\n",
    "#plt.savefig('surfaceplot.jepg')\n",
    "plt.savefig('surfaceplot.pdf')"
   ]
  },
  {
   "cell_type": "markdown",
   "metadata": {},
   "source": [
    "## Libraries: Pandas"
   ]
  },
  {
   "cell_type": "markdown",
   "metadata": {},
   "source": [
    "Pandas (Panel data) enables to data analysis by twp key data types:\n",
    "- Series: data array with a named index\n",
    "- DataFrame: data matrix with labelled index and columns"
   ]
  },
  {
   "cell_type": "code",
   "execution_count": 195,
   "metadata": {},
   "outputs": [],
   "source": [
    "import pandas as pd"
   ]
  },
  {
   "cell_type": "markdown",
   "metadata": {},
   "source": [
    "Panda Series is like a numpy array with a named index; inputs are Data and Index."
   ]
  },
  {
   "cell_type": "code",
   "execution_count": 197,
   "metadata": {},
   "outputs": [
    {
     "data": {
      "text/plain": [
       "Q1    100\n",
       "Q2    200\n",
       "Q3    300\n",
       "Q4    342\n",
       "Q5    234\n",
       "dtype: int64"
      ]
     },
     "execution_count": 197,
     "metadata": {},
     "output_type": "execute_result"
    }
   ],
   "source": [
    "sales = pd.Series(data=[100,200,300,342,234], index=[\"Q1\",\"Q2\",\"Q3\",\"Q4\",\"Q5\"])\n",
    "sales"
   ]
  },
  {
   "cell_type": "code",
   "execution_count": 198,
   "metadata": {},
   "outputs": [
    {
     "data": {
      "text/plain": [
       "200"
      ]
     },
     "execution_count": 198,
     "metadata": {},
     "output_type": "execute_result"
    }
   ],
   "source": [
    "sales[\"Q2\"]"
   ]
  },
  {
   "cell_type": "code",
   "execution_count": 199,
   "metadata": {},
   "outputs": [
    {
     "data": {
      "image/png": "[encoded data removed]",
      "text/plain": [
       "<Figure size 432x288 with 1 Axes>"
      ]
     },
     "metadata": {},
     "output_type": "display_data"
    }
   ],
   "source": [
    "plt.style.use('ggplot')\n",
    "sales.plot.bar();"
   ]
  },
  {
   "cell_type": "markdown",
   "metadata": {},
   "source": [
    "DataFrame is core Pandas object and borrows from R; \n",
    "can do pivot table style operations on the data; \n",
    "can slice the data into smaller subsets; partly coded in Cython."
   ]
  },
  {
   "cell_type": "markdown",
   "metadata": {},
   "source": [
    "### Create Pandas DataFrame"
   ]
  },
  {
   "cell_type": "code",
   "execution_count": 215,
   "metadata": {},
   "outputs": [
    {
     "data": {
      "text/html": [
       "<div>\n",
       "<style scoped>\n",
       "    .dataframe tbody tr th:only-of-type {\n",
       "        vertical-align: middle;\n",
       "    }\n",
       "\n",
       "    .dataframe tbody tr th {\n",
       "        vertical-align: top;\n",
       "    }\n",
       "\n",
       "    .dataframe thead th {\n",
       "        text-align: right;\n",
       "    }\n",
       "</style>\n",
       "<table border=\"1\" class=\"dataframe\">\n",
       "  <thead>\n",
       "    <tr style=\"text-align: right;\">\n",
       "      <th></th>\n",
       "      <th>odd</th>\n",
       "    </tr>\n",
       "  </thead>\n",
       "  <tbody>\n",
       "    <tr>\n",
       "      <td>a</td>\n",
       "      <td>1</td>\n",
       "    </tr>\n",
       "    <tr>\n",
       "      <td>b</td>\n",
       "      <td>3</td>\n",
       "    </tr>\n",
       "    <tr>\n",
       "      <td>c</td>\n",
       "      <td>5</td>\n",
       "    </tr>\n",
       "    <tr>\n",
       "      <td>d</td>\n",
       "      <td>7</td>\n",
       "    </tr>\n",
       "  </tbody>\n",
       "</table>\n",
       "</div>"
      ],
      "text/plain": [
       "   odd\n",
       "a    1\n",
       "b    3\n",
       "c    5\n",
       "d    7"
      ]
     },
     "execution_count": 215,
     "metadata": {},
     "output_type": "execute_result"
    }
   ],
   "source": [
    "#Create DataFrame with one column\n",
    "df = pd.DataFrame([1,3,5,7], columns=['odd'], index=['a','b','c','d'])\n",
    "df"
   ]
  },
  {
   "cell_type": "code",
   "execution_count": 216,
   "metadata": {},
   "outputs": [
    {
     "data": {
      "text/html": [
       "<div>\n",
       "<style scoped>\n",
       "    .dataframe tbody tr th:only-of-type {\n",
       "        vertical-align: middle;\n",
       "    }\n",
       "\n",
       "    .dataframe tbody tr th {\n",
       "        vertical-align: top;\n",
       "    }\n",
       "\n",
       "    .dataframe thead th {\n",
       "        text-align: right;\n",
       "    }\n",
       "</style>\n",
       "<table border=\"1\" class=\"dataframe\">\n",
       "  <thead>\n",
       "    <tr style=\"text-align: right;\">\n",
       "      <th></th>\n",
       "      <th>odd</th>\n",
       "      <th>even</th>\n",
       "    </tr>\n",
       "  </thead>\n",
       "  <tbody>\n",
       "    <tr>\n",
       "      <td>a</td>\n",
       "      <td>1</td>\n",
       "      <td>2</td>\n",
       "    </tr>\n",
       "    <tr>\n",
       "      <td>b</td>\n",
       "      <td>3</td>\n",
       "      <td>4</td>\n",
       "    </tr>\n",
       "    <tr>\n",
       "      <td>c</td>\n",
       "      <td>5</td>\n",
       "      <td>6</td>\n",
       "    </tr>\n",
       "    <tr>\n",
       "      <td>d</td>\n",
       "      <td>7</td>\n",
       "      <td>8</td>\n",
       "    </tr>\n",
       "  </tbody>\n",
       "</table>\n",
       "</div>"
      ],
      "text/plain": [
       "   odd  even\n",
       "a    1     2\n",
       "b    3     4\n",
       "c    5     6\n",
       "d    7     8"
      ]
     },
     "execution_count": 216,
     "metadata": {},
     "output_type": "execute_result"
    }
   ],
   "source": [
    "#Add a new column\n",
    "df['even'] = [2,4,6,8]\n",
    "df"
   ]
  },
  {
   "cell_type": "code",
   "execution_count": 204,
   "metadata": {},
   "outputs": [
    {
     "data": {
      "text/plain": [
       "pandas.core.series.Series"
      ]
     },
     "execution_count": 204,
     "metadata": {},
     "output_type": "execute_result"
    }
   ],
   "source": [
    "#Each column is a Pandas Series\n",
    "type(df['odd'])"
   ]
  },
  {
   "cell_type": "markdown",
   "metadata": {},
   "source": [
    "### Access Pandas DataFrame"
   ]
  },
  {
   "cell_type": "markdown",
   "metadata": {},
   "source": [
    "- df.index: access first column, index\n",
    "- df.columns: access column names\n",
    "- df.loc['a'] or row number df.iloc[0]: access row by index or row number"
   ]
  },
  {
   "cell_type": "code",
   "execution_count": 205,
   "metadata": {},
   "outputs": [
    {
     "data": {
      "text/plain": [
       "odd     1\n",
       "even    2\n",
       "Name: a, dtype: int64"
      ]
     },
     "execution_count": 205,
     "metadata": {},
     "output_type": "execute_result"
    }
   ],
   "source": [
    "df.loc['a']"
   ]
  },
  {
   "cell_type": "code",
   "execution_count": 206,
   "metadata": {},
   "outputs": [
    {
     "data": {
      "text/plain": [
       "odd     5\n",
       "even    6\n",
       "Name: c, dtype: int64"
      ]
     },
     "execution_count": 206,
     "metadata": {},
     "output_type": "execute_result"
    }
   ],
   "source": [
    "df.iloc[2]"
   ]
  },
  {
   "cell_type": "markdown",
   "metadata": {},
   "source": [
    "### Remove Columns"
   ]
  },
  {
   "cell_type": "markdown",
   "metadata": {},
   "source": [
    "df.drop will returns a a new dataframe without the dropped column. And it does not change df, so we much assign the result to change df."
   ]
  },
  {
   "cell_type": "code",
   "execution_count": 217,
   "metadata": {},
   "outputs": [
    {
     "data": {
      "text/html": [
       "<div>\n",
       "<style scoped>\n",
       "    .dataframe tbody tr th:only-of-type {\n",
       "        vertical-align: middle;\n",
       "    }\n",
       "\n",
       "    .dataframe tbody tr th {\n",
       "        vertical-align: top;\n",
       "    }\n",
       "\n",
       "    .dataframe thead th {\n",
       "        text-align: right;\n",
       "    }\n",
       "</style>\n",
       "<table border=\"1\" class=\"dataframe\">\n",
       "  <thead>\n",
       "    <tr style=\"text-align: right;\">\n",
       "      <th></th>\n",
       "      <th>even</th>\n",
       "    </tr>\n",
       "  </thead>\n",
       "  <tbody>\n",
       "    <tr>\n",
       "      <td>a</td>\n",
       "      <td>2</td>\n",
       "    </tr>\n",
       "    <tr>\n",
       "      <td>b</td>\n",
       "      <td>4</td>\n",
       "    </tr>\n",
       "    <tr>\n",
       "      <td>c</td>\n",
       "      <td>6</td>\n",
       "    </tr>\n",
       "    <tr>\n",
       "      <td>d</td>\n",
       "      <td>8</td>\n",
       "    </tr>\n",
       "  </tbody>\n",
       "</table>\n",
       "</div>"
      ],
      "text/plain": [
       "   even\n",
       "a     2\n",
       "b     4\n",
       "c     6\n",
       "d     8"
      ]
     },
     "execution_count": 217,
     "metadata": {},
     "output_type": "execute_result"
    }
   ],
   "source": [
    "#Drop a column!!!\n",
    "df = df.drop(['odd'], axis = 1)\n",
    "df"
   ]
  },
  {
   "cell_type": "markdown",
   "metadata": {},
   "source": [
    "### Exam Datasets"
   ]
  },
  {
   "cell_type": "code",
   "execution_count": 185,
   "metadata": {},
   "outputs": [],
   "source": [
    "import pandas as pd\n",
    "df = pd.read_csv(\"./data/optionPortfolio.csv\")"
   ]
  },
  {
   "cell_type": "markdown",
   "metadata": {},
   "source": [
    "- df.shape(): number of rows and columns\n",
    "- df.head(n): top n rows of DataFrame\n",
    "- df.tail(n): bottom b rows of DataFrame\n",
    "- df.info(): all columns and non-null values\n",
    "- df.describe(): statistical description of data"
   ]
  },
  {
   "cell_type": "code",
   "execution_count": 186,
   "metadata": {},
   "outputs": [
    {
     "data": {
      "text/html": [
       "<div>\n",
       "<style scoped>\n",
       "    .dataframe tbody tr th:only-of-type {\n",
       "        vertical-align: middle;\n",
       "    }\n",
       "\n",
       "    .dataframe tbody tr th {\n",
       "        vertical-align: top;\n",
       "    }\n",
       "\n",
       "    .dataframe thead th {\n",
       "        text-align: right;\n",
       "    }\n",
       "</style>\n",
       "<table border=\"1\" class=\"dataframe\">\n",
       "  <thead>\n",
       "    <tr style=\"text-align: right;\">\n",
       "      <th></th>\n",
       "      <th>TradeDate</th>\n",
       "      <th>Currency</th>\n",
       "      <th>Ticker</th>\n",
       "      <th>OptionType</th>\n",
       "      <th>TradedStockPrice</th>\n",
       "      <th>NumOptions</th>\n",
       "      <th>Strike</th>\n",
       "      <th>ExpiryDate</th>\n",
       "    </tr>\n",
       "  </thead>\n",
       "  <tbody>\n",
       "    <tr>\n",
       "      <td>0</td>\n",
       "      <td>2013-01-02</td>\n",
       "      <td>USD</td>\n",
       "      <td>PUT</td>\n",
       "      <td>BA</td>\n",
       "      <td>77.070000</td>\n",
       "      <td>60</td>\n",
       "      <td>77</td>\n",
       "      <td>2013-07-01</td>\n",
       "    </tr>\n",
       "    <tr>\n",
       "      <td>1</td>\n",
       "      <td>2013-01-02</td>\n",
       "      <td>USD</td>\n",
       "      <td>PUT</td>\n",
       "      <td>XRX</td>\n",
       "      <td>18.945982</td>\n",
       "      <td>330</td>\n",
       "      <td>19</td>\n",
       "      <td>2013-07-01</td>\n",
       "    </tr>\n",
       "    <tr>\n",
       "      <td>2</td>\n",
       "      <td>2013-01-02</td>\n",
       "      <td>USD</td>\n",
       "      <td>CALL</td>\n",
       "      <td>CHK</td>\n",
       "      <td>15.704825</td>\n",
       "      <td>230</td>\n",
       "      <td>15</td>\n",
       "      <td>2013-04-02</td>\n",
       "    </tr>\n",
       "    <tr>\n",
       "      <td>3</td>\n",
       "      <td>2013-01-02</td>\n",
       "      <td>USD</td>\n",
       "      <td>PUT</td>\n",
       "      <td>FB</td>\n",
       "      <td>28.000000</td>\n",
       "      <td>340</td>\n",
       "      <td>28</td>\n",
       "      <td>2013-12-28</td>\n",
       "    </tr>\n",
       "    <tr>\n",
       "      <td>4</td>\n",
       "      <td>2013-01-02</td>\n",
       "      <td>USD</td>\n",
       "      <td>PUT</td>\n",
       "      <td>MSFT</td>\n",
       "      <td>27.620001</td>\n",
       "      <td>690</td>\n",
       "      <td>26</td>\n",
       "      <td>2013-12-28</td>\n",
       "    </tr>\n",
       "    <tr>\n",
       "      <td>...</td>\n",
       "      <td>...</td>\n",
       "      <td>...</td>\n",
       "      <td>...</td>\n",
       "      <td>...</td>\n",
       "      <td>...</td>\n",
       "      <td>...</td>\n",
       "      <td>...</td>\n",
       "      <td>...</td>\n",
       "    </tr>\n",
       "    <tr>\n",
       "      <td>4193</td>\n",
       "      <td>2016-12-30</td>\n",
       "      <td>USD</td>\n",
       "      <td>CALL</td>\n",
       "      <td>CHK</td>\n",
       "      <td>7.020000</td>\n",
       "      <td>90</td>\n",
       "      <td>7</td>\n",
       "      <td>2017-06-28</td>\n",
       "    </tr>\n",
       "    <tr>\n",
       "      <td>4194</td>\n",
       "      <td>2016-12-30</td>\n",
       "      <td>USD</td>\n",
       "      <td>PUT</td>\n",
       "      <td>BLCM</td>\n",
       "      <td>13.620000</td>\n",
       "      <td>700</td>\n",
       "      <td>14</td>\n",
       "      <td>2017-06-28</td>\n",
       "    </tr>\n",
       "    <tr>\n",
       "      <td>4195</td>\n",
       "      <td>2016-12-30</td>\n",
       "      <td>USD</td>\n",
       "      <td>PUT</td>\n",
       "      <td>AMZN</td>\n",
       "      <td>749.869995</td>\n",
       "      <td>750</td>\n",
       "      <td>782</td>\n",
       "      <td>2017-12-25</td>\n",
       "    </tr>\n",
       "    <tr>\n",
       "      <td>4196</td>\n",
       "      <td>2016-12-30</td>\n",
       "      <td>USD</td>\n",
       "      <td>PUT</td>\n",
       "      <td>XRX</td>\n",
       "      <td>23.003952</td>\n",
       "      <td>30</td>\n",
       "      <td>22</td>\n",
       "      <td>2017-12-25</td>\n",
       "    </tr>\n",
       "    <tr>\n",
       "      <td>4197</td>\n",
       "      <td>2016-12-30</td>\n",
       "      <td>USD</td>\n",
       "      <td>PUT</td>\n",
       "      <td>FB</td>\n",
       "      <td>115.050003</td>\n",
       "      <td>260</td>\n",
       "      <td>115</td>\n",
       "      <td>2017-06-28</td>\n",
       "    </tr>\n",
       "  </tbody>\n",
       "</table>\n",
       "<p>4198 rows × 8 columns</p>\n",
       "</div>"
      ],
      "text/plain": [
       "       TradeDate Currency Ticker OptionType  TradedStockPrice  NumOptions  \\\n",
       "0     2013-01-02      USD    PUT         BA         77.070000          60   \n",
       "1     2013-01-02      USD    PUT        XRX         18.945982         330   \n",
       "2     2013-01-02      USD   CALL        CHK         15.704825         230   \n",
       "3     2013-01-02      USD    PUT         FB         28.000000         340   \n",
       "4     2013-01-02      USD    PUT       MSFT         27.620001         690   \n",
       "...          ...      ...    ...        ...               ...         ...   \n",
       "4193  2016-12-30      USD   CALL        CHK          7.020000          90   \n",
       "4194  2016-12-30      USD    PUT       BLCM         13.620000         700   \n",
       "4195  2016-12-30      USD    PUT       AMZN        749.869995         750   \n",
       "4196  2016-12-30      USD    PUT        XRX         23.003952          30   \n",
       "4197  2016-12-30      USD    PUT         FB        115.050003         260   \n",
       "\n",
       "      Strike  ExpiryDate  \n",
       "0         77  2013-07-01  \n",
       "1         19  2013-07-01  \n",
       "2         15  2013-04-02  \n",
       "3         28  2013-12-28  \n",
       "4         26  2013-12-28  \n",
       "...      ...         ...  \n",
       "4193       7  2017-06-28  \n",
       "4194      14  2017-06-28  \n",
       "4195     782  2017-12-25  \n",
       "4196      22  2017-12-25  \n",
       "4197     115  2017-06-28  \n",
       "\n",
       "[4198 rows x 8 columns]"
      ]
     },
     "execution_count": 186,
     "metadata": {},
     "output_type": "execute_result"
    }
   ],
   "source": [
    "df"
   ]
  },
  {
   "cell_type": "code",
   "execution_count": 187,
   "metadata": {},
   "outputs": [
    {
     "data": {
      "text/html": [
       "<div>\n",
       "<style scoped>\n",
       "    .dataframe tbody tr th:only-of-type {\n",
       "        vertical-align: middle;\n",
       "    }\n",
       "\n",
       "    .dataframe tbody tr th {\n",
       "        vertical-align: top;\n",
       "    }\n",
       "\n",
       "    .dataframe thead th {\n",
       "        text-align: right;\n",
       "    }\n",
       "</style>\n",
       "<table border=\"1\" class=\"dataframe\">\n",
       "  <thead>\n",
       "    <tr style=\"text-align: right;\">\n",
       "      <th></th>\n",
       "      <th>TradedStockPrice</th>\n",
       "      <th>NumOptions</th>\n",
       "      <th>Strike</th>\n",
       "    </tr>\n",
       "  </thead>\n",
       "  <tbody>\n",
       "    <tr>\n",
       "      <td>count</td>\n",
       "      <td>4198.000000</td>\n",
       "      <td>4198.000000</td>\n",
       "      <td>4198.000000</td>\n",
       "    </tr>\n",
       "    <tr>\n",
       "      <td>mean</td>\n",
       "      <td>110.458496</td>\n",
       "      <td>498.327775</td>\n",
       "      <td>110.040257</td>\n",
       "    </tr>\n",
       "    <tr>\n",
       "      <td>std</td>\n",
       "      <td>150.641281</td>\n",
       "      <td>287.948079</td>\n",
       "      <td>151.041087</td>\n",
       "    </tr>\n",
       "    <tr>\n",
       "      <td>min</td>\n",
       "      <td>1.590000</td>\n",
       "      <td>0.000000</td>\n",
       "      <td>1.000000</td>\n",
       "    </tr>\n",
       "    <tr>\n",
       "      <td>25%</td>\n",
       "      <td>26.139743</td>\n",
       "      <td>250.000000</td>\n",
       "      <td>26.000000</td>\n",
       "    </tr>\n",
       "    <tr>\n",
       "      <td>50%</td>\n",
       "      <td>56.164999</td>\n",
       "      <td>500.000000</td>\n",
       "      <td>56.000000</td>\n",
       "    </tr>\n",
       "    <tr>\n",
       "      <td>75%</td>\n",
       "      <td>122.692497</td>\n",
       "      <td>750.000000</td>\n",
       "      <td>122.000000</td>\n",
       "    </tr>\n",
       "    <tr>\n",
       "      <td>max</td>\n",
       "      <td>844.359985</td>\n",
       "      <td>990.000000</td>\n",
       "      <td>868.000000</td>\n",
       "    </tr>\n",
       "  </tbody>\n",
       "</table>\n",
       "</div>"
      ],
      "text/plain": [
       "       TradedStockPrice   NumOptions       Strike\n",
       "count       4198.000000  4198.000000  4198.000000\n",
       "mean         110.458496   498.327775   110.040257\n",
       "std          150.641281   287.948079   151.041087\n",
       "min            1.590000     0.000000     1.000000\n",
       "25%           26.139743   250.000000    26.000000\n",
       "50%           56.164999   500.000000    56.000000\n",
       "75%          122.692497   750.000000   122.000000\n",
       "max          844.359985   990.000000   868.000000"
      ]
     },
     "execution_count": 187,
     "metadata": {},
     "output_type": "execute_result"
    }
   ],
   "source": [
    "#Get a statistical description of the data\n",
    "df.describe()"
   ]
  },
  {
   "cell_type": "code",
   "execution_count": 188,
   "metadata": {},
   "outputs": [
    {
     "name": "stdout",
     "output_type": "stream",
     "text": [
      "<class 'pandas.core.frame.DataFrame'>\n",
      "RangeIndex: 4198 entries, 0 to 4197\n",
      "Data columns (total 8 columns):\n",
      "TradeDate           4198 non-null object\n",
      "Currency            4198 non-null object\n",
      "Ticker              4198 non-null object\n",
      "OptionType          4198 non-null object\n",
      "TradedStockPrice    4198 non-null float64\n",
      "NumOptions          4198 non-null int64\n",
      "Strike              4198 non-null int64\n",
      "ExpiryDate          4198 non-null object\n",
      "dtypes: float64(1), int64(2), object(5)\n",
      "memory usage: 262.5+ KB\n"
     ]
    }
   ],
   "source": [
    "#Print all the columns and the non-null values\n",
    "df.info()"
   ]
  },
  {
   "cell_type": "code",
   "execution_count": 189,
   "metadata": {
    "scrolled": true
   },
   "outputs": [
    {
     "data": {
      "text/html": [
       "<div>\n",
       "<style scoped>\n",
       "    .dataframe tbody tr th:only-of-type {\n",
       "        vertical-align: middle;\n",
       "    }\n",
       "\n",
       "    .dataframe tbody tr th {\n",
       "        vertical-align: top;\n",
       "    }\n",
       "\n",
       "    .dataframe thead th {\n",
       "        text-align: right;\n",
       "    }\n",
       "</style>\n",
       "<table border=\"1\" class=\"dataframe\">\n",
       "  <thead>\n",
       "    <tr style=\"text-align: right;\">\n",
       "      <th></th>\n",
       "      <th>TradeDate</th>\n",
       "      <th>Currency</th>\n",
       "      <th>Ticker</th>\n",
       "      <th>OptionType</th>\n",
       "      <th>TradedStockPrice</th>\n",
       "      <th>NumOptions</th>\n",
       "      <th>Strike</th>\n",
       "      <th>ExpiryDate</th>\n",
       "    </tr>\n",
       "  </thead>\n",
       "  <tbody>\n",
       "    <tr>\n",
       "      <td>0</td>\n",
       "      <td>2013-01-02</td>\n",
       "      <td>USD</td>\n",
       "      <td>PUT</td>\n",
       "      <td>BA</td>\n",
       "      <td>77.070000</td>\n",
       "      <td>60</td>\n",
       "      <td>77</td>\n",
       "      <td>2013-07-01</td>\n",
       "    </tr>\n",
       "    <tr>\n",
       "      <td>1</td>\n",
       "      <td>2013-01-02</td>\n",
       "      <td>USD</td>\n",
       "      <td>PUT</td>\n",
       "      <td>XRX</td>\n",
       "      <td>18.945982</td>\n",
       "      <td>330</td>\n",
       "      <td>19</td>\n",
       "      <td>2013-07-01</td>\n",
       "    </tr>\n",
       "    <tr>\n",
       "      <td>2</td>\n",
       "      <td>2013-01-02</td>\n",
       "      <td>USD</td>\n",
       "      <td>CALL</td>\n",
       "      <td>CHK</td>\n",
       "      <td>15.704825</td>\n",
       "      <td>230</td>\n",
       "      <td>15</td>\n",
       "      <td>2013-04-02</td>\n",
       "    </tr>\n",
       "    <tr>\n",
       "      <td>3</td>\n",
       "      <td>2013-01-02</td>\n",
       "      <td>USD</td>\n",
       "      <td>PUT</td>\n",
       "      <td>FB</td>\n",
       "      <td>28.000000</td>\n",
       "      <td>340</td>\n",
       "      <td>28</td>\n",
       "      <td>2013-12-28</td>\n",
       "    </tr>\n",
       "  </tbody>\n",
       "</table>\n",
       "</div>"
      ],
      "text/plain": [
       "    TradeDate Currency Ticker OptionType  TradedStockPrice  NumOptions  \\\n",
       "0  2013-01-02      USD    PUT         BA         77.070000          60   \n",
       "1  2013-01-02      USD    PUT        XRX         18.945982         330   \n",
       "2  2013-01-02      USD   CALL        CHK         15.704825         230   \n",
       "3  2013-01-02      USD    PUT         FB         28.000000         340   \n",
       "\n",
       "   Strike  ExpiryDate  \n",
       "0      77  2013-07-01  \n",
       "1      19  2013-07-01  \n",
       "2      15  2013-04-02  \n",
       "3      28  2013-12-28  "
      ]
     },
     "execution_count": 189,
     "metadata": {},
     "output_type": "execute_result"
    }
   ],
   "source": [
    "#Print the top n rows of the DataFrame\n",
    "df.head(4)"
   ]
  },
  {
   "cell_type": "code",
   "execution_count": 190,
   "metadata": {},
   "outputs": [
    {
     "data": {
      "text/html": [
       "<div>\n",
       "<style scoped>\n",
       "    .dataframe tbody tr th:only-of-type {\n",
       "        vertical-align: middle;\n",
       "    }\n",
       "\n",
       "    .dataframe tbody tr th {\n",
       "        vertical-align: top;\n",
       "    }\n",
       "\n",
       "    .dataframe thead th {\n",
       "        text-align: right;\n",
       "    }\n",
       "</style>\n",
       "<table border=\"1\" class=\"dataframe\">\n",
       "  <thead>\n",
       "    <tr style=\"text-align: right;\">\n",
       "      <th></th>\n",
       "      <th>TradeDate</th>\n",
       "      <th>Currency</th>\n",
       "      <th>Ticker</th>\n",
       "      <th>OptionType</th>\n",
       "      <th>TradedStockPrice</th>\n",
       "      <th>NumOptions</th>\n",
       "      <th>Strike</th>\n",
       "      <th>ExpiryDate</th>\n",
       "    </tr>\n",
       "  </thead>\n",
       "  <tbody>\n",
       "    <tr>\n",
       "      <td>4193</td>\n",
       "      <td>2016-12-30</td>\n",
       "      <td>USD</td>\n",
       "      <td>CALL</td>\n",
       "      <td>CHK</td>\n",
       "      <td>7.020000</td>\n",
       "      <td>90</td>\n",
       "      <td>7</td>\n",
       "      <td>2017-06-28</td>\n",
       "    </tr>\n",
       "    <tr>\n",
       "      <td>4194</td>\n",
       "      <td>2016-12-30</td>\n",
       "      <td>USD</td>\n",
       "      <td>PUT</td>\n",
       "      <td>BLCM</td>\n",
       "      <td>13.620000</td>\n",
       "      <td>700</td>\n",
       "      <td>14</td>\n",
       "      <td>2017-06-28</td>\n",
       "    </tr>\n",
       "    <tr>\n",
       "      <td>4195</td>\n",
       "      <td>2016-12-30</td>\n",
       "      <td>USD</td>\n",
       "      <td>PUT</td>\n",
       "      <td>AMZN</td>\n",
       "      <td>749.869995</td>\n",
       "      <td>750</td>\n",
       "      <td>782</td>\n",
       "      <td>2017-12-25</td>\n",
       "    </tr>\n",
       "    <tr>\n",
       "      <td>4196</td>\n",
       "      <td>2016-12-30</td>\n",
       "      <td>USD</td>\n",
       "      <td>PUT</td>\n",
       "      <td>XRX</td>\n",
       "      <td>23.003952</td>\n",
       "      <td>30</td>\n",
       "      <td>22</td>\n",
       "      <td>2017-12-25</td>\n",
       "    </tr>\n",
       "    <tr>\n",
       "      <td>4197</td>\n",
       "      <td>2016-12-30</td>\n",
       "      <td>USD</td>\n",
       "      <td>PUT</td>\n",
       "      <td>FB</td>\n",
       "      <td>115.050003</td>\n",
       "      <td>260</td>\n",
       "      <td>115</td>\n",
       "      <td>2017-06-28</td>\n",
       "    </tr>\n",
       "  </tbody>\n",
       "</table>\n",
       "</div>"
      ],
      "text/plain": [
       "       TradeDate Currency Ticker OptionType  TradedStockPrice  NumOptions  \\\n",
       "4193  2016-12-30      USD   CALL        CHK          7.020000          90   \n",
       "4194  2016-12-30      USD    PUT       BLCM         13.620000         700   \n",
       "4195  2016-12-30      USD    PUT       AMZN        749.869995         750   \n",
       "4196  2016-12-30      USD    PUT        XRX         23.003952          30   \n",
       "4197  2016-12-30      USD    PUT         FB        115.050003         260   \n",
       "\n",
       "      Strike  ExpiryDate  \n",
       "4193       7  2017-06-28  \n",
       "4194      14  2017-06-28  \n",
       "4195     782  2017-12-25  \n",
       "4196      22  2017-12-25  \n",
       "4197     115  2017-06-28  "
      ]
     },
     "execution_count": 190,
     "metadata": {},
     "output_type": "execute_result"
    }
   ],
   "source": [
    "#Print the bottom n rows of the DataFrame\n",
    "df.tail(5)"
   ]
  },
  {
   "cell_type": "code",
   "execution_count": 191,
   "metadata": {},
   "outputs": [
    {
     "data": {
      "text/plain": [
       "(4198, 8)"
      ]
     },
     "execution_count": 191,
     "metadata": {},
     "output_type": "execute_result"
    }
   ],
   "source": [
    "#Print the number of the rows and columns\n",
    "df.shape"
   ]
  },
  {
   "cell_type": "markdown",
   "metadata": {},
   "source": [
    "### Exam Option Portfolio"
   ]
  },
  {
   "cell_type": "code",
   "execution_count": 192,
   "metadata": {},
   "outputs": [
    {
     "data": {
      "text/plain": [
       "array(['BA', 'XRX', 'CHK', 'FB', 'MSFT', 'AMZN', 'AAPL', 'BLCM'],\n",
       "      dtype=object)"
      ]
     },
     "execution_count": 192,
     "metadata": {},
     "output_type": "execute_result"
    }
   ],
   "source": [
    "#Get a unique list of Optiontype\n",
    "df['OptionType'].unique()"
   ]
  },
  {
   "cell_type": "code",
   "execution_count": 193,
   "metadata": {},
   "outputs": [
    {
     "data": {
      "text/plain": [
       "XRX     589\n",
       "MSFT    586\n",
       "CHK     584\n",
       "BA      554\n",
       "FB      548\n",
       "AMZN    544\n",
       "AAPL    528\n",
       "BLCM    265\n",
       "Name: OptionType, dtype: int64"
      ]
     },
     "execution_count": 193,
     "metadata": {},
     "output_type": "execute_result"
    }
   ],
   "source": [
    "#How many option trades there are by Optiontype\n",
    "df['OptionType'].value_counts()"
   ]
  },
  {
   "cell_type": "markdown",
   "metadata": {},
   "source": [
    "### Apply method"
   ]
  },
  {
   "cell_type": "markdown",
   "metadata": {},
   "source": [
    "The trade and expiry dates are non specific objects, to convert them to datetimes, which needs to create a function taking as input an element of the column and then using apply method."
   ]
  },
  {
   "cell_type": "code",
   "execution_count": 199,
   "metadata": {},
   "outputs": [],
   "source": [
    "import datetime as dt"
   ]
  },
  {
   "cell_type": "code",
   "execution_count": 200,
   "metadata": {},
   "outputs": [],
   "source": [
    "# We write a quick function to remove the '/' from the date and to replace it with a space\n",
    "# We could have done this another way but I \n",
    "def dateConverter(dt):\n",
    "    dt = dt.replace('-',' ')\n",
    "    return pd.to_datetime(dt, format='%Y %m %d',dayfirst=True)"
   ]
  },
  {
   "cell_type": "code",
   "execution_count": 196,
   "metadata": {},
   "outputs": [],
   "source": [
    "df['TradeDate'] = df['TradeDate'].apply(dateConverter)"
   ]
  },
  {
   "cell_type": "code",
   "execution_count": 197,
   "metadata": {},
   "outputs": [],
   "source": [
    "df['ExpiryDate'] = df['ExpiryDate'].apply(dateConverter)"
   ]
  },
  {
   "cell_type": "code",
   "execution_count": 269,
   "metadata": {},
   "outputs": [],
   "source": [
    "df['TradeDate'] = df['TradeDate'].apply(dateConverter)"
   ]
  },
  {
   "cell_type": "code",
   "execution_count": 198,
   "metadata": {},
   "outputs": [
    {
     "name": "stdout",
     "output_type": "stream",
     "text": [
      "<class 'pandas.core.frame.DataFrame'>\n",
      "RangeIndex: 4198 entries, 0 to 4197\n",
      "Data columns (total 8 columns):\n",
      "TradeDate           4198 non-null datetime64[ns]\n",
      "Currency            4198 non-null object\n",
      "Ticker              4198 non-null object\n",
      "OptionType          4198 non-null object\n",
      "TradedStockPrice    4198 non-null float64\n",
      "NumOptions          4198 non-null int64\n",
      "Strike              4198 non-null int64\n",
      "ExpiryDate          4198 non-null datetime64[ns]\n",
      "dtypes: datetime64[ns](2), float64(1), int64(2), object(3)\n",
      "memory usage: 262.5+ KB\n"
     ]
    }
   ],
   "source": [
    "df.info()"
   ]
  },
  {
   "cell_type": "markdown",
   "metadata": {},
   "source": [
    "### Conditionals on Rows"
   ]
  },
  {
   "cell_type": "code",
   "execution_count": 201,
   "metadata": {},
   "outputs": [
    {
     "data": {
      "text/plain": [
       "0       False\n",
       "1       False\n",
       "2       False\n",
       "3       False\n",
       "4       False\n",
       "        ...  \n",
       "4193    False\n",
       "4194    False\n",
       "4195    False\n",
       "4196    False\n",
       "4197    False\n",
       "Name: OptionType, Length: 4198, dtype: bool"
      ]
     },
     "execution_count": 201,
     "metadata": {},
     "output_type": "execute_result"
    }
   ],
   "source": [
    "df['OptionType'] == \"PUT\""
   ]
  },
  {
   "cell_type": "code",
   "execution_count": 211,
   "metadata": {},
   "outputs": [
    {
     "data": {
      "text/html": [
       "<div>\n",
       "<style scoped>\n",
       "    .dataframe tbody tr th:only-of-type {\n",
       "        vertical-align: middle;\n",
       "    }\n",
       "\n",
       "    .dataframe tbody tr th {\n",
       "        vertical-align: top;\n",
       "    }\n",
       "\n",
       "    .dataframe thead th {\n",
       "        text-align: right;\n",
       "    }\n",
       "</style>\n",
       "<table border=\"1\" class=\"dataframe\">\n",
       "  <thead>\n",
       "    <tr style=\"text-align: right;\">\n",
       "      <th></th>\n",
       "      <th>TradeDate</th>\n",
       "      <th>Currency</th>\n",
       "      <th>Ticker</th>\n",
       "      <th>OptionType</th>\n",
       "      <th>TradedStockPrice</th>\n",
       "      <th>NumOptions</th>\n",
       "      <th>Strike</th>\n",
       "      <th>ExpiryDate</th>\n",
       "    </tr>\n",
       "  </thead>\n",
       "  <tbody>\n",
       "  </tbody>\n",
       "</table>\n",
       "</div>"
      ],
      "text/plain": [
       "Empty DataFrame\n",
       "Columns: [TradeDate, Currency, Ticker, OptionType, TradedStockPrice, NumOptions, Strike, ExpiryDate]\n",
       "Index: []"
      ]
     },
     "execution_count": 211,
     "metadata": {},
     "output_type": "execute_result"
    }
   ],
   "source": [
    "df[df['OptionType'] == \"PUT\"].head()"
   ]
  },
  {
   "cell_type": "code",
   "execution_count": 212,
   "metadata": {},
   "outputs": [
    {
     "data": {
      "text/html": [
       "<div>\n",
       "<style scoped>\n",
       "    .dataframe tbody tr th:only-of-type {\n",
       "        vertical-align: middle;\n",
       "    }\n",
       "\n",
       "    .dataframe tbody tr th {\n",
       "        vertical-align: top;\n",
       "    }\n",
       "\n",
       "    .dataframe thead th {\n",
       "        text-align: right;\n",
       "    }\n",
       "</style>\n",
       "<table border=\"1\" class=\"dataframe\">\n",
       "  <thead>\n",
       "    <tr style=\"text-align: right;\">\n",
       "      <th></th>\n",
       "      <th>TradeDate</th>\n",
       "      <th>Currency</th>\n",
       "      <th>Ticker</th>\n",
       "      <th>OptionType</th>\n",
       "      <th>TradedStockPrice</th>\n",
       "      <th>NumOptions</th>\n",
       "      <th>Strike</th>\n",
       "      <th>ExpiryDate</th>\n",
       "    </tr>\n",
       "  </thead>\n",
       "  <tbody>\n",
       "  </tbody>\n",
       "</table>\n",
       "</div>"
      ],
      "text/plain": [
       "Empty DataFrame\n",
       "Columns: [TradeDate, Currency, Ticker, OptionType, TradedStockPrice, NumOptions, Strike, ExpiryDate]\n",
       "Index: []"
      ]
     },
     "execution_count": 212,
     "metadata": {},
     "output_type": "execute_result"
    }
   ],
   "source": [
    "df[(df['Ticker']==\"AAPL\") & (df['OptionType'] == \"PUT\")].head()"
   ]
  },
  {
   "cell_type": "code",
   "execution_count": 213,
   "metadata": {},
   "outputs": [
    {
     "data": {
      "text/html": [
       "<div>\n",
       "<style scoped>\n",
       "    .dataframe tbody tr th:only-of-type {\n",
       "        vertical-align: middle;\n",
       "    }\n",
       "\n",
       "    .dataframe tbody tr th {\n",
       "        vertical-align: top;\n",
       "    }\n",
       "\n",
       "    .dataframe thead th {\n",
       "        text-align: right;\n",
       "    }\n",
       "</style>\n",
       "<table border=\"1\" class=\"dataframe\">\n",
       "  <thead>\n",
       "    <tr style=\"text-align: right;\">\n",
       "      <th></th>\n",
       "      <th>Strike</th>\n",
       "      <th>NumOptions</th>\n",
       "    </tr>\n",
       "    <tr>\n",
       "      <th>Ticker</th>\n",
       "      <th></th>\n",
       "      <th></th>\n",
       "    </tr>\n",
       "  </thead>\n",
       "  <tbody>\n",
       "    <tr>\n",
       "      <td>CALL</td>\n",
       "      <td>108.897930</td>\n",
       "      <td>495.305729</td>\n",
       "    </tr>\n",
       "    <tr>\n",
       "      <td>PUT</td>\n",
       "      <td>111.158887</td>\n",
       "      <td>501.287129</td>\n",
       "    </tr>\n",
       "  </tbody>\n",
       "</table>\n",
       "</div>"
      ],
      "text/plain": [
       "            Strike  NumOptions\n",
       "Ticker                        \n",
       "CALL    108.897930  495.305729\n",
       "PUT     111.158887  501.287129"
      ]
     },
     "execution_count": 213,
     "metadata": {},
     "output_type": "execute_result"
    }
   ],
   "source": [
    "df[['Strike', 'NumOptions','Ticker']].groupby(['Ticker']).mean()"
   ]
  },
  {
   "cell_type": "code",
   "execution_count": 215,
   "metadata": {},
   "outputs": [
    {
     "data": {
      "text/html": [
       "<div>\n",
       "<style scoped>\n",
       "    .dataframe tbody tr th:only-of-type {\n",
       "        vertical-align: middle;\n",
       "    }\n",
       "\n",
       "    .dataframe tbody tr th {\n",
       "        vertical-align: top;\n",
       "    }\n",
       "\n",
       "    .dataframe thead th {\n",
       "        text-align: right;\n",
       "    }\n",
       "</style>\n",
       "<table border=\"1\" class=\"dataframe\">\n",
       "  <thead>\n",
       "    <tr style=\"text-align: right;\">\n",
       "      <th></th>\n",
       "      <th>TradeDate</th>\n",
       "      <th>Currency</th>\n",
       "      <th>Ticker</th>\n",
       "      <th>OptionType</th>\n",
       "      <th>TradedStockPrice</th>\n",
       "      <th>NumOptions</th>\n",
       "      <th>Strike</th>\n",
       "      <th>ExpiryDate</th>\n",
       "    </tr>\n",
       "  </thead>\n",
       "  <tbody>\n",
       "  </tbody>\n",
       "</table>\n",
       "</div>"
      ],
      "text/plain": [
       "Empty DataFrame\n",
       "Columns: [TradeDate, Currency, Ticker, OptionType, TradedStockPrice, NumOptions, Strike, ExpiryDate]\n",
       "Index: []"
      ]
     },
     "execution_count": 215,
     "metadata": {},
     "output_type": "execute_result"
    }
   ],
   "source": [
    "#Require PUTs where expirydate has be to before 2 Oct 2013\n",
    "df[(df['ExpiryDate'] < dt.datetime(2013,10,2)) & (df['OptionType'] == \"PUT\")]"
   ]
  },
  {
   "cell_type": "markdown",
   "metadata": {},
   "source": [
    "### Group By"
   ]
  },
  {
   "cell_type": "code",
   "execution_count": 216,
   "metadata": {},
   "outputs": [
    {
     "data": {
      "text/html": [
       "<div>\n",
       "<style scoped>\n",
       "    .dataframe tbody tr th:only-of-type {\n",
       "        vertical-align: middle;\n",
       "    }\n",
       "\n",
       "    .dataframe tbody tr th {\n",
       "        vertical-align: top;\n",
       "    }\n",
       "\n",
       "    .dataframe thead th {\n",
       "        text-align: right;\n",
       "    }\n",
       "</style>\n",
       "<table border=\"1\" class=\"dataframe\">\n",
       "  <thead>\n",
       "    <tr style=\"text-align: right;\">\n",
       "      <th></th>\n",
       "      <th>NumOptions</th>\n",
       "    </tr>\n",
       "    <tr>\n",
       "      <th>Ticker</th>\n",
       "      <th></th>\n",
       "    </tr>\n",
       "  </thead>\n",
       "  <tbody>\n",
       "    <tr>\n",
       "      <td>CALL</td>\n",
       "      <td>2077</td>\n",
       "    </tr>\n",
       "    <tr>\n",
       "      <td>PUT</td>\n",
       "      <td>2121</td>\n",
       "    </tr>\n",
       "  </tbody>\n",
       "</table>\n",
       "</div>"
      ],
      "text/plain": [
       "        NumOptions\n",
       "Ticker            \n",
       "CALL          2077\n",
       "PUT           2121"
      ]
     },
     "execution_count": 216,
     "metadata": {},
     "output_type": "execute_result"
    }
   ],
   "source": [
    "#Count number of options by Tickers\n",
    "df[['NumOptions','Ticker']].groupby(['Ticker']).count()"
   ]
  },
  {
   "cell_type": "code",
   "execution_count": 217,
   "metadata": {},
   "outputs": [
    {
     "data": {
      "text/html": [
       "<div>\n",
       "<style scoped>\n",
       "    .dataframe tbody tr th:only-of-type {\n",
       "        vertical-align: middle;\n",
       "    }\n",
       "\n",
       "    .dataframe tbody tr th {\n",
       "        vertical-align: top;\n",
       "    }\n",
       "\n",
       "    .dataframe thead th {\n",
       "        text-align: right;\n",
       "    }\n",
       "</style>\n",
       "<table border=\"1\" class=\"dataframe\">\n",
       "  <thead>\n",
       "    <tr style=\"text-align: right;\">\n",
       "      <th></th>\n",
       "      <th>Strike</th>\n",
       "    </tr>\n",
       "    <tr>\n",
       "      <th>Ticker</th>\n",
       "      <th></th>\n",
       "    </tr>\n",
       "  </thead>\n",
       "  <tbody>\n",
       "    <tr>\n",
       "      <td>CALL</td>\n",
       "      <td>108.897930</td>\n",
       "    </tr>\n",
       "    <tr>\n",
       "      <td>PUT</td>\n",
       "      <td>111.158887</td>\n",
       "    </tr>\n",
       "  </tbody>\n",
       "</table>\n",
       "</div>"
      ],
      "text/plain": [
       "            Strike\n",
       "Ticker            \n",
       "CALL    108.897930\n",
       "PUT     111.158887"
      ]
     },
     "execution_count": 217,
     "metadata": {},
     "output_type": "execute_result"
    }
   ],
   "source": [
    "#Calculate average strike by Ticker\n",
    "df[['Strike','Ticker']].groupby(['Ticker']).mean()"
   ]
  },
  {
   "cell_type": "markdown",
   "metadata": {},
   "source": [
    "## Scipy"
   ]
  },
  {
   "cell_type": "markdown",
   "metadata": {},
   "source": [
    "Scipy is a Python-based scientific function ecosystem.\n",
    "- scipy.special: special functions\n",
    "- scipy.integrate: integration\n",
    "- scipy.optimize: optimization, most useful\n",
    "- scipy.interpolate\n",
    "- scipy.linalg: linear algebra\n",
    "- scipy.stats: statistics"
   ]
  },
  {
   "cell_type": "markdown",
   "metadata": {},
   "source": [
    "### Simple one-demensional optimiser"
   ]
  },
  {
   "cell_type": "code",
   "execution_count": 218,
   "metadata": {},
   "outputs": [],
   "source": [
    "def f(x):\n",
    "    return -np.exp(-(x-0.7)**2)"
   ]
  },
  {
   "cell_type": "code",
   "execution_count": 219,
   "metadata": {},
   "outputs": [
    {
     "name": "stdout",
     "output_type": "stream",
     "text": [
      "     fun: -1.0\n",
      "    nfev: 13\n",
      "     nit: 9\n",
      " success: True\n",
      "       x: 0.6999999997839409\n"
     ]
    }
   ],
   "source": [
    "from scipy import optimize\n",
    "result = optimize.minimize_scalar(f)\n",
    "print(result)\n",
    "#Allow bounds on the range of solutions, but no other constraints"
   ]
  },
  {
   "cell_type": "markdown",
   "metadata": {},
   "source": [
    "- fun: the minimum value of the function f\n",
    "- nfev: it has to do 13 valuations to test the fun"
   ]
  },
  {
   "cell_type": "code",
   "execution_count": 318,
   "metadata": {},
   "outputs": [
    {
     "name": "stdout",
     "output_type": "stream",
     "text": [
      "Help on function minimize_scalar in module scipy.optimize._minimize:\n",
      "\n",
      "minimize_scalar(fun, bracket=None, bounds=None, args=(), method='brent', tol=None, options=None)\n",
      "    Minimization of scalar function of one variable.\n",
      "    \n",
      "    Parameters\n",
      "    ----------\n",
      "    fun : callable\n",
      "        Objective function.\n",
      "        Scalar function, must return a scalar.\n",
      "    bracket : sequence, optional\n",
      "        For methods 'brent' and 'golden', `bracket` defines the bracketing\n",
      "        interval and can either have three items ``(a, b, c)`` so that\n",
      "        ``a < b < c`` and ``fun(b) < fun(a), fun(c)`` or two items ``a`` and\n",
      "        ``c`` which are assumed to be a starting interval for a downhill\n",
      "        bracket search (see `bracket`); it doesn't always mean that the\n",
      "        obtained solution will satisfy ``a <= x <= c``.\n",
      "    bounds : sequence, optional\n",
      "        For method 'bounded', `bounds` is mandatory and must have two items\n",
      "        corresponding to the optimization bounds.\n",
      "    args : tuple, optional\n",
      "        Extra arguments passed to the objective function.\n",
      "    method : str or callable, optional\n",
      "        Type of solver.  Should be one of:\n",
      "    \n",
      "            - 'Brent'     :ref:`(see here) <optimize.minimize_scalar-brent>`\n",
      "            - 'Bounded'   :ref:`(see here) <optimize.minimize_scalar-bounded>`\n",
      "            - 'Golden'    :ref:`(see here) <optimize.minimize_scalar-golden>`\n",
      "            - custom - a callable object (added in version 0.14.0), see below\n",
      "    \n",
      "    tol : float, optional\n",
      "        Tolerance for termination. For detailed control, use solver-specific\n",
      "        options.\n",
      "    options : dict, optional\n",
      "        A dictionary of solver options.\n",
      "    \n",
      "            maxiter : int\n",
      "                Maximum number of iterations to perform.\n",
      "            disp : bool\n",
      "                Set to True to print convergence messages.\n",
      "    \n",
      "        See :func:`show_options()` for solver-specific options.\n",
      "    \n",
      "    Returns\n",
      "    -------\n",
      "    res : OptimizeResult\n",
      "        The optimization result represented as a ``OptimizeResult`` object.\n",
      "        Important attributes are: ``x`` the solution array, ``success`` a\n",
      "        Boolean flag indicating if the optimizer exited successfully and\n",
      "        ``message`` which describes the cause of the termination. See\n",
      "        `OptimizeResult` for a description of other attributes.\n",
      "    \n",
      "    See also\n",
      "    --------\n",
      "    minimize : Interface to minimization algorithms for scalar multivariate\n",
      "        functions\n",
      "    show_options : Additional options accepted by the solvers\n",
      "    \n",
      "    Notes\n",
      "    -----\n",
      "    This section describes the available solvers that can be selected by the\n",
      "    'method' parameter. The default method is *Brent*.\n",
      "    \n",
      "    Method :ref:`Brent <optimize.minimize_scalar-brent>` uses Brent's\n",
      "    algorithm to find a local minimum.  The algorithm uses inverse\n",
      "    parabolic interpolation when possible to speed up convergence of\n",
      "    the golden section method.\n",
      "    \n",
      "    Method :ref:`Golden <optimize.minimize_scalar-golden>` uses the\n",
      "    golden section search technique. It uses analog of the bisection\n",
      "    method to decrease the bracketed interval. It is usually\n",
      "    preferable to use the *Brent* method.\n",
      "    \n",
      "    Method :ref:`Bounded <optimize.minimize_scalar-bounded>` can\n",
      "    perform bounded minimization. It uses the Brent method to find a\n",
      "    local minimum in the interval x1 < xopt < x2.\n",
      "    \n",
      "    **Custom minimizers**\n",
      "    \n",
      "    It may be useful to pass a custom minimization method, for example\n",
      "    when using some library frontend to minimize_scalar.  You can simply\n",
      "    pass a callable as the ``method`` parameter.\n",
      "    \n",
      "    The callable is called as ``method(fun, args, **kwargs, **options)``\n",
      "    where ``kwargs`` corresponds to any other parameters passed to `minimize`\n",
      "    (such as `bracket`, `tol`, etc.), except the `options` dict, which has\n",
      "    its contents also passed as `method` parameters pair by pair.  The method\n",
      "    shall return an `OptimizeResult` object.\n",
      "    \n",
      "    The provided `method` callable must be able to accept (and possibly ignore)\n",
      "    arbitrary parameters; the set of parameters accepted by `minimize` may\n",
      "    expand in future versions and then these parameters will be passed to\n",
      "    the method.  You can find an example in the scipy.optimize tutorial.\n",
      "    \n",
      "    .. versionadded:: 0.11.0\n",
      "    \n",
      "    Examples\n",
      "    --------\n",
      "    Consider the problem of minimizing the following function.\n",
      "    \n",
      "    >>> def f(x):\n",
      "    ...     return (x - 2) * x * (x + 2)**2\n",
      "    \n",
      "    Using the *Brent* method, we find the local minimum as:\n",
      "    \n",
      "    >>> from scipy.optimize import minimize_scalar\n",
      "    >>> res = minimize_scalar(f)\n",
      "    >>> res.x\n",
      "    1.28077640403\n",
      "    \n",
      "    Using the *Bounded* method, we find a local minimum with specified\n",
      "    bounds as:\n",
      "    \n",
      "    >>> res = minimize_scalar(f, bounds=(-3, -1), method='bounded')\n",
      "    >>> res.x\n",
      "    -2.0000002026\n",
      "\n"
     ]
    }
   ],
   "source": [
    "help(optimize.minimize_scalar)"
   ]
  },
  {
   "cell_type": "markdown",
   "metadata": {},
   "source": [
    "### Minimize a Non-Convex Function"
   ]
  },
  {
   "cell_type": "markdown",
   "metadata": {},
   "source": [
    "有多个最低点的情况，必须用bounded method,不然找到第一个最小值，就停止继续查找了"
   ]
  },
  {
   "cell_type": "code",
   "execution_count": 220,
   "metadata": {},
   "outputs": [],
   "source": [
    "def f2(x):\n",
    "    return (x-2.0)* x *(x+2.0)**2"
   ]
  },
  {
   "cell_type": "code",
   "execution_count": 221,
   "metadata": {},
   "outputs": [
    {
     "data": {
      "image/png": "[encoded data removed]",
      "text/plain": [
       "<Figure size 640x480 with 1 Axes>"
      ]
     },
     "metadata": {},
     "output_type": "display_data"
    }
   ],
   "source": [
    "x = np.linspace(-3,3,100)\n",
    "y = f2(x)\n",
    "plt.plot(x,y);"
   ]
  },
  {
   "cell_type": "code",
   "execution_count": 222,
   "metadata": {},
   "outputs": [
    {
     "data": {
      "text/plain": [
       "     fun: 3.2836517984978577e-13\n",
       " message: 'Solution found.'\n",
       "    nfev: 12\n",
       "  status: 0\n",
       " success: True\n",
       "       x: -2.000000202597239"
      ]
     },
     "execution_count": 222,
     "metadata": {},
     "output_type": "execute_result"
    }
   ],
   "source": [
    "result = optimize.minimize_scalar(f2,bounds=(-3,-1), method='bounded')\n",
    "result"
   ]
  },
  {
   "cell_type": "markdown",
   "metadata": {},
   "source": [
    "### Multidimensional Optimisation"
   ]
  },
  {
   "cell_type": "markdown",
   "metadata": {},
   "source": [
    "optimize.minimize(fun, x0, args=(), method=None, jac=None, hess=None, hessp=None, bounds=None, constraints=(), tol=None, callback=None, options=None）； 最小化一个或多个变量的标量函数\n",
    "\n",
    "- fun: costFunction要去最小化的损失参数； fun(x,*arg) -> float where x is an 1-D array with shape(n,) and args is a tuple of the fixed parameters needed to completely specify the function.\n",
    "\n",
    "\n",
    "- X0: 初始化的theta, 其shape必须为shape(n,)一维数组\n",
    "\n",
    "\n",
    "- Constraints: 约束定义；(constraint, dict)或List of(constraint, dict)\n",
    "\n",
    "\n",
    "- res: 优化结果，x解决方案数组；success布尔值标志，优化程序成功退出；message终止原因；"
   ]
  },
  {
   "cell_type": "code",
   "execution_count": 223,
   "metadata": {},
   "outputs": [],
   "source": [
    "#Define a multdimensional objective function\n",
    "def fn(x):\n",
    "    n = len(x)\n",
    "    v = 0.0\n",
    "    for i in range(0,n):\n",
    "        v = v + (x[i]-i)*(x[i]-i)\n",
    "    return v"
   ]
  },
  {
   "cell_type": "code",
   "execution_count": 225,
   "metadata": {},
   "outputs": [
    {
     "data": {
      "text/plain": [
       "      fun: 1.1868228142039012e-15\n",
       " hess_inv: <4x4 LbfgsInvHessProduct with dtype=float64>\n",
       "      jac: array([ 1.00000000e-08, -5.81385558e-09,  7.70587811e-08,  9.42290862e-09])\n",
       "  message: b'CONVERGENCE: NORM_OF_PROJECTED_GRADIENT_<=_PGTOL'\n",
       "     nfev: 15\n",
       "      nit: 2\n",
       "   status: 0\n",
       "  success: True\n",
       "        x: array([0.        , 0.99999999, 2.00000003, 3.        ])"
      ]
     },
     "execution_count": 225,
     "metadata": {},
     "output_type": "execute_result"
    }
   ],
   "source": [
    "#Set bounds and starting point and call optimizer\n",
    "bnds = ((0,5),(0,5),(0,5),(0,5))\n",
    "x0 = (0,0,0,0)\n",
    "res = optimize.minimize(fn,x0,bounds=bnds)\n",
    "res"
   ]
  },
  {
   "cell_type": "code",
   "execution_count": 234,
   "metadata": {},
   "outputs": [
    {
     "data": {
      "text/plain": [
       "array([1.01380567e-16, 7.99999995e-01, 1.99999999e+00, 2.60000000e+00])"
      ]
     },
     "execution_count": 234,
     "metadata": {},
     "output_type": "execute_result"
    }
   ],
   "source": [
    "res.x"
   ]
  },
  {
   "cell_type": "code",
   "execution_count": 235,
   "metadata": {},
   "outputs": [
    {
     "data": {
      "text/plain": [
       "0.19999999999999973"
      ]
     },
     "execution_count": 235,
     "metadata": {},
     "output_type": "execute_result"
    }
   ],
   "source": [
    "res.fun"
   ]
  },
  {
   "cell_type": "code",
   "execution_count": 236,
   "metadata": {},
   "outputs": [
    {
     "data": {
      "text/plain": [
       "'Optimization terminated successfully.'"
      ]
     },
     "execution_count": 236,
     "metadata": {},
     "output_type": "execute_result"
    }
   ],
   "source": [
    "res.message"
   ]
  },
  {
   "cell_type": "markdown",
   "metadata": {},
   "source": [
    "### Constrained Multidimensional Optimisation"
   ]
  },
  {
   "cell_type": "markdown",
   "metadata": {},
   "source": [
    "Constraints 阻止optimiser找到前一个满足最小值的方案，并且满足内部lambda的函数"
   ]
  },
  {
   "cell_type": "code",
   "execution_count": 230,
   "metadata": {},
   "outputs": [],
   "source": [
    "#Define constraints as Python dictionary using lambda \n",
    "cons = ({'type':'ineq','fun':lambda x: x[0]-2*x[1]+2},\n",
    "        {'type':'ineq','fun':lambda x: -x[1]-2*x[3]+6},\n",
    "        {'type':'ineq','fun':lambda x: -x[2]+2*x[3]+2})"
   ]
  },
  {
   "cell_type": "code",
   "execution_count": 232,
   "metadata": {},
   "outputs": [
    {
     "data": {
      "text/plain": [
       "     fun: 0.19999999999999973\n",
       "     jac: array([ 1.49011612e-08, -3.99999995e-01,  5.58793545e-09, -7.99999978e-01])\n",
       " message: 'Optimization terminated successfully.'\n",
       "    nfev: 24\n",
       "     nit: 4\n",
       "    njev: 4\n",
       "  status: 0\n",
       " success: True\n",
       "       x: array([1.01380567e-16, 7.99999995e-01, 1.99999999e+00, 2.60000000e+00])"
      ]
     },
     "execution_count": 232,
     "metadata": {},
     "output_type": "execute_result"
    }
   ],
   "source": [
    "#Inequalities are all greater than zero constraints\n",
    "res = optimize.minimize(fn,x0,bounds=bnds,constraints=cons)\n",
    "res"
   ]
  },
  {
   "cell_type": "code",
   "execution_count": 238,
   "metadata": {},
   "outputs": [
    {
     "data": {
      "text/plain": [
       "array([3.88695779e-24, 1.00014419e+00, 2.00028838e+00, 3.00029153e+00])"
      ]
     },
     "execution_count": 238,
     "metadata": {},
     "output_type": "execute_result"
    }
   ],
   "source": [
    "cons = ({'type':'ineq','fun':lambda x: x[0]+x[1]+x[2]+x[3]-1})\n",
    "res = optimize.minimize(fn,x0,bounds=bnds,constraints=cons)\n",
    "res.x"
   ]
  },
  {
   "cell_type": "code",
   "execution_count": 239,
   "metadata": {},
   "outputs": [
    {
     "data": {
      "text/plain": [
       "1.8894248940567243e-07"
      ]
     },
     "execution_count": 239,
     "metadata": {},
     "output_type": "execute_result"
    }
   ],
   "source": [
    "res.fun"
   ]
  }
 ],
 "metadata": {
  "kernelspec": {
   "display_name": "Python 3",
   "language": "python",
   "name": "python3"
  },
  "language_info": {
   "codemirror_mode": {
    "name": "ipython",
    "version": 3
   },
   "file_extension": ".py",
   "mimetype": "text/x-python",
   "name": "python",
   "nbconvert_exporter": "python",
   "pygments_lexer": "ipython3",
   "version": "3.7.4"
  }
 },
 "nbformat": 4,
 "nbformat_minor": 2
}
