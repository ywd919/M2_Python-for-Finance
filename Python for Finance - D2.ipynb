{
 "cells": [
  {
   "cell_type": "markdown",
   "metadata": {},
   "source": [
    "## Case Study: Option Valuation with Monte Carlo"
   ]
  },
  {
   "cell_type": "markdown",
   "metadata": {},
   "source": [
    "### 1. Black Scholes Analytical"
   ]
  },
  {
   "cell_type": "code",
   "execution_count": 1,
   "metadata": {},
   "outputs": [],
   "source": [
    "from math import log, exp, sqrt\n",
    "from scipy.stats import norm"
   ]
  },
  {
   "cell_type": "markdown",
   "metadata": {},
   "source": [
    "- 看涨期权定价公式：C = S*N(d1) - Le^(-rT)N(d2)\n",
    "\n",
    "\n",
    "- Stats.norm.cdf(): N()正态分布变量累积概率分布函数"
   ]
  },
  {
   "cell_type": "code",
   "execution_count": 2,
   "metadata": {},
   "outputs": [],
   "source": [
    "#Value of Call Option\n",
    "def priceCallOptionAnalytical(S0, K, T, r, q, sigma):\n",
    "    d1 = (log(S0/K) + (r-q + 0.5*sigma*sigma)*T)/sigma*sqrt(T)\n",
    "    d2 = (log(S0/K) + (r-q + 0.5*sigma*sigma)*T)/sigma*sqrt(T)\n",
    "    value = S0*exp(-q*T)*norm.cdf(d1,0.0,1.0)-K*exp(-r*T)*norm.cdf(d2,0.0,1.0)\n",
    "    return value\n",
    "\n",
    "#sigma: volatility 年度化方差"
   ]
  },
  {
   "cell_type": "code",
   "execution_count": 3,
   "metadata": {},
   "outputs": [
    {
     "data": {
      "text/plain": [
       "13.606563046810876"
      ]
     },
     "execution_count": 3,
     "metadata": {},
     "output_type": "execute_result"
    }
   ],
   "source": [
    "priceCallOptionAnalytical(100,90,1,0.05,0.0,0.1)"
   ]
  },
  {
   "cell_type": "code",
   "execution_count": 4,
   "metadata": {},
   "outputs": [
    {
     "name": "stdout",
     "output_type": "stream",
     "text": [
      "23.6 ns ± 0.98 ns per loop (mean ± std. dev. of 7 runs, 10000000 loops each)\n"
     ]
    }
   ],
   "source": [
    "%timeit priceCallOptionAnalytical"
   ]
  },
  {
   "cell_type": "markdown",
   "metadata": {},
   "source": [
    "### 2. Basic Python"
   ]
  },
  {
   "cell_type": "markdown",
   "metadata": {},
   "source": [
    "Python计算仍基于BSM，模型中的股票指数在风险中立的情况下遵循随机微分方程SDE的布朗运动。 \n",
    "- 随机微分方程： dSt = rStdt + σStdZt; Zt服从布朗运动的随机变量\n"
   ]
  },
  {
   "cell_type": "code",
   "execution_count": 5,
   "metadata": {},
   "outputs": [],
   "source": [
    "import numpy as np\n",
    "import matplotlib\n",
    "%matplotlib inline\n",
    "matplotlib.use('TkAgg')\n",
    "import matplotlib.pyplot as plt"
   ]
  },
  {
   "cell_type": "code",
   "execution_count": 6,
   "metadata": {},
   "outputs": [
    {
     "data": {
      "text/plain": [
       "<Figure size 7200x7200 with 0 Axes>"
      ]
     },
     "metadata": {},
     "output_type": "display_data"
    }
   ],
   "source": [
    "fig = plt.figure(figsize=(100,100))\n",
    "fig.savefig('/Users/yangfeilin/Desktop/pic1.png')"
   ]
  },
  {
   "cell_type": "code",
   "execution_count": 7,
   "metadata": {},
   "outputs": [
    {
     "data": {
      "text/html": [
       "<img src=\"/Users/yangfeilin/Desktop/pic2.png \",width=400,height=400>\n"
      ],
      "text/plain": [
       "<IPython.core.display.HTML object>"
      ]
     },
     "metadata": {},
     "output_type": "display_data"
    }
   ],
   "source": [
    "%%html\n",
    "<img src=\"/Users/yangfeilin/Desktop/pic2.png \",width=400,height=400>"
   ]
  },
  {
   "cell_type": "markdown",
   "metadata": {},
   "source": [
    "课上的例子是用高斯分布进行蒙特卡洛模拟"
   ]
  },
  {
   "cell_type": "code",
   "execution_count": 8,
   "metadata": {},
   "outputs": [],
   "source": [
    "#Monte Carlo evaluation can be done easily\n",
    "import random"
   ]
  },
  {
   "cell_type": "code",
   "execution_count": 9,
   "metadata": {},
   "outputs": [],
   "source": [
    "def priceCallOptionMC(S0,K,T,r,q,sigma,numPaths):\n",
    "    payOff = 0.0\n",
    "    for i in range(0,numPaths):\n",
    "        z = random.gauss(0,1)\n",
    "        S = S0 * exp((r-q-sigma*sigma/2.0)*T + sigma *sqrt(T)*z)\n",
    "        payOff += max(0, S-K)\n",
    "    value = payOff * exp(-r*T)/numPaths\n",
    "    return value\n",
    "\n",
    "#numPath时间间隔上的模拟路径"
   ]
  },
  {
   "cell_type": "code",
   "execution_count": 10,
   "metadata": {},
   "outputs": [
    {
     "data": {
      "text/plain": [
       "14.815990163531659"
      ]
     },
     "execution_count": 10,
     "metadata": {},
     "output_type": "execute_result"
    }
   ],
   "source": [
    "priceCallOptionMC(100, 90, 1, 0.05, 0.0, 0.1, 10000)"
   ]
  },
  {
   "cell_type": "code",
   "execution_count": 11,
   "metadata": {},
   "outputs": [
    {
     "name": "stdout",
     "output_type": "stream",
     "text": [
      "12.1 ms ± 505 µs per loop (mean ± std. dev. of 7 runs, 100 loops each)\n"
     ]
    }
   ],
   "source": [
    "#RunTime Comparision\n",
    "%timeit priceCallOptionMC(100, 90, 1, 0.05, 0.0, 0.1, 10000)"
   ]
  },
  {
   "cell_type": "code",
   "execution_count": 12,
   "metadata": {},
   "outputs": [
    {
     "name": "stdout",
     "output_type": "stream",
     "text": [
      "203 µs ± 18.7 µs per loop (mean ± std. dev. of 7 runs, 10000 loops each)\n"
     ]
    }
   ],
   "source": [
    "%timeit priceCallOptionAnalytical(100,90,1,0.05,0.0,0.1)"
   ]
  },
  {
   "cell_type": "markdown",
   "metadata": {},
   "source": [
    "Scipy win!"
   ]
  },
  {
   "cell_type": "markdown",
   "metadata": {},
   "source": [
    "### 3.Numpy Vectorization"
   ]
  },
  {
   "cell_type": "markdown",
   "metadata": {},
   "source": [
    "Vectorization makes Numpy faster! simply one-dimensional loop over paths"
   ]
  },
  {
   "cell_type": "code",
   "execution_count": 13,
   "metadata": {},
   "outputs": [],
   "source": [
    "import numpy as np"
   ]
  },
  {
   "cell_type": "code",
   "execution_count": 14,
   "metadata": {},
   "outputs": [],
   "source": [
    "def priceCallOptionMC_Numpy(S0,K,T,r,q,sigma,numPaths):\n",
    "    z = np.random.normal(size=numPaths, loc=0.0, scale=1.0)\n",
    "    S = S0*np.exp((r-q-sigma*sigma/2.0)*T + sigma*sqrt(T)*z)\n",
    "    payOff = np.maximum(S-K,0)\n",
    "    value = np.sum(payOff)/numPaths * np.exp(-r*T)\n",
    "    return value\n",
    "\n",
    "#Memory intensive due to holding memories"
   ]
  },
  {
   "cell_type": "code",
   "execution_count": 15,
   "metadata": {},
   "outputs": [
    {
     "data": {
      "text/plain": [
       "14.774683709432038"
      ]
     },
     "execution_count": 15,
     "metadata": {},
     "output_type": "execute_result"
    }
   ],
   "source": [
    "priceCallOptionMC_Numpy(100, 90, 1, 0.05, 0.0, 0.1, 10000)"
   ]
  },
  {
   "cell_type": "code",
   "execution_count": 16,
   "metadata": {},
   "outputs": [
    {
     "name": "stdout",
     "output_type": "stream",
     "text": [
      "443 µs ± 43 µs per loop (mean ± std. dev. of 7 runs, 1000 loops each)\n"
     ]
    }
   ],
   "source": [
    "%timeit priceCallOptionMC_Numpy(100, 90, 1, 0.05, 0.0, 0.1, 10000)"
   ]
  },
  {
   "cell_type": "markdown",
   "metadata": {},
   "source": [
    "### 4. Numba JIT "
   ]
  },
  {
   "cell_type": "code",
   "execution_count": null,
   "metadata": {},
   "outputs": [],
   "source": [
    "def priceCallOptionMC(S0,K,T,r,q,sigma,numPaths):\n",
    "    payOff = 0.0\n",
    "    for i in range(0,numPaths):\n",
    "        z = random.gauss(0,1)\n",
    "        S = S0 * exp((r-q-sigma*sigma/2.0)*T + sigma *sqrt(T)*z)\n",
    "        payOff += max(0, S-K)\n",
    "    value = payOff * exp(-r*T)/numPaths\n",
    "    return value"
   ]
  },
  {
   "cell_type": "code",
   "execution_count": 17,
   "metadata": {},
   "outputs": [],
   "source": [
    "from numba import njit\n",
    "@njit\n",
    "def priceCallOptionMC_Numba(S0,K,T,r,q,sigma,numPaths):\n",
    "    payOff = 0.0\n",
    "    for i in range(0,numPaths):\n",
    "        z = random.gauss(0,1)\n",
    "        S = S0*exp((r-q-sigma*sigma/2.0)*T + sigma*sqrt(T)*z)\n",
    "        payOff += max(0, S-K)\n",
    "    value = payOff * exp(-r*T)/numPaths\n",
    "    return value"
   ]
  },
  {
   "cell_type": "code",
   "execution_count": 18,
   "metadata": {},
   "outputs": [
    {
     "data": {
      "text/plain": [
       "14.545297369359387"
      ]
     },
     "execution_count": 18,
     "metadata": {},
     "output_type": "execute_result"
    }
   ],
   "source": [
    "priceCallOptionMC_Numba(100,90,1,0.05,0.0,0.1,10000)"
   ]
  },
  {
   "cell_type": "code",
   "execution_count": 19,
   "metadata": {},
   "outputs": [
    {
     "name": "stdout",
     "output_type": "stream",
     "text": [
      "521 µs ± 38.3 µs per loop (mean ± std. dev. of 7 runs, 1000 loops each)\n"
     ]
    }
   ],
   "source": [
    "%timeit priceCallOptionMC_Numba(100,90,1,0.05,0.0,0.1,10000)"
   ]
  },
  {
   "cell_type": "markdown",
   "metadata": {},
   "source": [
    "### Conclusion\n",
    "- Numba, Python fast"
   ]
  },
  {
   "cell_type": "markdown",
   "metadata": {},
   "source": [
    "## Case studies: Bond Yield Curves Fitting and Interpolation"
   ]
  },
  {
   "cell_type": "markdown",
   "metadata": {},
   "source": [
    "### 1. Generate Cashflow Times"
   ]
  },
  {
   "cell_type": "code",
   "execution_count": 20,
   "metadata": {},
   "outputs": [],
   "source": [
    "import math"
   ]
  },
  {
   "cell_type": "code",
   "execution_count": 21,
   "metadata": {},
   "outputs": [],
   "source": [
    "def flow_times(maturity, frequency):\n",
    "    small = 1e-10  \n",
    "    #If 0, then the first payment time date will be 0\n",
    "    num_payment_minus_one = int(maturity * frequency - small)\n",
    "    first_payment = maturity - num_payment_minus_one / frequency\n",
    "    times = np.linspace(first_payment, maturity, num_payment_minus_one +1)\n",
    "    return times"
   ]
  },
  {
   "cell_type": "code",
   "execution_count": 22,
   "metadata": {},
   "outputs": [
    {
     "data": {
      "text/plain": [
       "array([1., 2., 3., 4., 5.])"
      ]
     },
     "execution_count": 22,
     "metadata": {},
     "output_type": "execute_result"
    }
   ],
   "source": [
    "flow_times(5,1)"
   ]
  },
  {
   "cell_type": "code",
   "execution_count": 23,
   "metadata": {},
   "outputs": [
    {
     "data": {
      "text/plain": [
       "array([0.5, 1. , 1.5, 2. , 2.5, 3. , 3.5, 4. , 4.5, 5. ])"
      ]
     },
     "execution_count": 23,
     "metadata": {},
     "output_type": "execute_result"
    }
   ],
   "source": [
    "flow_times(5,2)"
   ]
  },
  {
   "cell_type": "code",
   "execution_count": 24,
   "metadata": {},
   "outputs": [
    {
     "data": {
      "text/plain": [
       "array([0.1, 1.1, 2.1, 3.1, 4.1, 5.1])"
      ]
     },
     "execution_count": 24,
     "metadata": {},
     "output_type": "execute_result"
    }
   ],
   "source": [
    "flow_times(5.1,1)"
   ]
  },
  {
   "cell_type": "markdown",
   "metadata": {},
   "source": [
    "### 2.Calculate Full Bond Price from Yield"
   ]
  },
  {
   "cell_type": "code",
   "execution_count": 25,
   "metadata": {},
   "outputs": [],
   "source": [
    "#Use Lambda function\n",
    "def bondFullPriceFromYield(y,maturity,coupon,frequency):\n",
    "    payment_times = flow_times(maturity,frequency)\n",
    "    price = 0.0\n",
    "    df = 1.0     #CF discount factor\n",
    "    for t in payment_times:\n",
    "        df = 1.0/(1.0+y/frequency)**(t*frequency)\n",
    "        price += (coupon/frequency)*df\n",
    "    price += df\n",
    "    return price\n",
    "\n",
    "#按照单元计算，par is 1 unit"
   ]
  },
  {
   "cell_type": "code",
   "execution_count": 26,
   "metadata": {},
   "outputs": [
    {
     "data": {
      "text/plain": [
       "1.0000000000000016"
      ]
     },
     "execution_count": 26,
     "metadata": {},
     "output_type": "execute_result"
    }
   ],
   "source": [
    "bondFullPriceFromYield(0.05, 10, 0.05,2)"
   ]
  },
  {
   "cell_type": "code",
   "execution_count": 27,
   "metadata": {},
   "outputs": [],
   "source": [
    "def bondFullPriceToYield2(fullPrice, maturity,coupon,frequency):\n",
    "    paymentTimes = flow_times(maturity, frequency)\n",
    "    def ytm_func(y):\n",
    "        p = 0.0\n",
    "        for pmtTimes in paymentTimes:\n",
    "            p = p + (coupon/frequency)/(1.0+y/frequency)**(frequency*pmtTime)\n",
    "        p+p+1.0/(1.0+y/frequency)**(frequency*paymentTimes[-1])\n",
    "        diff=p-fullPrice\n",
    "        return diff\n",
    "    initial_guess = 0.05\n",
    "    return optimize.newton(ytm_func, initial_guess)"
   ]
  },
  {
   "cell_type": "code",
   "execution_count": 28,
   "metadata": {},
   "outputs": [],
   "source": [
    "#Calculating accrued interest\n",
    "def accruedinterest(maturity, coupon, frequency):\n",
    "    payment_times = flow_times(maturity, frequency)\n",
    "    accrued_period = 1.0/frequency - payment_times[0]\n",
    "    return accrued_period * coupon"
   ]
  },
  {
   "cell_type": "code",
   "execution_count": 29,
   "metadata": {},
   "outputs": [
    {
     "data": {
      "text/plain": [
       "0.0"
      ]
     },
     "execution_count": 29,
     "metadata": {},
     "output_type": "execute_result"
    }
   ],
   "source": [
    "accruedinterest(3, 0.05,1)"
   ]
  },
  {
   "cell_type": "code",
   "execution_count": 30,
   "metadata": {},
   "outputs": [
    {
     "data": {
      "text/plain": [
       "0.014999999999999993"
      ]
     },
     "execution_count": 30,
     "metadata": {},
     "output_type": "execute_result"
    }
   ],
   "source": [
    "accruedinterest(3.2, 0.05,2)"
   ]
  },
  {
   "cell_type": "markdown",
   "metadata": {},
   "source": [
    "### 3.Bond Price Action"
   ]
  },
  {
   "cell_type": "markdown",
   "metadata": {},
   "source": [
    "Assuming the yield is constant..."
   ]
  },
  {
   "cell_type": "code",
   "execution_count": 31,
   "metadata": {},
   "outputs": [],
   "source": [
    "import matplotlib.pyplot as plt\n",
    "\n",
    "def plotFullPriceAction(y, maturity,coupon, frequency):\n",
    "    calendar_times = np.linspace(0.0, maturity, 1001)\n",
    "    #分散多个区间\n",
    "    fullprices = []\n",
    "    cleanprices = []  \n",
    "    for t in calendar_times:\n",
    "        years_to_maturity = maturity - t\n",
    "        full_price = bondFullPriceFromYield(y, years_to_maturity,coupon,frequency)\n",
    "        accrued = accruedinterest(years_to_maturity,coupon,frequency)\n",
    "        clean_price = full_price - accrued\n",
    "        fullprices.append(full_price)\n",
    "        cleanprices.append(clean_price)\n",
    "        \n",
    "    #Plotting code\n",
    "    plt.plot(calendar_times, fullprices, label = \"full price\")\n",
    "    plt.plot(calendar_times, cleanprices, label = \"clean price\")\n",
    "    plt.legend()"
   ]
  },
  {
   "cell_type": "code",
   "execution_count": 32,
   "metadata": {},
   "outputs": [
    {
     "data": {
      "image/png": "[encoded data removed]",
      "text/plain": [
       "<Figure size 432x288 with 1 Axes>"
      ]
     },
     "metadata": {
      "needs_background": "light"
     },
     "output_type": "display_data"
    }
   ],
   "source": [
    "plotFullPriceAction(0.05, 3, 0.05, 2)"
   ]
  },
  {
   "cell_type": "code",
   "execution_count": 33,
   "metadata": {},
   "outputs": [
    {
     "data": {
      "image/png": "[encoded data removed]",
      "text/plain": [
       "<Figure size 432x288 with 1 Axes>"
      ]
     },
     "metadata": {
      "needs_background": "light"
     },
     "output_type": "display_data"
    }
   ],
   "source": [
    "plotFullPriceAction(0.08, 3, 0.05, 2)"
   ]
  },
  {
   "cell_type": "markdown",
   "metadata": {},
   "source": [
    "### 4. Loading Bond Data"
   ]
  },
  {
   "cell_type": "code",
   "execution_count": 34,
   "metadata": {},
   "outputs": [],
   "source": [
    "import pandas as pd"
   ]
  },
  {
   "cell_type": "code",
   "execution_count": 37,
   "metadata": {},
   "outputs": [
    {
     "data": {
      "text/html": [
       "<div>\n",
       "<style scoped>\n",
       "    .dataframe tbody tr th:only-of-type {\n",
       "        vertical-align: middle;\n",
       "    }\n",
       "\n",
       "    .dataframe tbody tr th {\n",
       "        vertical-align: top;\n",
       "    }\n",
       "\n",
       "    .dataframe thead th {\n",
       "        text-align: right;\n",
       "    }\n",
       "</style>\n",
       "<table border=\"1\" class=\"dataframe\">\n",
       "  <thead>\n",
       "    <tr style=\"text-align: right;\">\n",
       "      <th></th>\n",
       "      <th>epic</th>\n",
       "      <th>description</th>\n",
       "      <th>coupon</th>\n",
       "      <th>maturity</th>\n",
       "      <th>bid</th>\n",
       "      <th>ask</th>\n",
       "      <th>change</th>\n",
       "      <th>income yield</th>\n",
       "      <th>gross redemption yield</th>\n",
       "    </tr>\n",
       "  </thead>\n",
       "  <tbody>\n",
       "    <tr>\n",
       "      <td>0</td>\n",
       "      <td>TR13</td>\n",
       "      <td>Uk Gilt Treasury Stk</td>\n",
       "      <td>4.50</td>\n",
       "      <td>07-Mar-13</td>\n",
       "      <td>101.92</td>\n",
       "      <td>102.07</td>\n",
       "      <td>-0.01</td>\n",
       "      <td>4.41</td>\n",
       "      <td>0.22</td>\n",
       "    </tr>\n",
       "    <tr>\n",
       "      <td>1</td>\n",
       "      <td>T813</td>\n",
       "      <td>Uk Gilt Treasury Stk</td>\n",
       "      <td>8.00</td>\n",
       "      <td>27-Sep-13</td>\n",
       "      <td>107.86</td>\n",
       "      <td>107.98</td>\n",
       "      <td>-0.03</td>\n",
       "      <td>7.41</td>\n",
       "      <td>0.23</td>\n",
       "    </tr>\n",
       "    <tr>\n",
       "      <td>2</td>\n",
       "      <td>TR14</td>\n",
       "      <td>Uk Gilt Treasury Stk</td>\n",
       "      <td>2.25</td>\n",
       "      <td>07-Mar-14</td>\n",
       "      <td>102.90</td>\n",
       "      <td>103.05</td>\n",
       "      <td>0.01</td>\n",
       "      <td>2.18</td>\n",
       "      <td>0.22</td>\n",
       "    </tr>\n",
       "    <tr>\n",
       "      <td>3</td>\n",
       "      <td>T514</td>\n",
       "      <td>Uk Gilt Treasury Stk</td>\n",
       "      <td>5.00</td>\n",
       "      <td>07-Sep-14</td>\n",
       "      <td>109.28</td>\n",
       "      <td>109.43</td>\n",
       "      <td>0.02</td>\n",
       "      <td>4.57</td>\n",
       "      <td>0.23</td>\n",
       "    </tr>\n",
       "    <tr>\n",
       "      <td>4</td>\n",
       "      <td>TR15</td>\n",
       "      <td>Uk Gilt Treasury Stk</td>\n",
       "      <td>2.75</td>\n",
       "      <td>22-Jan-15</td>\n",
       "      <td>105.57</td>\n",
       "      <td>105.68</td>\n",
       "      <td>0.05</td>\n",
       "      <td>2.60</td>\n",
       "      <td>0.33</td>\n",
       "    </tr>\n",
       "    <tr>\n",
       "      <td>5</td>\n",
       "      <td>T4T</td>\n",
       "      <td>Uk Gilt Treasury Stk</td>\n",
       "      <td>4.75</td>\n",
       "      <td>07-Sep-15</td>\n",
       "      <td>112.92</td>\n",
       "      <td>113.04</td>\n",
       "      <td>0.04</td>\n",
       "      <td>4.20</td>\n",
       "      <td>0.35</td>\n",
       "    </tr>\n",
       "    <tr>\n",
       "      <td>6</td>\n",
       "      <td>TY8</td>\n",
       "      <td>Uk Gilt Treasury Stk</td>\n",
       "      <td>8.00</td>\n",
       "      <td>07-Dec-15</td>\n",
       "      <td>124.39</td>\n",
       "      <td>124.55</td>\n",
       "      <td>0.04</td>\n",
       "      <td>6.43</td>\n",
       "      <td>0.34</td>\n",
       "    </tr>\n",
       "    <tr>\n",
       "      <td>7</td>\n",
       "      <td>TS16</td>\n",
       "      <td>Uk Gilt Treasury Stk</td>\n",
       "      <td>2.00</td>\n",
       "      <td>22-Jan-16</td>\n",
       "      <td>104.92</td>\n",
       "      <td>105.04</td>\n",
       "      <td>0.07</td>\n",
       "      <td>1.91</td>\n",
       "      <td>0.49</td>\n",
       "    </tr>\n",
       "    <tr>\n",
       "      <td>8</td>\n",
       "      <td>T16</td>\n",
       "      <td>Uk Gilt Treasury Stk</td>\n",
       "      <td>4.00</td>\n",
       "      <td>07-Sep-16</td>\n",
       "      <td>113.44</td>\n",
       "      <td>113.55</td>\n",
       "      <td>0.08</td>\n",
       "      <td>3.52</td>\n",
       "      <td>0.56</td>\n",
       "    </tr>\n",
       "    <tr>\n",
       "      <td>9</td>\n",
       "      <td>TR17</td>\n",
       "      <td>Uk Gilt Treasury Stk</td>\n",
       "      <td>8.75</td>\n",
       "      <td>25-Aug-17</td>\n",
       "      <td>138.48</td>\n",
       "      <td>138.66</td>\n",
       "      <td>0.14</td>\n",
       "      <td>6.31</td>\n",
       "      <td>0.77</td>\n",
       "    </tr>\n",
       "    <tr>\n",
       "      <td>10</td>\n",
       "      <td>T18</td>\n",
       "      <td>Uk Gilt Treasury Stk</td>\n",
       "      <td>5.00</td>\n",
       "      <td>07-Mar-18</td>\n",
       "      <td>121.74</td>\n",
       "      <td>121.84</td>\n",
       "      <td>0.16</td>\n",
       "      <td>4.11</td>\n",
       "      <td>0.91</td>\n",
       "    </tr>\n",
       "    <tr>\n",
       "      <td>11</td>\n",
       "      <td>T19</td>\n",
       "      <td>Uk Gilt Treasury Stk</td>\n",
       "      <td>4.50</td>\n",
       "      <td>07-Mar-19</td>\n",
       "      <td>121.28</td>\n",
       "      <td>121.41</td>\n",
       "      <td>0.23</td>\n",
       "      <td>3.71</td>\n",
       "      <td>1.07</td>\n",
       "    </tr>\n",
       "    <tr>\n",
       "      <td>12</td>\n",
       "      <td>TR19</td>\n",
       "      <td>Uk Gilt Treasury Stk</td>\n",
       "      <td>3.75</td>\n",
       "      <td>07-Sep-19</td>\n",
       "      <td>116.50</td>\n",
       "      <td>117.13</td>\n",
       "      <td>0.26</td>\n",
       "      <td>3.21</td>\n",
       "      <td>1.22</td>\n",
       "    </tr>\n",
       "    <tr>\n",
       "      <td>13</td>\n",
       "      <td>TS20</td>\n",
       "      <td>Uk Gilt Treasury Stk</td>\n",
       "      <td>4.75</td>\n",
       "      <td>07-Mar-20</td>\n",
       "      <td>124.24</td>\n",
       "      <td>124.36</td>\n",
       "      <td>0.28</td>\n",
       "      <td>3.82</td>\n",
       "      <td>1.32</td>\n",
       "    </tr>\n",
       "    <tr>\n",
       "      <td>14</td>\n",
       "      <td>TR20</td>\n",
       "      <td>Uk Gilt Treasury Stk</td>\n",
       "      <td>3.75</td>\n",
       "      <td>07-Sep-20</td>\n",
       "      <td>117.25</td>\n",
       "      <td>117.50</td>\n",
       "      <td>0.32</td>\n",
       "      <td>3.19</td>\n",
       "      <td>1.43</td>\n",
       "    </tr>\n",
       "    <tr>\n",
       "      <td>15</td>\n",
       "      <td>TR21</td>\n",
       "      <td>Uk Gilt Treasury Stk</td>\n",
       "      <td>8.00</td>\n",
       "      <td>07-Jun-21</td>\n",
       "      <td>152.25</td>\n",
       "      <td>153.61</td>\n",
       "      <td>0.42</td>\n",
       "      <td>5.23</td>\n",
       "      <td>1.50</td>\n",
       "    </tr>\n",
       "    <tr>\n",
       "      <td>16</td>\n",
       "      <td>TY21</td>\n",
       "      <td>Uk Gilt Treasury Stk</td>\n",
       "      <td>3.75</td>\n",
       "      <td>07-Sep-21</td>\n",
       "      <td>117.62</td>\n",
       "      <td>117.77</td>\n",
       "      <td>0.38</td>\n",
       "      <td>3.19</td>\n",
       "      <td>1.62</td>\n",
       "    </tr>\n",
       "    <tr>\n",
       "      <td>17</td>\n",
       "      <td>TR22</td>\n",
       "      <td>Uk Gilt Treasury Stk</td>\n",
       "      <td>4.00</td>\n",
       "      <td>07-Mar-22</td>\n",
       "      <td>119.92</td>\n",
       "      <td>120.12</td>\n",
       "      <td>0.41</td>\n",
       "      <td>3.33</td>\n",
       "      <td>1.70</td>\n",
       "    </tr>\n",
       "    <tr>\n",
       "      <td>18</td>\n",
       "      <td>TR25</td>\n",
       "      <td>Uk Gilt Treasury Stk</td>\n",
       "      <td>5.00</td>\n",
       "      <td>07-Mar-25</td>\n",
       "      <td>131.89</td>\n",
       "      <td>132.19</td>\n",
       "      <td>0.52</td>\n",
       "      <td>3.79</td>\n",
       "      <td>2.07</td>\n",
       "    </tr>\n",
       "    <tr>\n",
       "      <td>19</td>\n",
       "      <td>TR27</td>\n",
       "      <td>Uk Gilt Treasury Stk</td>\n",
       "      <td>4.25</td>\n",
       "      <td>07-Dec-27</td>\n",
       "      <td>123.78</td>\n",
       "      <td>124.33</td>\n",
       "      <td>0.58</td>\n",
       "      <td>3.43</td>\n",
       "      <td>2.36</td>\n",
       "    </tr>\n",
       "    <tr>\n",
       "      <td>20</td>\n",
       "      <td>TR28</td>\n",
       "      <td>Uk Gilt Treasury Stk</td>\n",
       "      <td>6.00</td>\n",
       "      <td>07-Dec-28</td>\n",
       "      <td>148.21</td>\n",
       "      <td>148.26</td>\n",
       "      <td>0.68</td>\n",
       "      <td>4.05</td>\n",
       "      <td>2.39</td>\n",
       "    </tr>\n",
       "    <tr>\n",
       "      <td>21</td>\n",
       "      <td>TR30</td>\n",
       "      <td>Uk Gilt Treasury Stk</td>\n",
       "      <td>4.75</td>\n",
       "      <td>07-Dec-30</td>\n",
       "      <td>130.96</td>\n",
       "      <td>131.14</td>\n",
       "      <td>0.55</td>\n",
       "      <td>3.62</td>\n",
       "      <td>2.60</td>\n",
       "    </tr>\n",
       "    <tr>\n",
       "      <td>22</td>\n",
       "      <td>TR32</td>\n",
       "      <td>Uk Gilt Treasury Stk</td>\n",
       "      <td>4.25</td>\n",
       "      <td>07-Jun-32</td>\n",
       "      <td>122.93</td>\n",
       "      <td>123.08</td>\n",
       "      <td>0.54</td>\n",
       "      <td>3.46</td>\n",
       "      <td>2.73</td>\n",
       "    </tr>\n",
       "    <tr>\n",
       "      <td>23</td>\n",
       "      <td>T34</td>\n",
       "      <td>Uk Gilt Treasury Stk</td>\n",
       "      <td>4.50</td>\n",
       "      <td>07-Sep-34</td>\n",
       "      <td>126.09</td>\n",
       "      <td>126.18</td>\n",
       "      <td>0.58</td>\n",
       "      <td>3.57</td>\n",
       "      <td>2.89</td>\n",
       "    </tr>\n",
       "    <tr>\n",
       "      <td>24</td>\n",
       "      <td>T4Q</td>\n",
       "      <td>Uk Gilt Treasury Stk</td>\n",
       "      <td>4.25</td>\n",
       "      <td>07-Mar-36</td>\n",
       "      <td>121.46</td>\n",
       "      <td>121.71</td>\n",
       "      <td>0.53</td>\n",
       "      <td>3.50</td>\n",
       "      <td>2.97</td>\n",
       "    </tr>\n",
       "    <tr>\n",
       "      <td>25</td>\n",
       "      <td>TR38</td>\n",
       "      <td>Uk Gilt Treasury Stk</td>\n",
       "      <td>4.75</td>\n",
       "      <td>07-Dec-38</td>\n",
       "      <td>130.70</td>\n",
       "      <td>130.80</td>\n",
       "      <td>0.55</td>\n",
       "      <td>3.63</td>\n",
       "      <td>3.04</td>\n",
       "    </tr>\n",
       "    <tr>\n",
       "      <td>26</td>\n",
       "      <td>T39</td>\n",
       "      <td>Uk Gilt Treasury Stk</td>\n",
       "      <td>4.25</td>\n",
       "      <td>07-Sep-39</td>\n",
       "      <td>120.90</td>\n",
       "      <td>121.15</td>\n",
       "      <td>0.54</td>\n",
       "      <td>3.51</td>\n",
       "      <td>3.09</td>\n",
       "    </tr>\n",
       "    <tr>\n",
       "      <td>27</td>\n",
       "      <td>T40</td>\n",
       "      <td>Uk Gilt Treasury Stk</td>\n",
       "      <td>4.25</td>\n",
       "      <td>07-Dec-40</td>\n",
       "      <td>120.55</td>\n",
       "      <td>120.93</td>\n",
       "      <td>0.53</td>\n",
       "      <td>3.52</td>\n",
       "      <td>3.14</td>\n",
       "    </tr>\n",
       "    <tr>\n",
       "      <td>28</td>\n",
       "      <td>T42</td>\n",
       "      <td>Uk Gilt Treasury Stk</td>\n",
       "      <td>4.50</td>\n",
       "      <td>07-Dec-42</td>\n",
       "      <td>125.77</td>\n",
       "      <td>126.07</td>\n",
       "      <td>0.58</td>\n",
       "      <td>3.57</td>\n",
       "      <td>3.16</td>\n",
       "    </tr>\n",
       "    <tr>\n",
       "      <td>29</td>\n",
       "      <td>T46</td>\n",
       "      <td>Uk Gilt Treasury Stk</td>\n",
       "      <td>4.25</td>\n",
       "      <td>07-Dec-46</td>\n",
       "      <td>120.93</td>\n",
       "      <td>121.37</td>\n",
       "      <td>0.56</td>\n",
       "      <td>3.51</td>\n",
       "      <td>3.22</td>\n",
       "    </tr>\n",
       "    <tr>\n",
       "      <td>30</td>\n",
       "      <td>T49</td>\n",
       "      <td>Uk Gilt Treasury Stk</td>\n",
       "      <td>4.25</td>\n",
       "      <td>07-Dec-49</td>\n",
       "      <td>120.99</td>\n",
       "      <td>121.34</td>\n",
       "      <td>0.53</td>\n",
       "      <td>3.51</td>\n",
       "      <td>3.26</td>\n",
       "    </tr>\n",
       "    <tr>\n",
       "      <td>31</td>\n",
       "      <td>TR4Q</td>\n",
       "      <td>Uk Gilt Treasury Stk</td>\n",
       "      <td>4.25</td>\n",
       "      <td>07-Dec-55</td>\n",
       "      <td>122.49</td>\n",
       "      <td>122.90</td>\n",
       "      <td>0.55</td>\n",
       "      <td>3.46</td>\n",
       "      <td>3.27</td>\n",
       "    </tr>\n",
       "    <tr>\n",
       "      <td>32</td>\n",
       "      <td>TR60</td>\n",
       "      <td>Uk Gilt Treasury Stk</td>\n",
       "      <td>4.00</td>\n",
       "      <td>22-Jan-60</td>\n",
       "      <td>117.60</td>\n",
       "      <td>118.06</td>\n",
       "      <td>0.51</td>\n",
       "      <td>3.39</td>\n",
       "      <td>3.26</td>\n",
       "    </tr>\n",
       "  </tbody>\n",
       "</table>\n",
       "</div>"
      ],
      "text/plain": [
       "    epic           description  coupon   maturity     bid     ask  change  \\\n",
       "0   TR13  Uk Gilt Treasury Stk    4.50  07-Mar-13  101.92  102.07   -0.01   \n",
       "1   T813  Uk Gilt Treasury Stk    8.00  27-Sep-13  107.86  107.98   -0.03   \n",
       "2   TR14  Uk Gilt Treasury Stk    2.25  07-Mar-14  102.90  103.05    0.01   \n",
       "3   T514  Uk Gilt Treasury Stk    5.00  07-Sep-14  109.28  109.43    0.02   \n",
       "4   TR15  Uk Gilt Treasury Stk    2.75  22-Jan-15  105.57  105.68    0.05   \n",
       "5    T4T  Uk Gilt Treasury Stk    4.75  07-Sep-15  112.92  113.04    0.04   \n",
       "6    TY8  Uk Gilt Treasury Stk    8.00  07-Dec-15  124.39  124.55    0.04   \n",
       "7   TS16  Uk Gilt Treasury Stk    2.00  22-Jan-16  104.92  105.04    0.07   \n",
       "8    T16  Uk Gilt Treasury Stk    4.00  07-Sep-16  113.44  113.55    0.08   \n",
       "9   TR17  Uk Gilt Treasury Stk    8.75  25-Aug-17  138.48  138.66    0.14   \n",
       "10   T18  Uk Gilt Treasury Stk    5.00  07-Mar-18  121.74  121.84    0.16   \n",
       "11   T19  Uk Gilt Treasury Stk    4.50  07-Mar-19  121.28  121.41    0.23   \n",
       "12  TR19  Uk Gilt Treasury Stk    3.75  07-Sep-19  116.50  117.13    0.26   \n",
       "13  TS20  Uk Gilt Treasury Stk    4.75  07-Mar-20  124.24  124.36    0.28   \n",
       "14  TR20  Uk Gilt Treasury Stk    3.75  07-Sep-20  117.25  117.50    0.32   \n",
       "15  TR21  Uk Gilt Treasury Stk    8.00  07-Jun-21  152.25  153.61    0.42   \n",
       "16  TY21  Uk Gilt Treasury Stk    3.75  07-Sep-21  117.62  117.77    0.38   \n",
       "17  TR22  Uk Gilt Treasury Stk    4.00  07-Mar-22  119.92  120.12    0.41   \n",
       "18  TR25  Uk Gilt Treasury Stk    5.00  07-Mar-25  131.89  132.19    0.52   \n",
       "19  TR27  Uk Gilt Treasury Stk    4.25  07-Dec-27  123.78  124.33    0.58   \n",
       "20  TR28  Uk Gilt Treasury Stk    6.00  07-Dec-28  148.21  148.26    0.68   \n",
       "21  TR30  Uk Gilt Treasury Stk    4.75  07-Dec-30  130.96  131.14    0.55   \n",
       "22  TR32  Uk Gilt Treasury Stk    4.25  07-Jun-32  122.93  123.08    0.54   \n",
       "23   T34  Uk Gilt Treasury Stk    4.50  07-Sep-34  126.09  126.18    0.58   \n",
       "24   T4Q  Uk Gilt Treasury Stk    4.25  07-Mar-36  121.46  121.71    0.53   \n",
       "25  TR38  Uk Gilt Treasury Stk    4.75  07-Dec-38  130.70  130.80    0.55   \n",
       "26   T39  Uk Gilt Treasury Stk    4.25  07-Sep-39  120.90  121.15    0.54   \n",
       "27   T40  Uk Gilt Treasury Stk    4.25  07-Dec-40  120.55  120.93    0.53   \n",
       "28   T42  Uk Gilt Treasury Stk    4.50  07-Dec-42  125.77  126.07    0.58   \n",
       "29   T46  Uk Gilt Treasury Stk    4.25  07-Dec-46  120.93  121.37    0.56   \n",
       "30   T49  Uk Gilt Treasury Stk    4.25  07-Dec-49  120.99  121.34    0.53   \n",
       "31  TR4Q  Uk Gilt Treasury Stk    4.25  07-Dec-55  122.49  122.90    0.55   \n",
       "32  TR60  Uk Gilt Treasury Stk    4.00  22-Jan-60  117.60  118.06    0.51   \n",
       "\n",
       "    income yield  gross redemption yield  \n",
       "0           4.41                    0.22  \n",
       "1           7.41                    0.23  \n",
       "2           2.18                    0.22  \n",
       "3           4.57                    0.23  \n",
       "4           2.60                    0.33  \n",
       "5           4.20                    0.35  \n",
       "6           6.43                    0.34  \n",
       "7           1.91                    0.49  \n",
       "8           3.52                    0.56  \n",
       "9           6.31                    0.77  \n",
       "10          4.11                    0.91  \n",
       "11          3.71                    1.07  \n",
       "12          3.21                    1.22  \n",
       "13          3.82                    1.32  \n",
       "14          3.19                    1.43  \n",
       "15          5.23                    1.50  \n",
       "16          3.19                    1.62  \n",
       "17          3.33                    1.70  \n",
       "18          3.79                    2.07  \n",
       "19          3.43                    2.36  \n",
       "20          4.05                    2.39  \n",
       "21          3.62                    2.60  \n",
       "22          3.46                    2.73  \n",
       "23          3.57                    2.89  \n",
       "24          3.50                    2.97  \n",
       "25          3.63                    3.04  \n",
       "26          3.51                    3.09  \n",
       "27          3.52                    3.14  \n",
       "28          3.57                    3.16  \n",
       "29          3.51                    3.22  \n",
       "30          3.51                    3.26  \n",
       "31          3.46                    3.27  \n",
       "32          3.39                    3.26  "
      ]
     },
     "execution_count": 37,
     "metadata": {},
     "output_type": "execute_result"
    }
   ],
   "source": [
    "df = pd.read_csv('./data/giltBondPrices.txt',sep='\\t')\n",
    "df"
   ]
  },
  {
   "cell_type": "code",
   "execution_count": 38,
   "metadata": {},
   "outputs": [
    {
     "name": "stdout",
     "output_type": "stream",
     "text": [
      "<class 'pandas.core.frame.DataFrame'>\n",
      "RangeIndex: 33 entries, 0 to 32\n",
      "Data columns (total 9 columns):\n",
      "epic                      33 non-null object\n",
      "description               33 non-null object\n",
      "coupon                    33 non-null float64\n",
      "maturity                  33 non-null object\n",
      "bid                       33 non-null float64\n",
      "ask                       33 non-null float64\n",
      "change                    33 non-null float64\n",
      "income yield              33 non-null float64\n",
      "gross redemption yield    33 non-null float64\n",
      "dtypes: float64(6), object(3)\n",
      "memory usage: 2.4+ KB\n"
     ]
    }
   ],
   "source": [
    "df.info()"
   ]
  },
  {
   "cell_type": "code",
   "execution_count": 39,
   "metadata": {},
   "outputs": [],
   "source": [
    "#Add a new column with the mid price\n",
    "df['mid'] = (df['bid'] + df['ask'])/2.0"
   ]
  },
  {
   "cell_type": "code",
   "execution_count": 40,
   "metadata": {},
   "outputs": [
    {
     "data": {
      "text/html": [
       "<div>\n",
       "<style scoped>\n",
       "    .dataframe tbody tr th:only-of-type {\n",
       "        vertical-align: middle;\n",
       "    }\n",
       "\n",
       "    .dataframe tbody tr th {\n",
       "        vertical-align: top;\n",
       "    }\n",
       "\n",
       "    .dataframe thead th {\n",
       "        text-align: right;\n",
       "    }\n",
       "</style>\n",
       "<table border=\"1\" class=\"dataframe\">\n",
       "  <thead>\n",
       "    <tr style=\"text-align: right;\">\n",
       "      <th></th>\n",
       "      <th>epic</th>\n",
       "      <th>description</th>\n",
       "      <th>coupon</th>\n",
       "      <th>maturity</th>\n",
       "      <th>bid</th>\n",
       "      <th>ask</th>\n",
       "      <th>change</th>\n",
       "      <th>income yield</th>\n",
       "      <th>gross redemption yield</th>\n",
       "      <th>mid</th>\n",
       "    </tr>\n",
       "  </thead>\n",
       "  <tbody>\n",
       "    <tr>\n",
       "      <td>0</td>\n",
       "      <td>TR13</td>\n",
       "      <td>Uk Gilt Treasury Stk</td>\n",
       "      <td>4.5</td>\n",
       "      <td>07-Mar-13</td>\n",
       "      <td>101.92</td>\n",
       "      <td>102.07</td>\n",
       "      <td>-0.01</td>\n",
       "      <td>4.41</td>\n",
       "      <td>0.22</td>\n",
       "      <td>101.995</td>\n",
       "    </tr>\n",
       "    <tr>\n",
       "      <td>1</td>\n",
       "      <td>T813</td>\n",
       "      <td>Uk Gilt Treasury Stk</td>\n",
       "      <td>8.0</td>\n",
       "      <td>27-Sep-13</td>\n",
       "      <td>107.86</td>\n",
       "      <td>107.98</td>\n",
       "      <td>-0.03</td>\n",
       "      <td>7.41</td>\n",
       "      <td>0.23</td>\n",
       "      <td>107.920</td>\n",
       "    </tr>\n",
       "  </tbody>\n",
       "</table>\n",
       "</div>"
      ],
      "text/plain": [
       "   epic           description  coupon   maturity     bid     ask  change  \\\n",
       "0  TR13  Uk Gilt Treasury Stk     4.5  07-Mar-13  101.92  102.07   -0.01   \n",
       "1  T813  Uk Gilt Treasury Stk     8.0  27-Sep-13  107.86  107.98   -0.03   \n",
       "\n",
       "   income yield  gross redemption yield      mid  \n",
       "0          4.41                    0.22  101.995  \n",
       "1          7.41                    0.23  107.920  "
      ]
     },
     "execution_count": 40,
     "metadata": {},
     "output_type": "execute_result"
    }
   ],
   "source": [
    "df.head(2)"
   ]
  },
  {
   "cell_type": "markdown",
   "metadata": {},
   "source": [
    "### 5. Calculating Yield from Price - Part I"
   ]
  },
  {
   "cell_type": "code",
   "execution_count": 53,
   "metadata": {},
   "outputs": [],
   "source": [
    "import pandas as pd\n",
    "import numpy as np\n",
    "from scipy import optimize"
   ]
  },
  {
   "cell_type": "code",
   "execution_count": 54,
   "metadata": {},
   "outputs": [],
   "source": [
    "def bondFullPriceToYield(fullprice, maturity, coupon, frequency):\n",
    "    payment_times = flow_times(maturity, frequency)\n",
    "    ytm_func = lambda y:\\\n",
    "    sum([(coupon/frequency)/(1.0+y/frequency)**(frequency*pmt_time) for pmt_time in payment_times]) + \\\n",
    "    1.0/(1.0+y/frequency)**(frequency*payment_times[-1]) - fullprice\n",
    "   \n",
    "    initial_guess = 0.05\n",
    "    return optimize.newton(ytm_func, initial_guess)"
   ]
  },
  {
   "cell_type": "code",
   "execution_count": 55,
   "metadata": {},
   "outputs": [
    {
     "data": {
      "text/plain": [
       "0.04999999999999995"
      ]
     },
     "execution_count": 55,
     "metadata": {},
     "output_type": "execute_result"
    }
   ],
   "source": [
    "bondFullPriceToYield(1.0, 10, 0.05, 2)"
   ]
  },
  {
   "cell_type": "code",
   "execution_count": 56,
   "metadata": {},
   "outputs": [],
   "source": [
    "def bondFullPriceToYield2(fullprice, maturity, coupon,frequency):\n",
    "    payment_times = flow_times(maturity, frequency)\n",
    "    def ytm_func(y):\n",
    "        p = 0.0\n",
    "        for pmtTime in payment_times:\n",
    "            p = p+(coupon/frequency)/(1.0+y/frequency)**(frequency*pmtTime)\n",
    "        p = p+1.0/(1.0+y/frequency)**(freqency*payment_times[-1])\n",
    "        diff = p-fullprice\n",
    "        return diff\n",
    "    initial_guess = 0.05\n",
    "    return optimize.newton(ytm_func, initial_guess)\n",
    "    "
   ]
  },
  {
   "cell_type": "code",
   "execution_count": 59,
   "metadata": {},
   "outputs": [],
   "source": [
    "def yearFrac(d1, d2, daysInYear = 365.252):\n",
    "    day_diff = d2 - d1\n",
    "    frac = day_diff.days / daysInYear\n",
    "    return frac"
   ]
  },
  {
   "cell_type": "code",
   "execution_count": 61,
   "metadata": {},
   "outputs": [],
   "source": [
    "import datetime as dt\n",
    "ytms = []\n",
    "yearsToMaturities = []\n",
    "fullPrices = []\n",
    "accrueds = []\n",
    "settlement = dt.datetime(2012,9,19)\n",
    "\n",
    "for index, bond in df.iterrows():\n",
    "    \n",
    "    dateString = bond['maturity']\n",
    "    #The bond maturity date is not a \"date\", need to transform here\n",
    "    maturityDt = dt.datetime.strptime(dateString, \"%d-%b-%y\")\n",
    "    yearsToMaturity = yearFrac(settlement, maturityDt)\n",
    "    \n",
    "    coupon = bond['coupon']/100.0\n",
    "    frequency = 2\n",
    "    cleanPrice = bond['mid']/100.0\n",
    "    \n",
    "    accrued = accruedinterest(yearsToMaturity, coupon, frequency)\n",
    "    fullPrice = cleanPrice + accrued\n",
    "    \n",
    "    ytm = bondFullPriceToYield(fullPrice, yearsToMaturity, coupon, frequency)\n",
    "    \n",
    "    fullPrices.append(fullPrice*100)\n",
    "    ytms.append(ytm*100)\n",
    "    yearsToMaturities.append(yearsToMaturity)\n",
    "    accrueds.append(accrued)"
   ]
  },
  {
   "cell_type": "code",
   "execution_count": 62,
   "metadata": {},
   "outputs": [],
   "source": [
    "import matplotlib.pyplot as plt"
   ]
  },
  {
   "cell_type": "code",
   "execution_count": 65,
   "metadata": {},
   "outputs": [],
   "source": [
    "df['ytm'] = ytms\n",
    "df['yearsToMaturity'] = yearsToMaturities\n",
    "df['fullPrice'] = fullPrices\n",
    "df['accd'] = accrueds"
   ]
  },
  {
   "cell_type": "markdown",
   "metadata": {},
   "source": [
    "### 6.Yield Curve Points"
   ]
  },
  {
   "cell_type": "code",
   "execution_count": 66,
   "metadata": {},
   "outputs": [
    {
     "data": {
      "text/plain": [
       "Text(0, 0.5, 'Yield to Maturity')"
      ]
     },
     "execution_count": 66,
     "metadata": {},
     "output_type": "execute_result"
    },
    {
     "data": {
      "image/png": "[encoded data removed]",
      "text/plain": [
       "<Figure size 864x432 with 1 Axes>"
      ]
     },
     "metadata": {
      "needs_background": "light"
     },
     "output_type": "display_data"
    }
   ],
   "source": [
    "plt.figure(figsize=(12,6))\n",
    "plt.plot(df['yearsToMaturity'],df['ytm'],'o')\n",
    "plt.grid(True)\n",
    "plt.xlabel('Time to Maturity (years)')\n",
    "plt.ylabel('Yield to Maturity')"
   ]
  },
  {
   "cell_type": "markdown",
   "metadata": {},
   "source": [
    "### 7. Fit and Plot"
   ]
  },
  {
   "cell_type": "code",
   "execution_count": 80,
   "metadata": {},
   "outputs": [],
   "source": [
    "#Polynomial Fit to the Curve\n",
    "def fitAndPlot(t,y,d):\n",
    "    #t is the vector of years and y is the vector of yields\n",
    "    coeffs = np.polyfit(t, y, deg=d)\n",
    "    ry = np.polyval(coeffs,t)\n",
    "    \n",
    "    plt.figure(figsize=(12,8))\n",
    "    plt.plot(t,y,'o')\n",
    "    plt.plot(t,ry,'r',label = 'Fit')\n",
    "    plt.legend(loc=0)\n",
    "    plt.grid(True)\n",
    "    plt.xlabel('Time to Maturity (years)')\n",
    "    plt.ylabel('Yield to Maturity')"
   ]
  },
  {
   "cell_type": "code",
   "execution_count": 83,
   "metadata": {},
   "outputs": [
    {
     "name": "stderr",
     "output_type": "stream",
     "text": [
      "/Users/yangfeilin/opt/anaconda3/lib/python3.7/site-packages/ipykernel_launcher.py:1: RankWarning: Polyfit may be poorly conditioned\n",
      "  \"\"\"Entry point for launching an IPython kernel.\n"
     ]
    },
    {
     "data": {
      "image/png": "[encoded data removed]",
      "text/plain": [
       "<Figure size 864x576 with 1 Axes>"
      ]
     },
     "metadata": {
      "needs_background": "light"
     },
     "output_type": "display_data"
    }
   ],
   "source": [
    "fitAndPlot((1,2,3,4,5),(0.03,0.05,0.07,0.08,0.14),7)"
   ]
  },
  {
   "cell_type": "markdown",
   "metadata": {},
   "source": [
    "## Case Studies: Mean-Variance Portfolio Optimisation"
   ]
  },
  {
   "cell_type": "markdown",
   "metadata": {},
   "source": [
    "### 1. Stock Price Data"
   ]
  },
  {
   "cell_type": "code",
   "execution_count": 86,
   "metadata": {},
   "outputs": [],
   "source": [
    "timeSeriesData = pd.read_csv('./data/timeSeriesData.csv')"
   ]
  },
  {
   "cell_type": "code",
   "execution_count": 87,
   "metadata": {},
   "outputs": [
    {
     "data": {
      "text/plain": [
       "'0.25.1'"
      ]
     },
     "execution_count": 87,
     "metadata": {},
     "output_type": "execute_result"
    }
   ],
   "source": [
    "import pandas as pd\n",
    "pd.__version__"
   ]
  },
  {
   "cell_type": "code",
   "execution_count": 88,
   "metadata": {},
   "outputs": [
    {
     "data": {
      "text/html": [
       "<div>\n",
       "<style scoped>\n",
       "    .dataframe tbody tr th:only-of-type {\n",
       "        vertical-align: middle;\n",
       "    }\n",
       "\n",
       "    .dataframe tbody tr th {\n",
       "        vertical-align: top;\n",
       "    }\n",
       "\n",
       "    .dataframe thead th {\n",
       "        text-align: right;\n",
       "    }\n",
       "</style>\n",
       "<table border=\"1\" class=\"dataframe\">\n",
       "  <thead>\n",
       "    <tr style=\"text-align: right;\">\n",
       "      <th></th>\n",
       "      <th>Unnamed: 0</th>\n",
       "      <th>Date</th>\n",
       "      <th>Open</th>\n",
       "      <th>High</th>\n",
       "      <th>Low</th>\n",
       "      <th>Close</th>\n",
       "      <th>Volume</th>\n",
       "      <th>OpenInt</th>\n",
       "      <th>Ticker</th>\n",
       "    </tr>\n",
       "  </thead>\n",
       "  <tbody>\n",
       "    <tr>\n",
       "      <td>0</td>\n",
       "      <td>0</td>\n",
       "      <td>1970-01-02</td>\n",
       "      <td>0.7587</td>\n",
       "      <td>0.8092</td>\n",
       "      <td>0.7587</td>\n",
       "      <td>0.8092</td>\n",
       "      <td>753088</td>\n",
       "      <td>0</td>\n",
       "      <td>ba</td>\n",
       "    </tr>\n",
       "    <tr>\n",
       "      <td>1</td>\n",
       "      <td>1</td>\n",
       "      <td>1970-01-05</td>\n",
       "      <td>0.8263</td>\n",
       "      <td>0.8429</td>\n",
       "      <td>0.8263</td>\n",
       "      <td>0.8345</td>\n",
       "      <td>879203</td>\n",
       "      <td>0</td>\n",
       "      <td>ba</td>\n",
       "    </tr>\n",
       "    <tr>\n",
       "      <td>2</td>\n",
       "      <td>2</td>\n",
       "      <td>1970-01-06</td>\n",
       "      <td>0.8429</td>\n",
       "      <td>0.8598</td>\n",
       "      <td>0.8429</td>\n",
       "      <td>0.8429</td>\n",
       "      <td>1607067</td>\n",
       "      <td>0</td>\n",
       "      <td>ba</td>\n",
       "    </tr>\n",
       "    <tr>\n",
       "      <td>3</td>\n",
       "      <td>3</td>\n",
       "      <td>1970-01-07</td>\n",
       "      <td>0.8429</td>\n",
       "      <td>0.8598</td>\n",
       "      <td>0.8429</td>\n",
       "      <td>0.8512</td>\n",
       "      <td>767501</td>\n",
       "      <td>0</td>\n",
       "      <td>ba</td>\n",
       "    </tr>\n",
       "    <tr>\n",
       "      <td>4</td>\n",
       "      <td>4</td>\n",
       "      <td>1970-01-08</td>\n",
       "      <td>0.8512</td>\n",
       "      <td>0.8512</td>\n",
       "      <td>0.8263</td>\n",
       "      <td>0.8429</td>\n",
       "      <td>958476</td>\n",
       "      <td>0</td>\n",
       "      <td>ba</td>\n",
       "    </tr>\n",
       "    <tr>\n",
       "      <td>...</td>\n",
       "      <td>...</td>\n",
       "      <td>...</td>\n",
       "      <td>...</td>\n",
       "      <td>...</td>\n",
       "      <td>...</td>\n",
       "      <td>...</td>\n",
       "      <td>...</td>\n",
       "      <td>...</td>\n",
       "      <td>...</td>\n",
       "    </tr>\n",
       "    <tr>\n",
       "      <td>184557</td>\n",
       "      <td>12069</td>\n",
       "      <td>2017-11-06</td>\n",
       "      <td>82.5360</td>\n",
       "      <td>83.1010</td>\n",
       "      <td>82.2980</td>\n",
       "      <td>82.9820</td>\n",
       "      <td>9360223</td>\n",
       "      <td>0</td>\n",
       "      <td>xom</td>\n",
       "    </tr>\n",
       "    <tr>\n",
       "      <td>184558</td>\n",
       "      <td>12070</td>\n",
       "      <td>2017-11-07</td>\n",
       "      <td>82.9720</td>\n",
       "      <td>83.0510</td>\n",
       "      <td>82.3380</td>\n",
       "      <td>82.8140</td>\n",
       "      <td>8508720</td>\n",
       "      <td>0</td>\n",
       "      <td>xom</td>\n",
       "    </tr>\n",
       "    <tr>\n",
       "      <td>184559</td>\n",
       "      <td>12071</td>\n",
       "      <td>2017-11-08</td>\n",
       "      <td>82.5960</td>\n",
       "      <td>82.7340</td>\n",
       "      <td>82.1000</td>\n",
       "      <td>82.7050</td>\n",
       "      <td>8771697</td>\n",
       "      <td>0</td>\n",
       "      <td>xom</td>\n",
       "    </tr>\n",
       "    <tr>\n",
       "      <td>184560</td>\n",
       "      <td>12072</td>\n",
       "      <td>2017-11-09</td>\n",
       "      <td>82.5360</td>\n",
       "      <td>83.3680</td>\n",
       "      <td>82.3180</td>\n",
       "      <td>83.2000</td>\n",
       "      <td>10575654</td>\n",
       "      <td>0</td>\n",
       "      <td>xom</td>\n",
       "    </tr>\n",
       "    <tr>\n",
       "      <td>184561</td>\n",
       "      <td>12073</td>\n",
       "      <td>2017-11-10</td>\n",
       "      <td>83.0100</td>\n",
       "      <td>83.0800</td>\n",
       "      <td>82.4200</td>\n",
       "      <td>82.9400</td>\n",
       "      <td>8693290</td>\n",
       "      <td>0</td>\n",
       "      <td>xom</td>\n",
       "    </tr>\n",
       "  </tbody>\n",
       "</table>\n",
       "<p>184562 rows × 9 columns</p>\n",
       "</div>"
      ],
      "text/plain": [
       "        Unnamed: 0        Date     Open     High      Low    Close    Volume  \\\n",
       "0                0  1970-01-02   0.7587   0.8092   0.7587   0.8092    753088   \n",
       "1                1  1970-01-05   0.8263   0.8429   0.8263   0.8345    879203   \n",
       "2                2  1970-01-06   0.8429   0.8598   0.8429   0.8429   1607067   \n",
       "3                3  1970-01-07   0.8429   0.8598   0.8429   0.8512    767501   \n",
       "4                4  1970-01-08   0.8512   0.8512   0.8263   0.8429    958476   \n",
       "...            ...         ...      ...      ...      ...      ...       ...   \n",
       "184557       12069  2017-11-06  82.5360  83.1010  82.2980  82.9820   9360223   \n",
       "184558       12070  2017-11-07  82.9720  83.0510  82.3380  82.8140   8508720   \n",
       "184559       12071  2017-11-08  82.5960  82.7340  82.1000  82.7050   8771697   \n",
       "184560       12072  2017-11-09  82.5360  83.3680  82.3180  83.2000  10575654   \n",
       "184561       12073  2017-11-10  83.0100  83.0800  82.4200  82.9400   8693290   \n",
       "\n",
       "        OpenInt Ticker  \n",
       "0             0     ba  \n",
       "1             0     ba  \n",
       "2             0     ba  \n",
       "3             0     ba  \n",
       "4             0     ba  \n",
       "...         ...    ...  \n",
       "184557        0    xom  \n",
       "184558        0    xom  \n",
       "184559        0    xom  \n",
       "184560        0    xom  \n",
       "184561        0    xom  \n",
       "\n",
       "[184562 rows x 9 columns]"
      ]
     },
     "execution_count": 88,
     "metadata": {},
     "output_type": "execute_result"
    }
   ],
   "source": [
    "timeSeriesData"
   ]
  },
  {
   "cell_type": "code",
   "execution_count": 89,
   "metadata": {},
   "outputs": [
    {
     "data": {
      "text/plain": [
       "array(['ba', 'dis', 'ge', 'hpq', 'ibm', 'intc', 'jnj', 'jpm', 'ko', 'mcd',\n",
       "       'mo', 'mrk', 'pg', 'utx', 'xom'], dtype=object)"
      ]
     },
     "execution_count": 89,
     "metadata": {},
     "output_type": "execute_result"
    }
   ],
   "source": [
    "tickers = timeSeriesData['Ticker'].unique()\n",
    "tickers"
   ]
  },
  {
   "cell_type": "code",
   "execution_count": 90,
   "metadata": {},
   "outputs": [],
   "source": [
    "closePrices = timeSeriesData[['Date','Ticker','Close']]"
   ]
  },
  {
   "cell_type": "code",
   "execution_count": 91,
   "metadata": {},
   "outputs": [
    {
     "data": {
      "text/html": [
       "<div>\n",
       "<style scoped>\n",
       "    .dataframe tbody tr th:only-of-type {\n",
       "        vertical-align: middle;\n",
       "    }\n",
       "\n",
       "    .dataframe tbody tr th {\n",
       "        vertical-align: top;\n",
       "    }\n",
       "\n",
       "    .dataframe thead th {\n",
       "        text-align: right;\n",
       "    }\n",
       "</style>\n",
       "<table border=\"1\" class=\"dataframe\">\n",
       "  <thead>\n",
       "    <tr style=\"text-align: right;\">\n",
       "      <th></th>\n",
       "      <th>Ticker</th>\n",
       "      <th>Close</th>\n",
       "    </tr>\n",
       "    <tr>\n",
       "      <th>Date</th>\n",
       "      <th></th>\n",
       "      <th></th>\n",
       "    </tr>\n",
       "  </thead>\n",
       "  <tbody>\n",
       "    <tr>\n",
       "      <td>1970-01-02</td>\n",
       "      <td>ba</td>\n",
       "      <td>0.8092</td>\n",
       "    </tr>\n",
       "    <tr>\n",
       "      <td>1970-01-05</td>\n",
       "      <td>ba</td>\n",
       "      <td>0.8345</td>\n",
       "    </tr>\n",
       "    <tr>\n",
       "      <td>1970-01-06</td>\n",
       "      <td>ba</td>\n",
       "      <td>0.8429</td>\n",
       "    </tr>\n",
       "    <tr>\n",
       "      <td>1970-01-07</td>\n",
       "      <td>ba</td>\n",
       "      <td>0.8512</td>\n",
       "    </tr>\n",
       "    <tr>\n",
       "      <td>1970-01-08</td>\n",
       "      <td>ba</td>\n",
       "      <td>0.8429</td>\n",
       "    </tr>\n",
       "    <tr>\n",
       "      <td>...</td>\n",
       "      <td>...</td>\n",
       "      <td>...</td>\n",
       "    </tr>\n",
       "    <tr>\n",
       "      <td>2017-11-06</td>\n",
       "      <td>xom</td>\n",
       "      <td>82.9820</td>\n",
       "    </tr>\n",
       "    <tr>\n",
       "      <td>2017-11-07</td>\n",
       "      <td>xom</td>\n",
       "      <td>82.8140</td>\n",
       "    </tr>\n",
       "    <tr>\n",
       "      <td>2017-11-08</td>\n",
       "      <td>xom</td>\n",
       "      <td>82.7050</td>\n",
       "    </tr>\n",
       "    <tr>\n",
       "      <td>2017-11-09</td>\n",
       "      <td>xom</td>\n",
       "      <td>83.2000</td>\n",
       "    </tr>\n",
       "    <tr>\n",
       "      <td>2017-11-10</td>\n",
       "      <td>xom</td>\n",
       "      <td>82.9400</td>\n",
       "    </tr>\n",
       "  </tbody>\n",
       "</table>\n",
       "<p>184562 rows × 2 columns</p>\n",
       "</div>"
      ],
      "text/plain": [
       "           Ticker    Close\n",
       "Date                      \n",
       "1970-01-02     ba   0.8092\n",
       "1970-01-05     ba   0.8345\n",
       "1970-01-06     ba   0.8429\n",
       "1970-01-07     ba   0.8512\n",
       "1970-01-08     ba   0.8429\n",
       "...           ...      ...\n",
       "2017-11-06    xom  82.9820\n",
       "2017-11-07    xom  82.8140\n",
       "2017-11-08    xom  82.7050\n",
       "2017-11-09    xom  83.2000\n",
       "2017-11-10    xom  82.9400\n",
       "\n",
       "[184562 rows x 2 columns]"
      ]
     },
     "execution_count": 91,
     "metadata": {},
     "output_type": "execute_result"
    }
   ],
   "source": [
    "closePrices.set_index('Date')"
   ]
  },
  {
   "cell_type": "markdown",
   "metadata": {},
   "source": [
    "### 2. Align the Times Series"
   ]
  },
  {
   "cell_type": "code",
   "execution_count": 92,
   "metadata": {},
   "outputs": [
    {
     "name": "stderr",
     "output_type": "stream",
     "text": [
      "/Users/yangfeilin/opt/anaconda3/lib/python3.7/site-packages/ipykernel_launcher.py:10: FutureWarning: Sorting because non-concatenation axis is not aligned. A future version\n",
      "of pandas will change to not sort by default.\n",
      "\n",
      "To accept the future behavior, pass 'sort=False'.\n",
      "\n",
      "To retain the current behavior and silence the warning, pass 'sort=True'.\n",
      "\n",
      "  # Remove the CWD from sys.path while we load stuff.\n"
     ]
    }
   ],
   "source": [
    "#重新调整数据的分布格式, 从竖着的转换成横着的\n",
    "df_all = pd.DataFrame()\n",
    "\n",
    "for ticker in tickers:\n",
    "    df_ticker = closePrices[closePrices.Ticker == ticker]\n",
    "    df_ticker = df_ticker.set_index('Date')\n",
    "    df_ticker.columns = [['Ticker', ticker]]\n",
    "    df_ticker = df_ticker.drop(['Ticker'], axis = 1)  \n",
    "    #删除的第一列都是ticker，跟第一行的重复！\n",
    "    df_all = pd.concat([df_ticker,df_all], axis=1, join=\"outer\")\n",
    "    df_all = df_all.dropna()  #drop NA value"
   ]
  },
  {
   "cell_type": "code",
   "execution_count": 93,
   "metadata": {},
   "outputs": [
    {
     "data": {
      "text/html": [
       "<div>\n",
       "<style scoped>\n",
       "    .dataframe tbody tr th:only-of-type {\n",
       "        vertical-align: middle;\n",
       "    }\n",
       "\n",
       "    .dataframe tbody tr th {\n",
       "        vertical-align: top;\n",
       "    }\n",
       "\n",
       "    .dataframe thead tr th {\n",
       "        text-align: left;\n",
       "    }\n",
       "</style>\n",
       "<table border=\"1\" class=\"dataframe\">\n",
       "  <thead>\n",
       "    <tr>\n",
       "      <th></th>\n",
       "      <th>xom</th>\n",
       "      <th>utx</th>\n",
       "      <th>pg</th>\n",
       "      <th>mrk</th>\n",
       "      <th>mo</th>\n",
       "      <th>mcd</th>\n",
       "      <th>ko</th>\n",
       "      <th>jpm</th>\n",
       "      <th>jnj</th>\n",
       "      <th>intc</th>\n",
       "      <th>ibm</th>\n",
       "      <th>hpq</th>\n",
       "      <th>ge</th>\n",
       "      <th>dis</th>\n",
       "      <th>ba</th>\n",
       "    </tr>\n",
       "  </thead>\n",
       "  <tbody>\n",
       "    <tr>\n",
       "      <td>1972-01-07</td>\n",
       "      <td>1.8452</td>\n",
       "      <td>0.31680</td>\n",
       "      <td>1.9119</td>\n",
       "      <td>0.7077</td>\n",
       "      <td>0.04379</td>\n",
       "      <td>0.7691</td>\n",
       "      <td>0.9870</td>\n",
       "      <td>2.9672</td>\n",
       "      <td>0.9929</td>\n",
       "      <td>0.01592</td>\n",
       "      <td>14.080</td>\n",
       "      <td>0.27561</td>\n",
       "      <td>1.0707</td>\n",
       "      <td>1.0770</td>\n",
       "      <td>0.5815</td>\n",
       "    </tr>\n",
       "    <tr>\n",
       "      <td>1972-01-14</td>\n",
       "      <td>1.8132</td>\n",
       "      <td>0.32548</td>\n",
       "      <td>1.9523</td>\n",
       "      <td>0.6998</td>\n",
       "      <td>0.04379</td>\n",
       "      <td>0.7448</td>\n",
       "      <td>0.9870</td>\n",
       "      <td>3.0419</td>\n",
       "      <td>0.9685</td>\n",
       "      <td>0.00791</td>\n",
       "      <td>14.546</td>\n",
       "      <td>0.27943</td>\n",
       "      <td>1.0467</td>\n",
       "      <td>1.1319</td>\n",
       "      <td>0.6492</td>\n",
       "    </tr>\n",
       "    <tr>\n",
       "      <td>1972-01-21</td>\n",
       "      <td>1.8452</td>\n",
       "      <td>0.33400</td>\n",
       "      <td>1.9927</td>\n",
       "      <td>0.6840</td>\n",
       "      <td>0.04379</td>\n",
       "      <td>0.7530</td>\n",
       "      <td>0.9747</td>\n",
       "      <td>3.0088</td>\n",
       "      <td>0.9767</td>\n",
       "      <td>0.00791</td>\n",
       "      <td>15.305</td>\n",
       "      <td>0.29095</td>\n",
       "      <td>1.0467</td>\n",
       "      <td>1.1775</td>\n",
       "      <td>0.6576</td>\n",
       "    </tr>\n",
       "    <tr>\n",
       "      <td>1972-01-24</td>\n",
       "      <td>1.7969</td>\n",
       "      <td>0.32548</td>\n",
       "      <td>1.9605</td>\n",
       "      <td>0.6840</td>\n",
       "      <td>0.04379</td>\n",
       "      <td>0.7448</td>\n",
       "      <td>0.9870</td>\n",
       "      <td>2.9921</td>\n",
       "      <td>0.9602</td>\n",
       "      <td>0.00791</td>\n",
       "      <td>14.990</td>\n",
       "      <td>0.29095</td>\n",
       "      <td>1.0305</td>\n",
       "      <td>1.1683</td>\n",
       "      <td>0.6323</td>\n",
       "    </tr>\n",
       "    <tr>\n",
       "      <td>1972-01-25</td>\n",
       "      <td>1.8050</td>\n",
       "      <td>0.33400</td>\n",
       "      <td>1.9523</td>\n",
       "      <td>0.6998</td>\n",
       "      <td>0.04379</td>\n",
       "      <td>0.7448</td>\n",
       "      <td>0.9951</td>\n",
       "      <td>2.9672</td>\n",
       "      <td>0.9685</td>\n",
       "      <td>0.00791</td>\n",
       "      <td>15.215</td>\n",
       "      <td>0.28705</td>\n",
       "      <td>1.0305</td>\n",
       "      <td>1.1683</td>\n",
       "      <td>0.6405</td>\n",
       "    </tr>\n",
       "    <tr>\n",
       "      <td>...</td>\n",
       "      <td>...</td>\n",
       "      <td>...</td>\n",
       "      <td>...</td>\n",
       "      <td>...</td>\n",
       "      <td>...</td>\n",
       "      <td>...</td>\n",
       "      <td>...</td>\n",
       "      <td>...</td>\n",
       "      <td>...</td>\n",
       "      <td>...</td>\n",
       "      <td>...</td>\n",
       "      <td>...</td>\n",
       "      <td>...</td>\n",
       "      <td>...</td>\n",
       "      <td>...</td>\n",
       "    </tr>\n",
       "    <tr>\n",
       "      <td>2017-11-06</td>\n",
       "      <td>82.9820</td>\n",
       "      <td>120.39000</td>\n",
       "      <td>86.0500</td>\n",
       "      <td>55.8800</td>\n",
       "      <td>63.45000</td>\n",
       "      <td>170.0700</td>\n",
       "      <td>45.4700</td>\n",
       "      <td>100.7800</td>\n",
       "      <td>139.7600</td>\n",
       "      <td>46.70000</td>\n",
       "      <td>149.350</td>\n",
       "      <td>21.44000</td>\n",
       "      <td>20.1300</td>\n",
       "      <td>100.6400</td>\n",
       "      <td>262.6600</td>\n",
       "    </tr>\n",
       "    <tr>\n",
       "      <td>2017-11-07</td>\n",
       "      <td>82.8140</td>\n",
       "      <td>120.75000</td>\n",
       "      <td>86.9800</td>\n",
       "      <td>55.5900</td>\n",
       "      <td>64.31000</td>\n",
       "      <td>170.7700</td>\n",
       "      <td>45.9400</td>\n",
       "      <td>98.7500</td>\n",
       "      <td>139.7700</td>\n",
       "      <td>46.78000</td>\n",
       "      <td>149.850</td>\n",
       "      <td>21.38000</td>\n",
       "      <td>20.2100</td>\n",
       "      <td>101.6100</td>\n",
       "      <td>264.7100</td>\n",
       "    </tr>\n",
       "    <tr>\n",
       "      <td>2017-11-08</td>\n",
       "      <td>82.7050</td>\n",
       "      <td>120.28000</td>\n",
       "      <td>87.5800</td>\n",
       "      <td>56.5800</td>\n",
       "      <td>64.59000</td>\n",
       "      <td>170.1000</td>\n",
       "      <td>46.1800</td>\n",
       "      <td>97.6400</td>\n",
       "      <td>141.3200</td>\n",
       "      <td>46.70000</td>\n",
       "      <td>150.070</td>\n",
       "      <td>21.42000</td>\n",
       "      <td>20.1200</td>\n",
       "      <td>101.1800</td>\n",
       "      <td>264.1500</td>\n",
       "    </tr>\n",
       "    <tr>\n",
       "      <td>2017-11-09</td>\n",
       "      <td>83.2000</td>\n",
       "      <td>118.37000</td>\n",
       "      <td>87.7800</td>\n",
       "      <td>56.2100</td>\n",
       "      <td>64.51000</td>\n",
       "      <td>167.0000</td>\n",
       "      <td>46.2300</td>\n",
       "      <td>97.6300</td>\n",
       "      <td>140.3500</td>\n",
       "      <td>46.30000</td>\n",
       "      <td>150.300</td>\n",
       "      <td>21.34000</td>\n",
       "      <td>19.9900</td>\n",
       "      <td>102.6800</td>\n",
       "      <td>262.7000</td>\n",
       "    </tr>\n",
       "    <tr>\n",
       "      <td>2017-11-10</td>\n",
       "      <td>82.9400</td>\n",
       "      <td>118.11000</td>\n",
       "      <td>88.1600</td>\n",
       "      <td>55.4800</td>\n",
       "      <td>65.02000</td>\n",
       "      <td>165.5900</td>\n",
       "      <td>46.5400</td>\n",
       "      <td>97.5100</td>\n",
       "      <td>139.5600</td>\n",
       "      <td>45.58000</td>\n",
       "      <td>149.160</td>\n",
       "      <td>21.23000</td>\n",
       "      <td>20.4900</td>\n",
       "      <td>104.7800</td>\n",
       "      <td>260.8500</td>\n",
       "    </tr>\n",
       "  </tbody>\n",
       "</table>\n",
       "<p>11544 rows × 15 columns</p>\n",
       "</div>"
      ],
      "text/plain": [
       "                xom        utx       pg      mrk        mo       mcd       ko  \\\n",
       "1972-01-07   1.8452    0.31680   1.9119   0.7077   0.04379    0.7691   0.9870   \n",
       "1972-01-14   1.8132    0.32548   1.9523   0.6998   0.04379    0.7448   0.9870   \n",
       "1972-01-21   1.8452    0.33400   1.9927   0.6840   0.04379    0.7530   0.9747   \n",
       "1972-01-24   1.7969    0.32548   1.9605   0.6840   0.04379    0.7448   0.9870   \n",
       "1972-01-25   1.8050    0.33400   1.9523   0.6998   0.04379    0.7448   0.9951   \n",
       "...             ...        ...      ...      ...       ...       ...      ...   \n",
       "2017-11-06  82.9820  120.39000  86.0500  55.8800  63.45000  170.0700  45.4700   \n",
       "2017-11-07  82.8140  120.75000  86.9800  55.5900  64.31000  170.7700  45.9400   \n",
       "2017-11-08  82.7050  120.28000  87.5800  56.5800  64.59000  170.1000  46.1800   \n",
       "2017-11-09  83.2000  118.37000  87.7800  56.2100  64.51000  167.0000  46.2300   \n",
       "2017-11-10  82.9400  118.11000  88.1600  55.4800  65.02000  165.5900  46.5400   \n",
       "\n",
       "                 jpm       jnj      intc      ibm       hpq       ge  \\\n",
       "1972-01-07    2.9672    0.9929   0.01592   14.080   0.27561   1.0707   \n",
       "1972-01-14    3.0419    0.9685   0.00791   14.546   0.27943   1.0467   \n",
       "1972-01-21    3.0088    0.9767   0.00791   15.305   0.29095   1.0467   \n",
       "1972-01-24    2.9921    0.9602   0.00791   14.990   0.29095   1.0305   \n",
       "1972-01-25    2.9672    0.9685   0.00791   15.215   0.28705   1.0305   \n",
       "...              ...       ...       ...      ...       ...      ...   \n",
       "2017-11-06  100.7800  139.7600  46.70000  149.350  21.44000  20.1300   \n",
       "2017-11-07   98.7500  139.7700  46.78000  149.850  21.38000  20.2100   \n",
       "2017-11-08   97.6400  141.3200  46.70000  150.070  21.42000  20.1200   \n",
       "2017-11-09   97.6300  140.3500  46.30000  150.300  21.34000  19.9900   \n",
       "2017-11-10   97.5100  139.5600  45.58000  149.160  21.23000  20.4900   \n",
       "\n",
       "                 dis        ba  \n",
       "1972-01-07    1.0770    0.5815  \n",
       "1972-01-14    1.1319    0.6492  \n",
       "1972-01-21    1.1775    0.6576  \n",
       "1972-01-24    1.1683    0.6323  \n",
       "1972-01-25    1.1683    0.6405  \n",
       "...              ...       ...  \n",
       "2017-11-06  100.6400  262.6600  \n",
       "2017-11-07  101.6100  264.7100  \n",
       "2017-11-08  101.1800  264.1500  \n",
       "2017-11-09  102.6800  262.7000  \n",
       "2017-11-10  104.7800  260.8500  \n",
       "\n",
       "[11544 rows x 15 columns]"
      ]
     },
     "execution_count": 93,
     "metadata": {},
     "output_type": "execute_result"
    }
   ],
   "source": [
    "df_all"
   ]
  },
  {
   "cell_type": "markdown",
   "metadata": {},
   "source": [
    "### 3. Extract the Returns"
   ]
  },
  {
   "cell_type": "code",
   "execution_count": 97,
   "metadata": {},
   "outputs": [
    {
     "data": {
      "text/html": [
       "<div>\n",
       "<style scoped>\n",
       "    .dataframe tbody tr th:only-of-type {\n",
       "        vertical-align: middle;\n",
       "    }\n",
       "\n",
       "    .dataframe tbody tr th {\n",
       "        vertical-align: top;\n",
       "    }\n",
       "\n",
       "    .dataframe thead tr th {\n",
       "        text-align: left;\n",
       "    }\n",
       "</style>\n",
       "<table border=\"1\" class=\"dataframe\">\n",
       "  <thead>\n",
       "    <tr>\n",
       "      <th></th>\n",
       "      <th>xom</th>\n",
       "      <th>utx</th>\n",
       "      <th>pg</th>\n",
       "      <th>mrk</th>\n",
       "      <th>mo</th>\n",
       "      <th>mcd</th>\n",
       "      <th>ko</th>\n",
       "      <th>jpm</th>\n",
       "      <th>jnj</th>\n",
       "      <th>intc</th>\n",
       "      <th>ibm</th>\n",
       "      <th>hpq</th>\n",
       "      <th>ge</th>\n",
       "      <th>dis</th>\n",
       "      <th>ba</th>\n",
       "    </tr>\n",
       "  </thead>\n",
       "  <tbody>\n",
       "    <tr>\n",
       "      <td>1972-01-14</td>\n",
       "      <td>-0.017342</td>\n",
       "      <td>0.027399</td>\n",
       "      <td>0.021131</td>\n",
       "      <td>-0.011163</td>\n",
       "      <td>0.0</td>\n",
       "      <td>-0.031595</td>\n",
       "      <td>0.000000</td>\n",
       "      <td>0.025175</td>\n",
       "      <td>-0.024574</td>\n",
       "      <td>-0.503141</td>\n",
       "      <td>0.033097</td>\n",
       "      <td>0.013860</td>\n",
       "      <td>-0.022415</td>\n",
       "      <td>0.050975</td>\n",
       "      <td>0.116423</td>\n",
       "    </tr>\n",
       "    <tr>\n",
       "      <td>1972-01-21</td>\n",
       "      <td>0.017648</td>\n",
       "      <td>0.026177</td>\n",
       "      <td>0.020694</td>\n",
       "      <td>-0.022578</td>\n",
       "      <td>0.0</td>\n",
       "      <td>0.011010</td>\n",
       "      <td>-0.012462</td>\n",
       "      <td>-0.010881</td>\n",
       "      <td>0.008467</td>\n",
       "      <td>0.000000</td>\n",
       "      <td>0.052179</td>\n",
       "      <td>0.041227</td>\n",
       "      <td>0.000000</td>\n",
       "      <td>0.040286</td>\n",
       "      <td>0.012939</td>\n",
       "    </tr>\n",
       "    <tr>\n",
       "      <td>1972-01-24</td>\n",
       "      <td>-0.026176</td>\n",
       "      <td>-0.025509</td>\n",
       "      <td>-0.016159</td>\n",
       "      <td>0.000000</td>\n",
       "      <td>0.0</td>\n",
       "      <td>-0.010890</td>\n",
       "      <td>0.012619</td>\n",
       "      <td>-0.005550</td>\n",
       "      <td>-0.016894</td>\n",
       "      <td>0.000000</td>\n",
       "      <td>-0.020582</td>\n",
       "      <td>0.000000</td>\n",
       "      <td>-0.015477</td>\n",
       "      <td>-0.007813</td>\n",
       "      <td>-0.038473</td>\n",
       "    </tr>\n",
       "    <tr>\n",
       "      <td>1972-01-25</td>\n",
       "      <td>0.004508</td>\n",
       "      <td>0.026177</td>\n",
       "      <td>-0.004183</td>\n",
       "      <td>0.023099</td>\n",
       "      <td>0.0</td>\n",
       "      <td>0.000000</td>\n",
       "      <td>0.008207</td>\n",
       "      <td>-0.008322</td>\n",
       "      <td>0.008644</td>\n",
       "      <td>0.000000</td>\n",
       "      <td>0.015010</td>\n",
       "      <td>-0.013404</td>\n",
       "      <td>0.000000</td>\n",
       "      <td>0.000000</td>\n",
       "      <td>0.012969</td>\n",
       "    </tr>\n",
       "    <tr>\n",
       "      <td>1972-01-26</td>\n",
       "      <td>0.004543</td>\n",
       "      <td>-0.025509</td>\n",
       "      <td>-0.004098</td>\n",
       "      <td>0.000000</td>\n",
       "      <td>0.0</td>\n",
       "      <td>0.011010</td>\n",
       "      <td>-0.004120</td>\n",
       "      <td>-0.005662</td>\n",
       "      <td>0.008467</td>\n",
       "      <td>0.000000</td>\n",
       "      <td>0.007558</td>\n",
       "      <td>0.000000</td>\n",
       "      <td>-0.015429</td>\n",
       "      <td>0.007875</td>\n",
       "      <td>0.013583</td>\n",
       "    </tr>\n",
       "  </tbody>\n",
       "</table>\n",
       "</div>"
      ],
      "text/plain": [
       "                 xom       utx        pg       mrk   mo       mcd        ko  \\\n",
       "1972-01-14 -0.017342  0.027399  0.021131 -0.011163  0.0 -0.031595  0.000000   \n",
       "1972-01-21  0.017648  0.026177  0.020694 -0.022578  0.0  0.011010 -0.012462   \n",
       "1972-01-24 -0.026176 -0.025509 -0.016159  0.000000  0.0 -0.010890  0.012619   \n",
       "1972-01-25  0.004508  0.026177 -0.004183  0.023099  0.0  0.000000  0.008207   \n",
       "1972-01-26  0.004543 -0.025509 -0.004098  0.000000  0.0  0.011010 -0.004120   \n",
       "\n",
       "                 jpm       jnj      intc       ibm       hpq        ge  \\\n",
       "1972-01-14  0.025175 -0.024574 -0.503141  0.033097  0.013860 -0.022415   \n",
       "1972-01-21 -0.010881  0.008467  0.000000  0.052179  0.041227  0.000000   \n",
       "1972-01-24 -0.005550 -0.016894  0.000000 -0.020582  0.000000 -0.015477   \n",
       "1972-01-25 -0.008322  0.008644  0.000000  0.015010 -0.013404  0.000000   \n",
       "1972-01-26 -0.005662  0.008467  0.000000  0.007558  0.000000 -0.015429   \n",
       "\n",
       "                 dis        ba  \n",
       "1972-01-14  0.050975  0.116423  \n",
       "1972-01-21  0.040286  0.012939  \n",
       "1972-01-24 -0.007813 -0.038473  \n",
       "1972-01-25  0.000000  0.012969  \n",
       "1972-01-26  0.007875  0.013583  "
      ]
     },
     "execution_count": 97,
     "metadata": {},
     "output_type": "execute_result"
    }
   ],
   "source": [
    "#Closing prices but need return\n",
    "returns = df_all.pct_change(periods=1)\n",
    "returns.dropna(inplace=True)\n",
    "returns.head()"
   ]
  },
  {
   "cell_type": "code",
   "execution_count": 99,
   "metadata": {},
   "outputs": [],
   "source": [
    "#Using pct_change function to calculate daily returns\n",
    "#Pass into the dataframe selected\n",
    "assetReturns = returns.mean()\n",
    "assetCovariance = returns.cov()\n",
    "assetCorrelations = returns.corr()"
   ]
  },
  {
   "cell_type": "code",
   "execution_count": 100,
   "metadata": {},
   "outputs": [
    {
     "data": {
      "text/plain": [
       "xom     0.000434\n",
       "utx     0.000662\n",
       "pg      0.000433\n",
       "mrk     0.000514\n",
       "mo      0.000872\n",
       "mcd     0.000608\n",
       "ko      0.000449\n",
       "jpm     0.000537\n",
       "jnj     0.000534\n",
       "intc    0.001281\n",
       "ibm     0.000338\n",
       "hpq     0.000636\n",
       "ge      0.000398\n",
       "dis     0.000596\n",
       "ba      0.000727\n",
       "dtype: float64"
      ]
     },
     "execution_count": 100,
     "metadata": {},
     "output_type": "execute_result"
    }
   ],
   "source": [
    "assetReturns"
   ]
  },
  {
   "cell_type": "code",
   "execution_count": 101,
   "metadata": {},
   "outputs": [
    {
     "data": {
      "text/html": [
       "<div>\n",
       "<style scoped>\n",
       "    .dataframe tbody tr th:only-of-type {\n",
       "        vertical-align: middle;\n",
       "    }\n",
       "\n",
       "    .dataframe tbody tr th {\n",
       "        vertical-align: top;\n",
       "    }\n",
       "\n",
       "    .dataframe thead tr th {\n",
       "        text-align: left;\n",
       "    }\n",
       "</style>\n",
       "<table border=\"1\" class=\"dataframe\">\n",
       "  <thead>\n",
       "    <tr>\n",
       "      <th></th>\n",
       "      <th>xom</th>\n",
       "      <th>utx</th>\n",
       "      <th>pg</th>\n",
       "      <th>mrk</th>\n",
       "      <th>mo</th>\n",
       "      <th>mcd</th>\n",
       "      <th>ko</th>\n",
       "      <th>jpm</th>\n",
       "      <th>jnj</th>\n",
       "      <th>intc</th>\n",
       "      <th>ibm</th>\n",
       "      <th>hpq</th>\n",
       "      <th>ge</th>\n",
       "      <th>dis</th>\n",
       "      <th>ba</th>\n",
       "    </tr>\n",
       "  </thead>\n",
       "  <tbody>\n",
       "    <tr>\n",
       "      <td>xom</td>\n",
       "      <td>0.000207</td>\n",
       "      <td>0.000092</td>\n",
       "      <td>0.000075</td>\n",
       "      <td>0.000083</td>\n",
       "      <td>0.000076</td>\n",
       "      <td>0.000078</td>\n",
       "      <td>0.000087</td>\n",
       "      <td>0.000102</td>\n",
       "      <td>0.000080</td>\n",
       "      <td>0.000110</td>\n",
       "      <td>0.000084</td>\n",
       "      <td>0.000099</td>\n",
       "      <td>0.000103</td>\n",
       "      <td>0.000103</td>\n",
       "      <td>0.000094</td>\n",
       "    </tr>\n",
       "    <tr>\n",
       "      <td>utx</td>\n",
       "      <td>0.000092</td>\n",
       "      <td>0.000297</td>\n",
       "      <td>0.000079</td>\n",
       "      <td>0.000089</td>\n",
       "      <td>0.000079</td>\n",
       "      <td>0.000093</td>\n",
       "      <td>0.000086</td>\n",
       "      <td>0.000138</td>\n",
       "      <td>0.000082</td>\n",
       "      <td>0.000144</td>\n",
       "      <td>0.000101</td>\n",
       "      <td>0.000135</td>\n",
       "      <td>0.000136</td>\n",
       "      <td>0.000129</td>\n",
       "      <td>0.000153</td>\n",
       "    </tr>\n",
       "    <tr>\n",
       "      <td>pg</td>\n",
       "      <td>0.000075</td>\n",
       "      <td>0.000079</td>\n",
       "      <td>0.000198</td>\n",
       "      <td>0.000091</td>\n",
       "      <td>0.000084</td>\n",
       "      <td>0.000090</td>\n",
       "      <td>0.000103</td>\n",
       "      <td>0.000088</td>\n",
       "      <td>0.000091</td>\n",
       "      <td>0.000098</td>\n",
       "      <td>0.000073</td>\n",
       "      <td>0.000088</td>\n",
       "      <td>0.000099</td>\n",
       "      <td>0.000095</td>\n",
       "      <td>0.000081</td>\n",
       "    </tr>\n",
       "    <tr>\n",
       "      <td>mrk</td>\n",
       "      <td>0.000083</td>\n",
       "      <td>0.000089</td>\n",
       "      <td>0.000091</td>\n",
       "      <td>0.000270</td>\n",
       "      <td>0.000093</td>\n",
       "      <td>0.000093</td>\n",
       "      <td>0.000097</td>\n",
       "      <td>0.000110</td>\n",
       "      <td>0.000118</td>\n",
       "      <td>0.000127</td>\n",
       "      <td>0.000085</td>\n",
       "      <td>0.000108</td>\n",
       "      <td>0.000112</td>\n",
       "      <td>0.000110</td>\n",
       "      <td>0.000097</td>\n",
       "    </tr>\n",
       "    <tr>\n",
       "      <td>mo</td>\n",
       "      <td>0.000076</td>\n",
       "      <td>0.000079</td>\n",
       "      <td>0.000084</td>\n",
       "      <td>0.000093</td>\n",
       "      <td>0.000479</td>\n",
       "      <td>0.000097</td>\n",
       "      <td>0.000094</td>\n",
       "      <td>0.000087</td>\n",
       "      <td>0.000084</td>\n",
       "      <td>0.000129</td>\n",
       "      <td>0.000081</td>\n",
       "      <td>0.000099</td>\n",
       "      <td>0.000097</td>\n",
       "      <td>0.000100</td>\n",
       "      <td>0.000088</td>\n",
       "    </tr>\n",
       "    <tr>\n",
       "      <td>mcd</td>\n",
       "      <td>0.000078</td>\n",
       "      <td>0.000093</td>\n",
       "      <td>0.000090</td>\n",
       "      <td>0.000093</td>\n",
       "      <td>0.000097</td>\n",
       "      <td>0.000285</td>\n",
       "      <td>0.000102</td>\n",
       "      <td>0.000103</td>\n",
       "      <td>0.000091</td>\n",
       "      <td>0.000137</td>\n",
       "      <td>0.000095</td>\n",
       "      <td>0.000117</td>\n",
       "      <td>0.000114</td>\n",
       "      <td>0.000131</td>\n",
       "      <td>0.000104</td>\n",
       "    </tr>\n",
       "    <tr>\n",
       "      <td>ko</td>\n",
       "      <td>0.000087</td>\n",
       "      <td>0.000086</td>\n",
       "      <td>0.000103</td>\n",
       "      <td>0.000097</td>\n",
       "      <td>0.000094</td>\n",
       "      <td>0.000102</td>\n",
       "      <td>0.000231</td>\n",
       "      <td>0.000097</td>\n",
       "      <td>0.000097</td>\n",
       "      <td>0.000113</td>\n",
       "      <td>0.000082</td>\n",
       "      <td>0.000101</td>\n",
       "      <td>0.000111</td>\n",
       "      <td>0.000112</td>\n",
       "      <td>0.000092</td>\n",
       "    </tr>\n",
       "    <tr>\n",
       "      <td>jpm</td>\n",
       "      <td>0.000102</td>\n",
       "      <td>0.000138</td>\n",
       "      <td>0.000088</td>\n",
       "      <td>0.000110</td>\n",
       "      <td>0.000087</td>\n",
       "      <td>0.000103</td>\n",
       "      <td>0.000097</td>\n",
       "      <td>0.000471</td>\n",
       "      <td>0.000089</td>\n",
       "      <td>0.000181</td>\n",
       "      <td>0.000129</td>\n",
       "      <td>0.000168</td>\n",
       "      <td>0.000183</td>\n",
       "      <td>0.000161</td>\n",
       "      <td>0.000136</td>\n",
       "    </tr>\n",
       "    <tr>\n",
       "      <td>jnj</td>\n",
       "      <td>0.000080</td>\n",
       "      <td>0.000082</td>\n",
       "      <td>0.000091</td>\n",
       "      <td>0.000118</td>\n",
       "      <td>0.000084</td>\n",
       "      <td>0.000091</td>\n",
       "      <td>0.000097</td>\n",
       "      <td>0.000089</td>\n",
       "      <td>0.000210</td>\n",
       "      <td>0.000114</td>\n",
       "      <td>0.000081</td>\n",
       "      <td>0.000097</td>\n",
       "      <td>0.000106</td>\n",
       "      <td>0.000100</td>\n",
       "      <td>0.000089</td>\n",
       "    </tr>\n",
       "    <tr>\n",
       "      <td>intc</td>\n",
       "      <td>0.000110</td>\n",
       "      <td>0.000144</td>\n",
       "      <td>0.000098</td>\n",
       "      <td>0.000127</td>\n",
       "      <td>0.000129</td>\n",
       "      <td>0.000137</td>\n",
       "      <td>0.000113</td>\n",
       "      <td>0.000181</td>\n",
       "      <td>0.000114</td>\n",
       "      <td>0.001218</td>\n",
       "      <td>0.000186</td>\n",
       "      <td>0.000283</td>\n",
       "      <td>0.000183</td>\n",
       "      <td>0.000185</td>\n",
       "      <td>0.000163</td>\n",
       "    </tr>\n",
       "    <tr>\n",
       "      <td>ibm</td>\n",
       "      <td>0.000084</td>\n",
       "      <td>0.000101</td>\n",
       "      <td>0.000073</td>\n",
       "      <td>0.000085</td>\n",
       "      <td>0.000081</td>\n",
       "      <td>0.000095</td>\n",
       "      <td>0.000082</td>\n",
       "      <td>0.000129</td>\n",
       "      <td>0.000081</td>\n",
       "      <td>0.000186</td>\n",
       "      <td>0.000267</td>\n",
       "      <td>0.000175</td>\n",
       "      <td>0.000129</td>\n",
       "      <td>0.000127</td>\n",
       "      <td>0.000108</td>\n",
       "    </tr>\n",
       "    <tr>\n",
       "      <td>hpq</td>\n",
       "      <td>0.000099</td>\n",
       "      <td>0.000135</td>\n",
       "      <td>0.000088</td>\n",
       "      <td>0.000108</td>\n",
       "      <td>0.000099</td>\n",
       "      <td>0.000117</td>\n",
       "      <td>0.000101</td>\n",
       "      <td>0.000168</td>\n",
       "      <td>0.000097</td>\n",
       "      <td>0.000283</td>\n",
       "      <td>0.000175</td>\n",
       "      <td>0.000518</td>\n",
       "      <td>0.000157</td>\n",
       "      <td>0.000162</td>\n",
       "      <td>0.000139</td>\n",
       "    </tr>\n",
       "    <tr>\n",
       "      <td>ge</td>\n",
       "      <td>0.000103</td>\n",
       "      <td>0.000136</td>\n",
       "      <td>0.000099</td>\n",
       "      <td>0.000112</td>\n",
       "      <td>0.000097</td>\n",
       "      <td>0.000114</td>\n",
       "      <td>0.000111</td>\n",
       "      <td>0.000183</td>\n",
       "      <td>0.000106</td>\n",
       "      <td>0.000183</td>\n",
       "      <td>0.000129</td>\n",
       "      <td>0.000157</td>\n",
       "      <td>0.000284</td>\n",
       "      <td>0.000157</td>\n",
       "      <td>0.000140</td>\n",
       "    </tr>\n",
       "    <tr>\n",
       "      <td>dis</td>\n",
       "      <td>0.000103</td>\n",
       "      <td>0.000129</td>\n",
       "      <td>0.000095</td>\n",
       "      <td>0.000110</td>\n",
       "      <td>0.000100</td>\n",
       "      <td>0.000131</td>\n",
       "      <td>0.000112</td>\n",
       "      <td>0.000161</td>\n",
       "      <td>0.000100</td>\n",
       "      <td>0.000185</td>\n",
       "      <td>0.000127</td>\n",
       "      <td>0.000162</td>\n",
       "      <td>0.000157</td>\n",
       "      <td>0.000396</td>\n",
       "      <td>0.000142</td>\n",
       "    </tr>\n",
       "    <tr>\n",
       "      <td>ba</td>\n",
       "      <td>0.000094</td>\n",
       "      <td>0.000153</td>\n",
       "      <td>0.000081</td>\n",
       "      <td>0.000097</td>\n",
       "      <td>0.000088</td>\n",
       "      <td>0.000104</td>\n",
       "      <td>0.000092</td>\n",
       "      <td>0.000136</td>\n",
       "      <td>0.000089</td>\n",
       "      <td>0.000163</td>\n",
       "      <td>0.000108</td>\n",
       "      <td>0.000139</td>\n",
       "      <td>0.000140</td>\n",
       "      <td>0.000142</td>\n",
       "      <td>0.000396</td>\n",
       "    </tr>\n",
       "  </tbody>\n",
       "</table>\n",
       "</div>"
      ],
      "text/plain": [
       "           xom       utx        pg       mrk        mo       mcd        ko  \\\n",
       "xom   0.000207  0.000092  0.000075  0.000083  0.000076  0.000078  0.000087   \n",
       "utx   0.000092  0.000297  0.000079  0.000089  0.000079  0.000093  0.000086   \n",
       "pg    0.000075  0.000079  0.000198  0.000091  0.000084  0.000090  0.000103   \n",
       "mrk   0.000083  0.000089  0.000091  0.000270  0.000093  0.000093  0.000097   \n",
       "mo    0.000076  0.000079  0.000084  0.000093  0.000479  0.000097  0.000094   \n",
       "mcd   0.000078  0.000093  0.000090  0.000093  0.000097  0.000285  0.000102   \n",
       "ko    0.000087  0.000086  0.000103  0.000097  0.000094  0.000102  0.000231   \n",
       "jpm   0.000102  0.000138  0.000088  0.000110  0.000087  0.000103  0.000097   \n",
       "jnj   0.000080  0.000082  0.000091  0.000118  0.000084  0.000091  0.000097   \n",
       "intc  0.000110  0.000144  0.000098  0.000127  0.000129  0.000137  0.000113   \n",
       "ibm   0.000084  0.000101  0.000073  0.000085  0.000081  0.000095  0.000082   \n",
       "hpq   0.000099  0.000135  0.000088  0.000108  0.000099  0.000117  0.000101   \n",
       "ge    0.000103  0.000136  0.000099  0.000112  0.000097  0.000114  0.000111   \n",
       "dis   0.000103  0.000129  0.000095  0.000110  0.000100  0.000131  0.000112   \n",
       "ba    0.000094  0.000153  0.000081  0.000097  0.000088  0.000104  0.000092   \n",
       "\n",
       "           jpm       jnj      intc       ibm       hpq        ge       dis  \\\n",
       "xom   0.000102  0.000080  0.000110  0.000084  0.000099  0.000103  0.000103   \n",
       "utx   0.000138  0.000082  0.000144  0.000101  0.000135  0.000136  0.000129   \n",
       "pg    0.000088  0.000091  0.000098  0.000073  0.000088  0.000099  0.000095   \n",
       "mrk   0.000110  0.000118  0.000127  0.000085  0.000108  0.000112  0.000110   \n",
       "mo    0.000087  0.000084  0.000129  0.000081  0.000099  0.000097  0.000100   \n",
       "mcd   0.000103  0.000091  0.000137  0.000095  0.000117  0.000114  0.000131   \n",
       "ko    0.000097  0.000097  0.000113  0.000082  0.000101  0.000111  0.000112   \n",
       "jpm   0.000471  0.000089  0.000181  0.000129  0.000168  0.000183  0.000161   \n",
       "jnj   0.000089  0.000210  0.000114  0.000081  0.000097  0.000106  0.000100   \n",
       "intc  0.000181  0.000114  0.001218  0.000186  0.000283  0.000183  0.000185   \n",
       "ibm   0.000129  0.000081  0.000186  0.000267  0.000175  0.000129  0.000127   \n",
       "hpq   0.000168  0.000097  0.000283  0.000175  0.000518  0.000157  0.000162   \n",
       "ge    0.000183  0.000106  0.000183  0.000129  0.000157  0.000284  0.000157   \n",
       "dis   0.000161  0.000100  0.000185  0.000127  0.000162  0.000157  0.000396   \n",
       "ba    0.000136  0.000089  0.000163  0.000108  0.000139  0.000140  0.000142   \n",
       "\n",
       "            ba  \n",
       "xom   0.000094  \n",
       "utx   0.000153  \n",
       "pg    0.000081  \n",
       "mrk   0.000097  \n",
       "mo    0.000088  \n",
       "mcd   0.000104  \n",
       "ko    0.000092  \n",
       "jpm   0.000136  \n",
       "jnj   0.000089  \n",
       "intc  0.000163  \n",
       "ibm   0.000108  \n",
       "hpq   0.000139  \n",
       "ge    0.000140  \n",
       "dis   0.000142  \n",
       "ba    0.000396  "
      ]
     },
     "execution_count": 101,
     "metadata": {},
     "output_type": "execute_result"
    }
   ],
   "source": [
    "assetCovariance"
   ]
  },
  {
   "cell_type": "code",
   "execution_count": 102,
   "metadata": {},
   "outputs": [
    {
     "data": {
      "text/html": [
       "<div>\n",
       "<style scoped>\n",
       "    .dataframe tbody tr th:only-of-type {\n",
       "        vertical-align: middle;\n",
       "    }\n",
       "\n",
       "    .dataframe tbody tr th {\n",
       "        vertical-align: top;\n",
       "    }\n",
       "\n",
       "    .dataframe thead tr th {\n",
       "        text-align: left;\n",
       "    }\n",
       "</style>\n",
       "<table border=\"1\" class=\"dataframe\">\n",
       "  <thead>\n",
       "    <tr>\n",
       "      <th></th>\n",
       "      <th>xom</th>\n",
       "      <th>utx</th>\n",
       "      <th>pg</th>\n",
       "      <th>mrk</th>\n",
       "      <th>mo</th>\n",
       "      <th>mcd</th>\n",
       "      <th>ko</th>\n",
       "      <th>jpm</th>\n",
       "      <th>jnj</th>\n",
       "      <th>intc</th>\n",
       "      <th>ibm</th>\n",
       "      <th>hpq</th>\n",
       "      <th>ge</th>\n",
       "      <th>dis</th>\n",
       "      <th>ba</th>\n",
       "    </tr>\n",
       "  </thead>\n",
       "  <tbody>\n",
       "    <tr>\n",
       "      <td>xom</td>\n",
       "      <td>1.000000</td>\n",
       "      <td>0.369598</td>\n",
       "      <td>0.367588</td>\n",
       "      <td>0.349170</td>\n",
       "      <td>0.239697</td>\n",
       "      <td>0.319864</td>\n",
       "      <td>0.397042</td>\n",
       "      <td>0.327362</td>\n",
       "      <td>0.382954</td>\n",
       "      <td>0.219142</td>\n",
       "      <td>0.355553</td>\n",
       "      <td>0.301986</td>\n",
       "      <td>0.425028</td>\n",
       "      <td>0.359436</td>\n",
       "      <td>0.327034</td>\n",
       "    </tr>\n",
       "    <tr>\n",
       "      <td>utx</td>\n",
       "      <td>0.369598</td>\n",
       "      <td>1.000000</td>\n",
       "      <td>0.326554</td>\n",
       "      <td>0.316308</td>\n",
       "      <td>0.209138</td>\n",
       "      <td>0.319626</td>\n",
       "      <td>0.327082</td>\n",
       "      <td>0.369998</td>\n",
       "      <td>0.328184</td>\n",
       "      <td>0.239633</td>\n",
       "      <td>0.360143</td>\n",
       "      <td>0.344072</td>\n",
       "      <td>0.467937</td>\n",
       "      <td>0.377026</td>\n",
       "      <td>0.446710</td>\n",
       "    </tr>\n",
       "    <tr>\n",
       "      <td>pg</td>\n",
       "      <td>0.367588</td>\n",
       "      <td>0.326554</td>\n",
       "      <td>1.000000</td>\n",
       "      <td>0.395446</td>\n",
       "      <td>0.273143</td>\n",
       "      <td>0.379844</td>\n",
       "      <td>0.480091</td>\n",
       "      <td>0.286607</td>\n",
       "      <td>0.444299</td>\n",
       "      <td>0.198914</td>\n",
       "      <td>0.318634</td>\n",
       "      <td>0.273373</td>\n",
       "      <td>0.415593</td>\n",
       "      <td>0.337365</td>\n",
       "      <td>0.287300</td>\n",
       "    </tr>\n",
       "    <tr>\n",
       "      <td>mrk</td>\n",
       "      <td>0.349170</td>\n",
       "      <td>0.316308</td>\n",
       "      <td>0.395446</td>\n",
       "      <td>1.000000</td>\n",
       "      <td>0.259381</td>\n",
       "      <td>0.335509</td>\n",
       "      <td>0.387692</td>\n",
       "      <td>0.309680</td>\n",
       "      <td>0.497376</td>\n",
       "      <td>0.221125</td>\n",
       "      <td>0.318329</td>\n",
       "      <td>0.288265</td>\n",
       "      <td>0.404310</td>\n",
       "      <td>0.336042</td>\n",
       "      <td>0.296695</td>\n",
       "    </tr>\n",
       "    <tr>\n",
       "      <td>mo</td>\n",
       "      <td>0.239697</td>\n",
       "      <td>0.209138</td>\n",
       "      <td>0.273143</td>\n",
       "      <td>0.259381</td>\n",
       "      <td>1.000000</td>\n",
       "      <td>0.262992</td>\n",
       "      <td>0.282194</td>\n",
       "      <td>0.182166</td>\n",
       "      <td>0.263848</td>\n",
       "      <td>0.168287</td>\n",
       "      <td>0.226907</td>\n",
       "      <td>0.199189</td>\n",
       "      <td>0.263730</td>\n",
       "      <td>0.229960</td>\n",
       "      <td>0.202105</td>\n",
       "    </tr>\n",
       "    <tr>\n",
       "      <td>mcd</td>\n",
       "      <td>0.319864</td>\n",
       "      <td>0.319626</td>\n",
       "      <td>0.379844</td>\n",
       "      <td>0.335509</td>\n",
       "      <td>0.262992</td>\n",
       "      <td>1.000000</td>\n",
       "      <td>0.397068</td>\n",
       "      <td>0.281217</td>\n",
       "      <td>0.369825</td>\n",
       "      <td>0.231891</td>\n",
       "      <td>0.346157</td>\n",
       "      <td>0.304340</td>\n",
       "      <td>0.401209</td>\n",
       "      <td>0.388684</td>\n",
       "      <td>0.308409</td>\n",
       "    </tr>\n",
       "    <tr>\n",
       "      <td>ko</td>\n",
       "      <td>0.397042</td>\n",
       "      <td>0.327082</td>\n",
       "      <td>0.480091</td>\n",
       "      <td>0.387692</td>\n",
       "      <td>0.282194</td>\n",
       "      <td>0.397068</td>\n",
       "      <td>1.000000</td>\n",
       "      <td>0.292768</td>\n",
       "      <td>0.439826</td>\n",
       "      <td>0.212920</td>\n",
       "      <td>0.331319</td>\n",
       "      <td>0.290841</td>\n",
       "      <td>0.432993</td>\n",
       "      <td>0.369746</td>\n",
       "      <td>0.304591</td>\n",
       "    </tr>\n",
       "    <tr>\n",
       "      <td>jpm</td>\n",
       "      <td>0.327362</td>\n",
       "      <td>0.369998</td>\n",
       "      <td>0.286607</td>\n",
       "      <td>0.309680</td>\n",
       "      <td>0.182166</td>\n",
       "      <td>0.281217</td>\n",
       "      <td>0.292768</td>\n",
       "      <td>1.000000</td>\n",
       "      <td>0.281268</td>\n",
       "      <td>0.239013</td>\n",
       "      <td>0.364169</td>\n",
       "      <td>0.339637</td>\n",
       "      <td>0.498894</td>\n",
       "      <td>0.371879</td>\n",
       "      <td>0.315204</td>\n",
       "    </tr>\n",
       "    <tr>\n",
       "      <td>jnj</td>\n",
       "      <td>0.382954</td>\n",
       "      <td>0.328184</td>\n",
       "      <td>0.444299</td>\n",
       "      <td>0.497376</td>\n",
       "      <td>0.263848</td>\n",
       "      <td>0.369825</td>\n",
       "      <td>0.439826</td>\n",
       "      <td>0.281268</td>\n",
       "      <td>1.000000</td>\n",
       "      <td>0.224380</td>\n",
       "      <td>0.341439</td>\n",
       "      <td>0.294997</td>\n",
       "      <td>0.432813</td>\n",
       "      <td>0.347480</td>\n",
       "      <td>0.307419</td>\n",
       "    </tr>\n",
       "    <tr>\n",
       "      <td>intc</td>\n",
       "      <td>0.219142</td>\n",
       "      <td>0.239633</td>\n",
       "      <td>0.198914</td>\n",
       "      <td>0.221125</td>\n",
       "      <td>0.168287</td>\n",
       "      <td>0.231891</td>\n",
       "      <td>0.212920</td>\n",
       "      <td>0.239013</td>\n",
       "      <td>0.224380</td>\n",
       "      <td>1.000000</td>\n",
       "      <td>0.326673</td>\n",
       "      <td>0.356416</td>\n",
       "      <td>0.310108</td>\n",
       "      <td>0.266734</td>\n",
       "      <td>0.234743</td>\n",
       "    </tr>\n",
       "    <tr>\n",
       "      <td>ibm</td>\n",
       "      <td>0.355553</td>\n",
       "      <td>0.360143</td>\n",
       "      <td>0.318634</td>\n",
       "      <td>0.318329</td>\n",
       "      <td>0.226907</td>\n",
       "      <td>0.346157</td>\n",
       "      <td>0.331319</td>\n",
       "      <td>0.364169</td>\n",
       "      <td>0.341439</td>\n",
       "      <td>0.326673</td>\n",
       "      <td>1.000000</td>\n",
       "      <td>0.471742</td>\n",
       "      <td>0.469167</td>\n",
       "      <td>0.389455</td>\n",
       "      <td>0.332592</td>\n",
       "    </tr>\n",
       "    <tr>\n",
       "      <td>hpq</td>\n",
       "      <td>0.301986</td>\n",
       "      <td>0.344072</td>\n",
       "      <td>0.273373</td>\n",
       "      <td>0.288265</td>\n",
       "      <td>0.199189</td>\n",
       "      <td>0.304340</td>\n",
       "      <td>0.290841</td>\n",
       "      <td>0.339637</td>\n",
       "      <td>0.294997</td>\n",
       "      <td>0.356416</td>\n",
       "      <td>0.471742</td>\n",
       "      <td>1.000000</td>\n",
       "      <td>0.410026</td>\n",
       "      <td>0.358654</td>\n",
       "      <td>0.307205</td>\n",
       "    </tr>\n",
       "    <tr>\n",
       "      <td>ge</td>\n",
       "      <td>0.425028</td>\n",
       "      <td>0.467937</td>\n",
       "      <td>0.415593</td>\n",
       "      <td>0.404310</td>\n",
       "      <td>0.263730</td>\n",
       "      <td>0.401209</td>\n",
       "      <td>0.432993</td>\n",
       "      <td>0.498894</td>\n",
       "      <td>0.432813</td>\n",
       "      <td>0.310108</td>\n",
       "      <td>0.469167</td>\n",
       "      <td>0.410026</td>\n",
       "      <td>1.000000</td>\n",
       "      <td>0.466892</td>\n",
       "      <td>0.415980</td>\n",
       "    </tr>\n",
       "    <tr>\n",
       "      <td>dis</td>\n",
       "      <td>0.359436</td>\n",
       "      <td>0.377026</td>\n",
       "      <td>0.337365</td>\n",
       "      <td>0.336042</td>\n",
       "      <td>0.229960</td>\n",
       "      <td>0.388684</td>\n",
       "      <td>0.369746</td>\n",
       "      <td>0.371879</td>\n",
       "      <td>0.347480</td>\n",
       "      <td>0.266734</td>\n",
       "      <td>0.389455</td>\n",
       "      <td>0.358654</td>\n",
       "      <td>0.466892</td>\n",
       "      <td>1.000000</td>\n",
       "      <td>0.359126</td>\n",
       "    </tr>\n",
       "    <tr>\n",
       "      <td>ba</td>\n",
       "      <td>0.327034</td>\n",
       "      <td>0.446710</td>\n",
       "      <td>0.287300</td>\n",
       "      <td>0.296695</td>\n",
       "      <td>0.202105</td>\n",
       "      <td>0.308409</td>\n",
       "      <td>0.304591</td>\n",
       "      <td>0.315204</td>\n",
       "      <td>0.307419</td>\n",
       "      <td>0.234743</td>\n",
       "      <td>0.332592</td>\n",
       "      <td>0.307205</td>\n",
       "      <td>0.415980</td>\n",
       "      <td>0.359126</td>\n",
       "      <td>1.000000</td>\n",
       "    </tr>\n",
       "  </tbody>\n",
       "</table>\n",
       "</div>"
      ],
      "text/plain": [
       "           xom       utx        pg       mrk        mo       mcd        ko  \\\n",
       "xom   1.000000  0.369598  0.367588  0.349170  0.239697  0.319864  0.397042   \n",
       "utx   0.369598  1.000000  0.326554  0.316308  0.209138  0.319626  0.327082   \n",
       "pg    0.367588  0.326554  1.000000  0.395446  0.273143  0.379844  0.480091   \n",
       "mrk   0.349170  0.316308  0.395446  1.000000  0.259381  0.335509  0.387692   \n",
       "mo    0.239697  0.209138  0.273143  0.259381  1.000000  0.262992  0.282194   \n",
       "mcd   0.319864  0.319626  0.379844  0.335509  0.262992  1.000000  0.397068   \n",
       "ko    0.397042  0.327082  0.480091  0.387692  0.282194  0.397068  1.000000   \n",
       "jpm   0.327362  0.369998  0.286607  0.309680  0.182166  0.281217  0.292768   \n",
       "jnj   0.382954  0.328184  0.444299  0.497376  0.263848  0.369825  0.439826   \n",
       "intc  0.219142  0.239633  0.198914  0.221125  0.168287  0.231891  0.212920   \n",
       "ibm   0.355553  0.360143  0.318634  0.318329  0.226907  0.346157  0.331319   \n",
       "hpq   0.301986  0.344072  0.273373  0.288265  0.199189  0.304340  0.290841   \n",
       "ge    0.425028  0.467937  0.415593  0.404310  0.263730  0.401209  0.432993   \n",
       "dis   0.359436  0.377026  0.337365  0.336042  0.229960  0.388684  0.369746   \n",
       "ba    0.327034  0.446710  0.287300  0.296695  0.202105  0.308409  0.304591   \n",
       "\n",
       "           jpm       jnj      intc       ibm       hpq        ge       dis  \\\n",
       "xom   0.327362  0.382954  0.219142  0.355553  0.301986  0.425028  0.359436   \n",
       "utx   0.369998  0.328184  0.239633  0.360143  0.344072  0.467937  0.377026   \n",
       "pg    0.286607  0.444299  0.198914  0.318634  0.273373  0.415593  0.337365   \n",
       "mrk   0.309680  0.497376  0.221125  0.318329  0.288265  0.404310  0.336042   \n",
       "mo    0.182166  0.263848  0.168287  0.226907  0.199189  0.263730  0.229960   \n",
       "mcd   0.281217  0.369825  0.231891  0.346157  0.304340  0.401209  0.388684   \n",
       "ko    0.292768  0.439826  0.212920  0.331319  0.290841  0.432993  0.369746   \n",
       "jpm   1.000000  0.281268  0.239013  0.364169  0.339637  0.498894  0.371879   \n",
       "jnj   0.281268  1.000000  0.224380  0.341439  0.294997  0.432813  0.347480   \n",
       "intc  0.239013  0.224380  1.000000  0.326673  0.356416  0.310108  0.266734   \n",
       "ibm   0.364169  0.341439  0.326673  1.000000  0.471742  0.469167  0.389455   \n",
       "hpq   0.339637  0.294997  0.356416  0.471742  1.000000  0.410026  0.358654   \n",
       "ge    0.498894  0.432813  0.310108  0.469167  0.410026  1.000000  0.466892   \n",
       "dis   0.371879  0.347480  0.266734  0.389455  0.358654  0.466892  1.000000   \n",
       "ba    0.315204  0.307419  0.234743  0.332592  0.307205  0.415980  0.359126   \n",
       "\n",
       "            ba  \n",
       "xom   0.327034  \n",
       "utx   0.446710  \n",
       "pg    0.287300  \n",
       "mrk   0.296695  \n",
       "mo    0.202105  \n",
       "mcd   0.308409  \n",
       "ko    0.304591  \n",
       "jpm   0.315204  \n",
       "jnj   0.307419  \n",
       "intc  0.234743  \n",
       "ibm   0.332592  \n",
       "hpq   0.307205  \n",
       "ge    0.415980  \n",
       "dis   0.359126  \n",
       "ba    1.000000  "
      ]
     },
     "execution_count": 102,
     "metadata": {},
     "output_type": "execute_result"
    }
   ],
   "source": [
    "assetCorrelations"
   ]
  },
  {
   "cell_type": "markdown",
   "metadata": {},
   "source": [
    "### 3. Portfolio Measure of Rish and Return"
   ]
  },
  {
   "cell_type": "markdown",
   "metadata": {},
   "source": [
    "Generate random portfolios and determine their distribution in mean-volatility space"
   ]
  },
  {
   "cell_type": "code",
   "execution_count": 103,
   "metadata": {},
   "outputs": [],
   "source": [
    "#Only pass the weight vector explicitly\n",
    "def portfolioVariance(weights):\n",
    "    weights = np.array(weights)\n",
    "    var = np.dot(weights.T, np.dot(assetCovariance * 252, weights))\n",
    "    return var\n",
    "\n",
    "def portfolioVolatility(weights):\n",
    "    return np.sqrt(np.dot(weights.T,np.dot(assetCovariance*252, weights)))\n",
    "\n",
    "def portfolioReturn(weights):\n",
    "    return np.sum(assetReturns * weights) *252\n",
    "\n",
    "def portfolioSharpeRatio(weights):\n",
    "    return (portfolioReturn(weights) - rfr) / portfolioVolatility(weights)"
   ]
  },
  {
   "cell_type": "code",
   "execution_count": 104,
   "metadata": {},
   "outputs": [],
   "source": [
    "#Risk free rate\n",
    "rfr = 0.015"
   ]
  },
  {
   "cell_type": "code",
   "execution_count": 105,
   "metadata": {},
   "outputs": [],
   "source": [
    "#Generate different portfolio weightings and store their mena return and volatility\n",
    "portofolioReturns = []\n",
    "portfolioVolatilities = []\n",
    "portfolioVariances = []\n",
    "portfolioSharpeRatios = []"
   ]
  },
  {
   "cell_type": "markdown",
   "metadata": {},
   "source": [
    "### 4. Generate the Efficient Frontier"
   ]
  },
  {
   "cell_type": "markdown",
   "metadata": {},
   "source": [
    "Loop over returns and find the portfolio that minimises the portfolio volatility"
   ]
  },
  {
   "cell_type": "markdown",
   "metadata": {},
   "source": [
    "Include a constraint that enfores the return given\n",
    "With the constraint to have the weights sum to 1 we have two constraints which "
   ]
  },
  {
   "cell_type": "code",
   "execution_count": 106,
   "metadata": {},
   "outputs": [],
   "source": [
    "import numpy as mp\n",
    "import scipy.optimize as sco"
   ]
  },
  {
   "cell_type": "code",
   "execution_count": 110,
   "metadata": {},
   "outputs": [],
   "source": [
    "# This means that we need to include a constraint that enforces the return given by variable ret\n",
    "# With the constraint to have the weights sum to 1 we have two constraints which we write as follows\n",
    "cons = ({'type':'eq','fun': lambda x: portfolioReturn(x) - tret},\n",
    "        {'type':'eq','fun': lambda x: np.sum(x) - 1})\n",
    " #lambda后面的公式=0"
   ]
  },
  {
   "cell_type": "code",
   "execution_count": 111,
   "metadata": {},
   "outputs": [
    {
     "ename": "ValueError",
     "evalue": "operands could not be broadcast together with shapes (15,) (6,) ",
     "output_type": "error",
     "traceback": [
      "\u001b[0;31m---------------------------------------------------------------------------\u001b[0m",
      "\u001b[0;31mValueError\u001b[0m                                Traceback (most recent call last)",
      "\u001b[0;32m<ipython-input-111-50e1d67c6ac0>\u001b[0m in \u001b[0;36m<module>\u001b[0;34m\u001b[0m\n\u001b[1;32m     14\u001b[0m             {'type': 'eq', 'fun': lambda x:  np.sum(x) - 1})\n\u001b[1;32m     15\u001b[0m \u001b[0;34m\u001b[0m\u001b[0m\n\u001b[0;32m---> 16\u001b[0;31m     \u001b[0mres\u001b[0m \u001b[0;34m=\u001b[0m \u001b[0msco\u001b[0m\u001b[0;34m.\u001b[0m\u001b[0mminimize\u001b[0m\u001b[0;34m(\u001b[0m\u001b[0mportfolioVolatility\u001b[0m\u001b[0;34m,\u001b[0m \u001b[0minitialWeights\u001b[0m\u001b[0;34m,\u001b[0m \u001b[0mmethod\u001b[0m\u001b[0;34m=\u001b[0m\u001b[0;34m'SLSQP'\u001b[0m\u001b[0;34m,\u001b[0m \u001b[0mbounds\u001b[0m\u001b[0;34m=\u001b[0m\u001b[0mbnds\u001b[0m\u001b[0;34m,\u001b[0m \u001b[0mconstraints\u001b[0m\u001b[0;34m=\u001b[0m\u001b[0mcons\u001b[0m\u001b[0;34m)\u001b[0m\u001b[0;34m\u001b[0m\u001b[0;34m\u001b[0m\u001b[0m\n\u001b[0m\u001b[1;32m     17\u001b[0m     \u001b[0mfrontierWeights\u001b[0m \u001b[0;34m=\u001b[0m \u001b[0mres\u001b[0m\u001b[0;34m[\u001b[0m\u001b[0;34m'x'\u001b[0m\u001b[0;34m]\u001b[0m\u001b[0;34m\u001b[0m\u001b[0;34m\u001b[0m\u001b[0m\n\u001b[1;32m     18\u001b[0m     \u001b[0mfrontierRet\u001b[0m \u001b[0;34m=\u001b[0m \u001b[0mportfolioReturn\u001b[0m\u001b[0;34m(\u001b[0m\u001b[0mfrontierWeights\u001b[0m\u001b[0;34m)\u001b[0m\u001b[0;34m\u001b[0m\u001b[0;34m\u001b[0m\u001b[0m\n",
      "\u001b[0;32m~/opt/anaconda3/lib/python3.7/site-packages/scipy/optimize/_minimize.py\u001b[0m in \u001b[0;36mminimize\u001b[0;34m(fun, x0, args, method, jac, hess, hessp, bounds, constraints, tol, callback, options)\u001b[0m\n\u001b[1;32m    606\u001b[0m     \u001b[0;32melif\u001b[0m \u001b[0mmeth\u001b[0m \u001b[0;34m==\u001b[0m \u001b[0;34m'slsqp'\u001b[0m\u001b[0;34m:\u001b[0m\u001b[0;34m\u001b[0m\u001b[0;34m\u001b[0m\u001b[0m\n\u001b[1;32m    607\u001b[0m         return _minimize_slsqp(fun, x0, args, jac, bounds,\n\u001b[0;32m--> 608\u001b[0;31m                                constraints, callback=callback, **options)\n\u001b[0m\u001b[1;32m    609\u001b[0m     \u001b[0;32melif\u001b[0m \u001b[0mmeth\u001b[0m \u001b[0;34m==\u001b[0m \u001b[0;34m'trust-constr'\u001b[0m\u001b[0;34m:\u001b[0m\u001b[0;34m\u001b[0m\u001b[0;34m\u001b[0m\u001b[0m\n\u001b[1;32m    610\u001b[0m         return _minimize_trustregion_constr(fun, x0, args, jac, hess, hessp,\n",
      "\u001b[0;32m~/opt/anaconda3/lib/python3.7/site-packages/scipy/optimize/slsqp.py\u001b[0m in \u001b[0;36m_minimize_slsqp\u001b[0;34m(func, x0, args, jac, bounds, constraints, maxiter, ftol, iprint, disp, eps, callback, **unknown_options)\u001b[0m\n\u001b[1;32m    311\u001b[0m     \u001b[0;31m# meq, mieq: number of equality and inequality constraints\u001b[0m\u001b[0;34m\u001b[0m\u001b[0;34m\u001b[0m\u001b[0;34m\u001b[0m\u001b[0m\n\u001b[1;32m    312\u001b[0m     meq = sum(map(len, [atleast_1d(c['fun'](x, *c['args']))\n\u001b[0;32m--> 313\u001b[0;31m               for c in cons['eq']]))\n\u001b[0m\u001b[1;32m    314\u001b[0m     mieq = sum(map(len, [atleast_1d(c['fun'](x, *c['args']))\n\u001b[1;32m    315\u001b[0m                for c in cons['ineq']]))\n",
      "\u001b[0;32m~/opt/anaconda3/lib/python3.7/site-packages/scipy/optimize/slsqp.py\u001b[0m in \u001b[0;36m<listcomp>\u001b[0;34m(.0)\u001b[0m\n\u001b[1;32m    311\u001b[0m     \u001b[0;31m# meq, mieq: number of equality and inequality constraints\u001b[0m\u001b[0;34m\u001b[0m\u001b[0;34m\u001b[0m\u001b[0;34m\u001b[0m\u001b[0m\n\u001b[1;32m    312\u001b[0m     meq = sum(map(len, [atleast_1d(c['fun'](x, *c['args']))\n\u001b[0;32m--> 313\u001b[0;31m               for c in cons['eq']]))\n\u001b[0m\u001b[1;32m    314\u001b[0m     mieq = sum(map(len, [atleast_1d(c['fun'](x, *c['args']))\n\u001b[1;32m    315\u001b[0m                for c in cons['ineq']]))\n",
      "\u001b[0;32m<ipython-input-111-50e1d67c6ac0>\u001b[0m in \u001b[0;36m<lambda>\u001b[0;34m(x)\u001b[0m\n\u001b[1;32m     11\u001b[0m \u001b[0;31m#2 Constraints:\u001b[0m\u001b[0;34m\u001b[0m\u001b[0;34m\u001b[0m\u001b[0;34m\u001b[0m\u001b[0m\n\u001b[1;32m     12\u001b[0m \u001b[0;32mfor\u001b[0m \u001b[0mtret\u001b[0m \u001b[0;32min\u001b[0m \u001b[0mtrets\u001b[0m\u001b[0;34m:\u001b[0m\u001b[0;34m\u001b[0m\u001b[0;34m\u001b[0m\u001b[0m\n\u001b[0;32m---> 13\u001b[0;31m     cons = ({'type': 'eq', 'fun': lambda x:  portfolioReturn(x) - tret},\n\u001b[0m\u001b[1;32m     14\u001b[0m             {'type': 'eq', 'fun': lambda x:  np.sum(x) - 1})\n\u001b[1;32m     15\u001b[0m \u001b[0;34m\u001b[0m\u001b[0m\n",
      "\u001b[0;32m<ipython-input-103-f297b1926fd4>\u001b[0m in \u001b[0;36mportfolioReturn\u001b[0;34m(weights)\u001b[0m\n\u001b[1;32m      9\u001b[0m \u001b[0;34m\u001b[0m\u001b[0m\n\u001b[1;32m     10\u001b[0m \u001b[0;32mdef\u001b[0m \u001b[0mportfolioReturn\u001b[0m\u001b[0;34m(\u001b[0m\u001b[0mweights\u001b[0m\u001b[0;34m)\u001b[0m\u001b[0;34m:\u001b[0m\u001b[0;34m\u001b[0m\u001b[0;34m\u001b[0m\u001b[0m\n\u001b[0;32m---> 11\u001b[0;31m     \u001b[0;32mreturn\u001b[0m \u001b[0mnp\u001b[0m\u001b[0;34m.\u001b[0m\u001b[0msum\u001b[0m\u001b[0;34m(\u001b[0m\u001b[0massetReturns\u001b[0m \u001b[0;34m*\u001b[0m \u001b[0mweights\u001b[0m\u001b[0;34m)\u001b[0m \u001b[0;34m*\u001b[0m\u001b[0;36m252\u001b[0m\u001b[0;34m\u001b[0m\u001b[0;34m\u001b[0m\u001b[0m\n\u001b[0m\u001b[1;32m     12\u001b[0m \u001b[0;34m\u001b[0m\u001b[0m\n\u001b[1;32m     13\u001b[0m \u001b[0;32mdef\u001b[0m \u001b[0mportfolioSharpeRatio\u001b[0m\u001b[0;34m(\u001b[0m\u001b[0mweights\u001b[0m\u001b[0;34m)\u001b[0m\u001b[0;34m:\u001b[0m\u001b[0;34m\u001b[0m\u001b[0;34m\u001b[0m\u001b[0m\n",
      "\u001b[0;32m~/opt/anaconda3/lib/python3.7/site-packages/pandas/core/ops/__init__.py\u001b[0m in \u001b[0;36mwrapper\u001b[0;34m(left, right)\u001b[0m\n\u001b[1;32m   1046\u001b[0m \u001b[0;34m\u001b[0m\u001b[0m\n\u001b[1;32m   1047\u001b[0m         \u001b[0;32mwith\u001b[0m \u001b[0mnp\u001b[0m\u001b[0;34m.\u001b[0m\u001b[0merrstate\u001b[0m\u001b[0;34m(\u001b[0m\u001b[0mall\u001b[0m\u001b[0;34m=\u001b[0m\u001b[0;34m\"ignore\"\u001b[0m\u001b[0;34m)\u001b[0m\u001b[0;34m:\u001b[0m\u001b[0;34m\u001b[0m\u001b[0;34m\u001b[0m\u001b[0m\n\u001b[0;32m-> 1048\u001b[0;31m             \u001b[0mresult\u001b[0m \u001b[0;34m=\u001b[0m \u001b[0mna_op\u001b[0m\u001b[0;34m(\u001b[0m\u001b[0mlvalues\u001b[0m\u001b[0;34m,\u001b[0m \u001b[0mrvalues\u001b[0m\u001b[0;34m)\u001b[0m\u001b[0;34m\u001b[0m\u001b[0;34m\u001b[0m\u001b[0m\n\u001b[0m\u001b[1;32m   1049\u001b[0m         return construct_result(\n\u001b[1;32m   1050\u001b[0m             \u001b[0mleft\u001b[0m\u001b[0;34m,\u001b[0m \u001b[0mresult\u001b[0m\u001b[0;34m,\u001b[0m \u001b[0mindex\u001b[0m\u001b[0;34m=\u001b[0m\u001b[0mleft\u001b[0m\u001b[0;34m.\u001b[0m\u001b[0mindex\u001b[0m\u001b[0;34m,\u001b[0m \u001b[0mname\u001b[0m\u001b[0;34m=\u001b[0m\u001b[0mres_name\u001b[0m\u001b[0;34m,\u001b[0m \u001b[0mdtype\u001b[0m\u001b[0;34m=\u001b[0m\u001b[0;32mNone\u001b[0m\u001b[0;34m\u001b[0m\u001b[0;34m\u001b[0m\u001b[0m\n",
      "\u001b[0;32m~/opt/anaconda3/lib/python3.7/site-packages/pandas/core/ops/__init__.py\u001b[0m in \u001b[0;36mna_op\u001b[0;34m(x, y)\u001b[0m\n\u001b[1;32m    966\u001b[0m \u001b[0;34m\u001b[0m\u001b[0m\n\u001b[1;32m    967\u001b[0m         \u001b[0;32mtry\u001b[0m\u001b[0;34m:\u001b[0m\u001b[0;34m\u001b[0m\u001b[0;34m\u001b[0m\u001b[0m\n\u001b[0;32m--> 968\u001b[0;31m             \u001b[0mresult\u001b[0m \u001b[0;34m=\u001b[0m \u001b[0mexpressions\u001b[0m\u001b[0;34m.\u001b[0m\u001b[0mevaluate\u001b[0m\u001b[0;34m(\u001b[0m\u001b[0mop\u001b[0m\u001b[0;34m,\u001b[0m \u001b[0mstr_rep\u001b[0m\u001b[0;34m,\u001b[0m \u001b[0mx\u001b[0m\u001b[0;34m,\u001b[0m \u001b[0my\u001b[0m\u001b[0;34m,\u001b[0m \u001b[0;34m**\u001b[0m\u001b[0meval_kwargs\u001b[0m\u001b[0;34m)\u001b[0m\u001b[0;34m\u001b[0m\u001b[0;34m\u001b[0m\u001b[0m\n\u001b[0m\u001b[1;32m    969\u001b[0m         \u001b[0;32mexcept\u001b[0m \u001b[0mTypeError\u001b[0m\u001b[0;34m:\u001b[0m\u001b[0;34m\u001b[0m\u001b[0;34m\u001b[0m\u001b[0m\n\u001b[1;32m    970\u001b[0m             \u001b[0mresult\u001b[0m \u001b[0;34m=\u001b[0m \u001b[0mmasked_arith_op\u001b[0m\u001b[0;34m(\u001b[0m\u001b[0mx\u001b[0m\u001b[0;34m,\u001b[0m \u001b[0my\u001b[0m\u001b[0;34m,\u001b[0m \u001b[0mop\u001b[0m\u001b[0;34m)\u001b[0m\u001b[0;34m\u001b[0m\u001b[0;34m\u001b[0m\u001b[0m\n",
      "\u001b[0;32m~/opt/anaconda3/lib/python3.7/site-packages/pandas/core/computation/expressions.py\u001b[0m in \u001b[0;36mevaluate\u001b[0;34m(op, op_str, a, b, use_numexpr, **eval_kwargs)\u001b[0m\n\u001b[1;32m    219\u001b[0m     \u001b[0muse_numexpr\u001b[0m \u001b[0;34m=\u001b[0m \u001b[0muse_numexpr\u001b[0m \u001b[0;32mand\u001b[0m \u001b[0m_bool_arith_check\u001b[0m\u001b[0;34m(\u001b[0m\u001b[0mop_str\u001b[0m\u001b[0;34m,\u001b[0m \u001b[0ma\u001b[0m\u001b[0;34m,\u001b[0m \u001b[0mb\u001b[0m\u001b[0;34m)\u001b[0m\u001b[0;34m\u001b[0m\u001b[0;34m\u001b[0m\u001b[0m\n\u001b[1;32m    220\u001b[0m     \u001b[0;32mif\u001b[0m \u001b[0muse_numexpr\u001b[0m\u001b[0;34m:\u001b[0m\u001b[0;34m\u001b[0m\u001b[0;34m\u001b[0m\u001b[0m\n\u001b[0;32m--> 221\u001b[0;31m         \u001b[0;32mreturn\u001b[0m \u001b[0m_evaluate\u001b[0m\u001b[0;34m(\u001b[0m\u001b[0mop\u001b[0m\u001b[0;34m,\u001b[0m \u001b[0mop_str\u001b[0m\u001b[0;34m,\u001b[0m \u001b[0ma\u001b[0m\u001b[0;34m,\u001b[0m \u001b[0mb\u001b[0m\u001b[0;34m,\u001b[0m \u001b[0;34m**\u001b[0m\u001b[0meval_kwargs\u001b[0m\u001b[0;34m)\u001b[0m\u001b[0;34m\u001b[0m\u001b[0;34m\u001b[0m\u001b[0m\n\u001b[0m\u001b[1;32m    222\u001b[0m     \u001b[0;32mreturn\u001b[0m \u001b[0m_evaluate_standard\u001b[0m\u001b[0;34m(\u001b[0m\u001b[0mop\u001b[0m\u001b[0;34m,\u001b[0m \u001b[0mop_str\u001b[0m\u001b[0;34m,\u001b[0m \u001b[0ma\u001b[0m\u001b[0;34m,\u001b[0m \u001b[0mb\u001b[0m\u001b[0;34m)\u001b[0m\u001b[0;34m\u001b[0m\u001b[0;34m\u001b[0m\u001b[0m\n\u001b[1;32m    223\u001b[0m \u001b[0;34m\u001b[0m\u001b[0m\n",
      "\u001b[0;32m~/opt/anaconda3/lib/python3.7/site-packages/pandas/core/computation/expressions.py\u001b[0m in \u001b[0;36m_evaluate_numexpr\u001b[0;34m(op, op_str, a, b, truediv, reversed, **eval_kwargs)\u001b[0m\n\u001b[1;32m    125\u001b[0m \u001b[0;34m\u001b[0m\u001b[0m\n\u001b[1;32m    126\u001b[0m     \u001b[0;32mif\u001b[0m \u001b[0mresult\u001b[0m \u001b[0;32mis\u001b[0m \u001b[0;32mNone\u001b[0m\u001b[0;34m:\u001b[0m\u001b[0;34m\u001b[0m\u001b[0;34m\u001b[0m\u001b[0m\n\u001b[0;32m--> 127\u001b[0;31m         \u001b[0mresult\u001b[0m \u001b[0;34m=\u001b[0m \u001b[0m_evaluate_standard\u001b[0m\u001b[0;34m(\u001b[0m\u001b[0mop\u001b[0m\u001b[0;34m,\u001b[0m \u001b[0mop_str\u001b[0m\u001b[0;34m,\u001b[0m \u001b[0ma\u001b[0m\u001b[0;34m,\u001b[0m \u001b[0mb\u001b[0m\u001b[0;34m)\u001b[0m\u001b[0;34m\u001b[0m\u001b[0;34m\u001b[0m\u001b[0m\n\u001b[0m\u001b[1;32m    128\u001b[0m \u001b[0;34m\u001b[0m\u001b[0m\n\u001b[1;32m    129\u001b[0m     \u001b[0;32mreturn\u001b[0m \u001b[0mresult\u001b[0m\u001b[0;34m\u001b[0m\u001b[0;34m\u001b[0m\u001b[0m\n",
      "\u001b[0;32m~/opt/anaconda3/lib/python3.7/site-packages/pandas/core/computation/expressions.py\u001b[0m in \u001b[0;36m_evaluate_standard\u001b[0;34m(op, op_str, a, b, **eval_kwargs)\u001b[0m\n\u001b[1;32m     68\u001b[0m         \u001b[0m_store_test_result\u001b[0m\u001b[0;34m(\u001b[0m\u001b[0;32mFalse\u001b[0m\u001b[0;34m)\u001b[0m\u001b[0;34m\u001b[0m\u001b[0;34m\u001b[0m\u001b[0m\n\u001b[1;32m     69\u001b[0m     \u001b[0;32mwith\u001b[0m \u001b[0mnp\u001b[0m\u001b[0;34m.\u001b[0m\u001b[0merrstate\u001b[0m\u001b[0;34m(\u001b[0m\u001b[0mall\u001b[0m\u001b[0;34m=\u001b[0m\u001b[0;34m\"ignore\"\u001b[0m\u001b[0;34m)\u001b[0m\u001b[0;34m:\u001b[0m\u001b[0;34m\u001b[0m\u001b[0;34m\u001b[0m\u001b[0m\n\u001b[0;32m---> 70\u001b[0;31m         \u001b[0;32mreturn\u001b[0m \u001b[0mop\u001b[0m\u001b[0;34m(\u001b[0m\u001b[0ma\u001b[0m\u001b[0;34m,\u001b[0m \u001b[0mb\u001b[0m\u001b[0;34m)\u001b[0m\u001b[0;34m\u001b[0m\u001b[0;34m\u001b[0m\u001b[0m\n\u001b[0m\u001b[1;32m     71\u001b[0m \u001b[0;34m\u001b[0m\u001b[0m\n\u001b[1;32m     72\u001b[0m \u001b[0;34m\u001b[0m\u001b[0m\n",
      "\u001b[0;31mValueError\u001b[0m: operands could not be broadcast together with shapes (15,) (6,) "
     ]
    }
   ],
   "source": [
    "#获得范围\n",
    "minRet = min(assetReturns * 252)\n",
    "maxRet = max(assetReturns * 252)\n",
    "\n",
    "trets = np.linspace(minRet, maxRet, 50)  \n",
    "tvols = []  #Volatility of the efficient frontier\n",
    "initialWeights = np.ones(numAssets)\n",
    "bnds = tuple((0,1) for x in initialWeights)\n",
    "\n",
    "\n",
    "#2 Constraints:\n",
    "for tret in trets: \n",
    "    cons = ({'type': 'eq', 'fun': lambda x:  portfolioReturn(x) - tret},\n",
    "            {'type': 'eq', 'fun': lambda x:  np.sum(x) - 1})\n",
    "\n",
    "    res = sco.minimize(portfolioVolatility, initialWeights, method='SLSQP', bounds=bnds, constraints=cons)\n",
    "    frontierWeights = res['x']\n",
    "    frontierRet = portfolioReturn(frontierWeights)\n",
    "    frontierVol = portfolioVolatility(frontierWeights)    \n",
    "    tvols.append(res['fun'])"
   ]
  },
  {
   "cell_type": "code",
   "execution_count": 112,
   "metadata": {},
   "outputs": [],
   "source": [
    "import matplotlib.pyplot as plt"
   ]
  },
  {
   "cell_type": "code",
   "execution_count": 113,
   "metadata": {},
   "outputs": [
    {
     "ename": "ValueError",
     "evalue": "x and y must be the same size",
     "output_type": "error",
     "traceback": [
      "\u001b[0;31m---------------------------------------------------------------------------\u001b[0m",
      "\u001b[0;31mValueError\u001b[0m                                Traceback (most recent call last)",
      "\u001b[0;32m<ipython-input-113-4aa7d748688f>\u001b[0m in \u001b[0;36m<module>\u001b[0;34m\u001b[0m\n\u001b[1;32m      1\u001b[0m \u001b[0mplt\u001b[0m\u001b[0;34m.\u001b[0m\u001b[0mfigure\u001b[0m\u001b[0;34m(\u001b[0m\u001b[0mfigsize\u001b[0m\u001b[0;34m=\u001b[0m\u001b[0;34m(\u001b[0m\u001b[0;36m14\u001b[0m\u001b[0;34m,\u001b[0m\u001b[0;36m8\u001b[0m\u001b[0;34m)\u001b[0m\u001b[0;34m)\u001b[0m\u001b[0;34m\u001b[0m\u001b[0;34m\u001b[0m\u001b[0m\n\u001b[0;32m----> 2\u001b[0;31m \u001b[0mplt\u001b[0m\u001b[0;34m.\u001b[0m\u001b[0mscatter\u001b[0m\u001b[0;34m(\u001b[0m\u001b[0mtvols\u001b[0m\u001b[0;34m,\u001b[0m \u001b[0mtrets\u001b[0m\u001b[0;34m,\u001b[0m \u001b[0mc\u001b[0m\u001b[0;34m=\u001b[0m\u001b[0;34m(\u001b[0m\u001b[0mtret\u001b[0m\u001b[0;34m-\u001b[0m\u001b[0mrfr\u001b[0m\u001b[0;34m)\u001b[0m\u001b[0;34m/\u001b[0m\u001b[0mtvols\u001b[0m\u001b[0;34m,\u001b[0m \u001b[0mmarker\u001b[0m\u001b[0;34m=\u001b[0m\u001b[0;34m'o'\u001b[0m\u001b[0;34m)\u001b[0m\u001b[0;34m\u001b[0m\u001b[0;34m\u001b[0m\u001b[0m\n\u001b[0m\u001b[1;32m      3\u001b[0m \u001b[0mplt\u001b[0m\u001b[0;34m.\u001b[0m\u001b[0mgrid\u001b[0m\u001b[0;34m(\u001b[0m\u001b[0;32mTrue\u001b[0m\u001b[0;34m)\u001b[0m\u001b[0;34m\u001b[0m\u001b[0;34m\u001b[0m\u001b[0m\n\u001b[1;32m      4\u001b[0m \u001b[0mplt\u001b[0m\u001b[0;34m.\u001b[0m\u001b[0mxlabel\u001b[0m\u001b[0;34m(\u001b[0m\u001b[0;34m'Expected Volatility'\u001b[0m\u001b[0;34m)\u001b[0m\u001b[0;34m\u001b[0m\u001b[0;34m\u001b[0m\u001b[0m\n\u001b[1;32m      5\u001b[0m \u001b[0mplt\u001b[0m\u001b[0;34m.\u001b[0m\u001b[0mylabel\u001b[0m\u001b[0;34m(\u001b[0m\u001b[0;34m'Expected Return'\u001b[0m\u001b[0;34m)\u001b[0m\u001b[0;34m\u001b[0m\u001b[0;34m\u001b[0m\u001b[0m\n",
      "\u001b[0;32m~/opt/anaconda3/lib/python3.7/site-packages/matplotlib/pyplot.py\u001b[0m in \u001b[0;36mscatter\u001b[0;34m(x, y, s, c, marker, cmap, norm, vmin, vmax, alpha, linewidths, verts, edgecolors, plotnonfinite, data, **kwargs)\u001b[0m\n\u001b[1;32m   2846\u001b[0m         \u001b[0mverts\u001b[0m\u001b[0;34m=\u001b[0m\u001b[0mverts\u001b[0m\u001b[0;34m,\u001b[0m \u001b[0medgecolors\u001b[0m\u001b[0;34m=\u001b[0m\u001b[0medgecolors\u001b[0m\u001b[0;34m,\u001b[0m\u001b[0;34m\u001b[0m\u001b[0;34m\u001b[0m\u001b[0m\n\u001b[1;32m   2847\u001b[0m         plotnonfinite=plotnonfinite, **({\"data\": data} if data is not\n\u001b[0;32m-> 2848\u001b[0;31m         None else {}), **kwargs)\n\u001b[0m\u001b[1;32m   2849\u001b[0m     \u001b[0msci\u001b[0m\u001b[0;34m(\u001b[0m\u001b[0m__ret\u001b[0m\u001b[0;34m)\u001b[0m\u001b[0;34m\u001b[0m\u001b[0;34m\u001b[0m\u001b[0m\n\u001b[1;32m   2850\u001b[0m     \u001b[0;32mreturn\u001b[0m \u001b[0m__ret\u001b[0m\u001b[0;34m\u001b[0m\u001b[0;34m\u001b[0m\u001b[0m\n",
      "\u001b[0;32m~/opt/anaconda3/lib/python3.7/site-packages/matplotlib/__init__.py\u001b[0m in \u001b[0;36minner\u001b[0;34m(ax, data, *args, **kwargs)\u001b[0m\n\u001b[1;32m   1597\u001b[0m     \u001b[0;32mdef\u001b[0m \u001b[0minner\u001b[0m\u001b[0;34m(\u001b[0m\u001b[0max\u001b[0m\u001b[0;34m,\u001b[0m \u001b[0;34m*\u001b[0m\u001b[0margs\u001b[0m\u001b[0;34m,\u001b[0m \u001b[0mdata\u001b[0m\u001b[0;34m=\u001b[0m\u001b[0;32mNone\u001b[0m\u001b[0;34m,\u001b[0m \u001b[0;34m**\u001b[0m\u001b[0mkwargs\u001b[0m\u001b[0;34m)\u001b[0m\u001b[0;34m:\u001b[0m\u001b[0;34m\u001b[0m\u001b[0;34m\u001b[0m\u001b[0m\n\u001b[1;32m   1598\u001b[0m         \u001b[0;32mif\u001b[0m \u001b[0mdata\u001b[0m \u001b[0;32mis\u001b[0m \u001b[0;32mNone\u001b[0m\u001b[0;34m:\u001b[0m\u001b[0;34m\u001b[0m\u001b[0;34m\u001b[0m\u001b[0m\n\u001b[0;32m-> 1599\u001b[0;31m             \u001b[0;32mreturn\u001b[0m \u001b[0mfunc\u001b[0m\u001b[0;34m(\u001b[0m\u001b[0max\u001b[0m\u001b[0;34m,\u001b[0m \u001b[0;34m*\u001b[0m\u001b[0mmap\u001b[0m\u001b[0;34m(\u001b[0m\u001b[0msanitize_sequence\u001b[0m\u001b[0;34m,\u001b[0m \u001b[0margs\u001b[0m\u001b[0;34m)\u001b[0m\u001b[0;34m,\u001b[0m \u001b[0;34m**\u001b[0m\u001b[0mkwargs\u001b[0m\u001b[0;34m)\u001b[0m\u001b[0;34m\u001b[0m\u001b[0;34m\u001b[0m\u001b[0m\n\u001b[0m\u001b[1;32m   1600\u001b[0m \u001b[0;34m\u001b[0m\u001b[0m\n\u001b[1;32m   1601\u001b[0m         \u001b[0mbound\u001b[0m \u001b[0;34m=\u001b[0m \u001b[0mnew_sig\u001b[0m\u001b[0;34m.\u001b[0m\u001b[0mbind\u001b[0m\u001b[0;34m(\u001b[0m\u001b[0max\u001b[0m\u001b[0;34m,\u001b[0m \u001b[0;34m*\u001b[0m\u001b[0margs\u001b[0m\u001b[0;34m,\u001b[0m \u001b[0;34m**\u001b[0m\u001b[0mkwargs\u001b[0m\u001b[0;34m)\u001b[0m\u001b[0;34m\u001b[0m\u001b[0;34m\u001b[0m\u001b[0m\n",
      "\u001b[0;32m~/opt/anaconda3/lib/python3.7/site-packages/matplotlib/axes/_axes.py\u001b[0m in \u001b[0;36mscatter\u001b[0;34m(self, x, y, s, c, marker, cmap, norm, vmin, vmax, alpha, linewidths, verts, edgecolors, plotnonfinite, **kwargs)\u001b[0m\n\u001b[1;32m   4441\u001b[0m         \u001b[0my\u001b[0m \u001b[0;34m=\u001b[0m \u001b[0mnp\u001b[0m\u001b[0;34m.\u001b[0m\u001b[0mma\u001b[0m\u001b[0;34m.\u001b[0m\u001b[0mravel\u001b[0m\u001b[0;34m(\u001b[0m\u001b[0my\u001b[0m\u001b[0;34m)\u001b[0m\u001b[0;34m\u001b[0m\u001b[0;34m\u001b[0m\u001b[0m\n\u001b[1;32m   4442\u001b[0m         \u001b[0;32mif\u001b[0m \u001b[0mx\u001b[0m\u001b[0;34m.\u001b[0m\u001b[0msize\u001b[0m \u001b[0;34m!=\u001b[0m \u001b[0my\u001b[0m\u001b[0;34m.\u001b[0m\u001b[0msize\u001b[0m\u001b[0;34m:\u001b[0m\u001b[0;34m\u001b[0m\u001b[0;34m\u001b[0m\u001b[0m\n\u001b[0;32m-> 4443\u001b[0;31m             \u001b[0;32mraise\u001b[0m \u001b[0mValueError\u001b[0m\u001b[0;34m(\u001b[0m\u001b[0;34m\"x and y must be the same size\"\u001b[0m\u001b[0;34m)\u001b[0m\u001b[0;34m\u001b[0m\u001b[0;34m\u001b[0m\u001b[0m\n\u001b[0m\u001b[1;32m   4444\u001b[0m \u001b[0;34m\u001b[0m\u001b[0m\n\u001b[1;32m   4445\u001b[0m         \u001b[0;32mif\u001b[0m \u001b[0ms\u001b[0m \u001b[0;32mis\u001b[0m \u001b[0;32mNone\u001b[0m\u001b[0;34m:\u001b[0m\u001b[0;34m\u001b[0m\u001b[0;34m\u001b[0m\u001b[0m\n",
      "\u001b[0;31mValueError\u001b[0m: x and y must be the same size"
     ]
    },
    {
     "data": {
      "image/png": "[encoded data removed]",
      "text/plain": [
       "<Figure size 1008x576 with 1 Axes>"
      ]
     },
     "metadata": {
      "needs_background": "light"
     },
     "output_type": "display_data"
    }
   ],
   "source": [
    "plt.figure(figsize=(14,8))\n",
    "plt.scatter(tvols, trets, c=(tret-rfr)/tvols, marker='o')\n",
    "plt.grid(True)\n",
    "plt.xlabel('Expected Volatility')\n",
    "plt.ylabel('Expected Return')\n",
    "plt.colorbar(label='Sharpe ratio')"
   ]
  },
  {
   "cell_type": "markdown",
   "metadata": {},
   "source": [
    "# Python Modules"
   ]
  },
  {
   "cell_type": "markdown",
   "metadata": {},
   "source": [
    "## Option Value"
   ]
  },
  {
   "cell_type": "code",
   "execution_count": 1,
   "metadata": {},
   "outputs": [],
   "source": [
    "#import FinUtils\n",
    "from math import exp, log, sqrt\n",
    "from scipy import optimize\n",
    "from scipy.stats import norm\n",
    "from datetime import date\n",
    "\n",
    "DAYS_IN_YEAR = 365.242"
   ]
  },
  {
   "cell_type": "code",
   "execution_count": 2,
   "metadata": {},
   "outputs": [],
   "source": [
    "def f(volatility, *args):\n",
    "\n",
    "    self = args[0]\n",
    "    valueDate = args[1]\n",
    "    stockPrice = args[2]\n",
    "    divYield = args[3]\n",
    "    interestRate = args[4]\n",
    "    value = args[5]\n",
    "\n",
    "    objFn = self.value(valueDate,stockPrice,divYield,volatility,interestRate) - value\n",
    "\n",
    "    return objFn\n"
   ]
  },
  {
   "cell_type": "code",
   "execution_count": 3,
   "metadata": {},
   "outputs": [],
   "source": [
    "class Option(object):\n",
    "\n",
    "    def __init__ (self, expiry_date, strike_price, option_type ):\n",
    "\n",
    "        if isinstance(expiry_date, date) == False:        \n",
    "            print(\"Expiry date is not a date\")\n",
    "\n",
    "        self._expiry_date = expiry_date\n",
    "        self._strike_price = float(strike_price)\n",
    "        self._option_type = option_type.upper()\n",
    "        \n",
    "        if self._option_type != \"CALL\" and self._option_type != \"PUT\":\n",
    "            print(\"Unknown option type\")"
   ]
  },
  {
   "cell_type": "code",
   "execution_count": 4,
   "metadata": {},
   "outputs": [],
   "source": [
    "    def value(self, value_date, stock_price, interest_rate, \n",
    "              dividend_yield, volatility ):\n",
    "\n",
    "        t = abs(self._expiry_date - value_date).days / DAYS_IN_YEAR\n",
    "        r = interest_rate; q = dividend_yield; s = stock_price; \n",
    "        k = self._strike_price; v = volatility\n",
    "        \n",
    "        d1 = (log(s/k) + (r - q + v*v / 2.0) * t) / (v * sqrt(t))\n",
    "        d2 = (log(s/k) + (r - q - v*v / 2.0) * t) / (v * sqrt(t))\n",
    "\n",
    "        if self._option_type == \"CALL\":\n",
    "            v = s * exp(-q * t) * norm.cdf(d1)\n",
    "            v = v - k * exp(-r * t) * norm.cdf(d2)\n",
    "        elif self._option_type == \"PUT\":\n",
    "            v = k * exp(-r * t) * norm.cdf(-d2)\n",
    "            v = v - s * exp(-q * t) * norm.cdf(-d1)\n",
    "\n",
    "        return v"
   ]
  },
  {
   "cell_type": "code",
   "execution_count": 5,
   "metadata": {},
   "outputs": [],
   "source": [
    "    def impliedVolatility(self, value_date, option_mkt_value, stock_price,\n",
    "                          dividend_yield, interest_rate):\n",
    "\n",
    "        argtuple = (self, value_date, stock_price, dividend_yield, \n",
    "                    interest_rate, option_mkt_value)\n",
    "\n",
    "        sigma = optimize.newton(f,x0=0.2, args=argtuple, tol=1e-8, maxiter=50)\n",
    "        return sigma"
   ]
  },
  {
   "cell_type": "code",
   "execution_count": 8,
   "metadata": {},
   "outputs": [
    {
     "name": "stdout",
     "output_type": "stream",
     "text": [
      "Expiry date is not a date\n"
     ]
    },
    {
     "ename": "TypeError",
     "evalue": "unsupported operand type(s) for -: 'int' and 'datetime.date'",
     "output_type": "error",
     "traceback": [
      "\u001b[0;31m---------------------------------------------------------------------------\u001b[0m",
      "\u001b[0;31mTypeError\u001b[0m                                 Traceback (most recent call last)",
      "\u001b[0;32m<ipython-input-8-55e45193ef87>\u001b[0m in \u001b[0;36m<module>\u001b[0;34m\u001b[0m\n\u001b[1;32m     16\u001b[0m     \u001b[0;32mfor\u001b[0m \u001b[0mstockPrice\u001b[0m \u001b[0;32min\u001b[0m \u001b[0mstockPrices\u001b[0m\u001b[0;34m:\u001b[0m\u001b[0;34m\u001b[0m\u001b[0;34m\u001b[0m\u001b[0m\n\u001b[1;32m     17\u001b[0m         \u001b[0mcallOption\u001b[0m \u001b[0;34m=\u001b[0m \u001b[0mOption\u001b[0m\u001b[0;34m(\u001b[0m\u001b[0mexpiry_date\u001b[0m\u001b[0;34m,\u001b[0m \u001b[0;36m100.0\u001b[0m\u001b[0;34m,\u001b[0m \u001b[0;34m\"CALL\"\u001b[0m\u001b[0;34m)\u001b[0m\u001b[0;34m\u001b[0m\u001b[0;34m\u001b[0m\u001b[0m\n\u001b[0;32m---> 18\u001b[0;31m         \u001b[0mvalue\u001b[0m \u001b[0;34m=\u001b[0m \u001b[0mcallOption\u001b[0m\u001b[0;34m.\u001b[0m\u001b[0mvalue\u001b[0m\u001b[0;34m(\u001b[0m\u001b[0mvalue_date\u001b[0m\u001b[0;34m,\u001b[0m \u001b[0mstockPrice\u001b[0m\u001b[0;34m,\u001b[0m \u001b[0minterest_rate\u001b[0m\u001b[0;34m,\u001b[0m \u001b[0mdividend_yield\u001b[0m\u001b[0;34m,\u001b[0m \u001b[0mvolatility\u001b[0m\u001b[0;34m)\u001b[0m\u001b[0;34m\u001b[0m\u001b[0;34m\u001b[0m\u001b[0m\n\u001b[0m\u001b[1;32m     19\u001b[0m         \u001b[0mcallOptionValues\u001b[0m\u001b[0;34m.\u001b[0m\u001b[0mappend\u001b[0m\u001b[0;34m(\u001b[0m\u001b[0mvalue\u001b[0m\u001b[0;34m)\u001b[0m\u001b[0;34m\u001b[0m\u001b[0;34m\u001b[0m\u001b[0m\n\u001b[1;32m     20\u001b[0m \u001b[0;34m\u001b[0m\u001b[0m\n",
      "\u001b[0;32m<ipython-input-7-f463cd96616a>\u001b[0m in \u001b[0;36mvalue\u001b[0;34m(self, value_date, stock_price, interest_rate, dividend_yield, volatility)\u001b[0m\n\u001b[1;32m     50\u001b[0m               dividend_yield, volatility ):\n\u001b[1;32m     51\u001b[0m \u001b[0;34m\u001b[0m\u001b[0m\n\u001b[0;32m---> 52\u001b[0;31m         \u001b[0mt\u001b[0m \u001b[0;34m=\u001b[0m \u001b[0mabs\u001b[0m\u001b[0;34m(\u001b[0m\u001b[0mself\u001b[0m\u001b[0;34m.\u001b[0m\u001b[0m_expiry_date\u001b[0m \u001b[0;34m-\u001b[0m \u001b[0mvalue_date\u001b[0m\u001b[0;34m)\u001b[0m\u001b[0;34m.\u001b[0m\u001b[0mdays\u001b[0m \u001b[0;34m/\u001b[0m \u001b[0mDAYS_IN_YEAR\u001b[0m\u001b[0;34m\u001b[0m\u001b[0;34m\u001b[0m\u001b[0m\n\u001b[0m\u001b[1;32m     53\u001b[0m         \u001b[0mr\u001b[0m \u001b[0;34m=\u001b[0m \u001b[0minterest_rate\u001b[0m\u001b[0;34m;\u001b[0m \u001b[0mq\u001b[0m \u001b[0;34m=\u001b[0m \u001b[0mdividend_yield\u001b[0m\u001b[0;34m;\u001b[0m \u001b[0ms\u001b[0m \u001b[0;34m=\u001b[0m \u001b[0mstock_price\u001b[0m\u001b[0;34m;\u001b[0m\u001b[0;34m\u001b[0m\u001b[0;34m\u001b[0m\u001b[0m\n\u001b[1;32m     54\u001b[0m         \u001b[0mk\u001b[0m \u001b[0;34m=\u001b[0m \u001b[0mself\u001b[0m\u001b[0;34m.\u001b[0m\u001b[0m_strike_price\u001b[0m\u001b[0;34m;\u001b[0m \u001b[0mv\u001b[0m \u001b[0;34m=\u001b[0m \u001b[0mvolatility\u001b[0m\u001b[0;34m\u001b[0m\u001b[0;34m\u001b[0m\u001b[0m\n",
      "\u001b[0;31mTypeError\u001b[0m: unsupported operand type(s) for -: 'int' and 'datetime.date'"
     ]
    }
   ],
   "source": [
    "if __name__ == \"__main__\":\n",
    "    \n",
    "    import matplotlib.pyplot as plt\n",
    "\n",
    "    expiry_date = 10; # date(2022, 6, 1)\n",
    "    stockPrice = 100\n",
    "    volatility = 0.30\n",
    "    interest_rate = 0.05\n",
    "    dividend_yield = 0.0\n",
    "\n",
    "    stockPrices = range(50,150)\n",
    "    callOptionValues = []\n",
    "    putOptionValues = []\n",
    "    value_date = date(2022, 1, 1)\n",
    "\n",
    "    for stockPrice in stockPrices:\n",
    "        callOption = Option(expiry_date, 100.0, \"CALL\")\n",
    "        value = callOption.value(value_date, stockPrice, interest_rate, dividend_yield, volatility)\n",
    "        callOptionValues.append(value)\n",
    "\n",
    "    for stockPrice in stockPrices:\n",
    "        putOption = Option(expiry_date, 100.0, \"PUT\")\n",
    "        value = putOption.value(value_date, stockPrice, interest_rate, dividend_yield, volatility)\n",
    "        putOptionValues.append(value)\n",
    "\n",
    "    plt.figure()\n",
    "    plt.plot(stockPrices, callOptionValues, color = 'b', label=\"Call Option\")\n",
    "    plt.plot(stockPrices, putOptionValues, color = 'r', label = \"Put Option\")\n",
    "    plt.xlabel(\"Stock Price\")\n",
    "    plt.legend(loc='best')\n",
    "\n",
    "    callOption = Option(expiry_date, 100.0, \"CALL\")\n",
    "    value = callOption.value(value_date, stockPrice, dividend_yield, volatility, interest_rate)\n",
    "    impliedVol = callOption.impliedVolatility(value_date, value, stockPrice, dividend_yield, \n",
    "                                              interest_rate)\n",
    "    print(\"Implied Vol %9.5f\" % impliedVol) \n"
   ]
  },
  {
   "cell_type": "code",
   "execution_count": null,
   "metadata": {},
   "outputs": [],
   "source": []
  }
 ],
 "metadata": {
  "kernelspec": {
   "display_name": "Python 3",
   "language": "python",
   "name": "python3"
  },
  "language_info": {
   "codemirror_mode": {
    "name": "ipython",
    "version": 3
   },
   "file_extension": ".py",
   "mimetype": "text/x-python",
   "name": "python",
   "nbconvert_exporter": "python",
   "pygments_lexer": "ipython3",
   "version": "3.7.4"
  }
 },
 "nbformat": 4,
 "nbformat_minor": 2
}
