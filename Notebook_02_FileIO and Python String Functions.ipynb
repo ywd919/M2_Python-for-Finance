{
 "cells": [
  {
   "cell_type": "markdown",
   "metadata": {},
   "source": [
    "# Python File I/O"
   ]
  },
  {
   "cell_type": "code",
   "execution_count": 1,
   "metadata": {},
   "outputs": [
    {
     "name": "stdout",
     "output_type": "stream",
     "text": [
      "['bondPrice.py', 'giltBondPrices.txt', 'timeSeriesData.pkl', 'stocks', '.ipynb_checkpoints', 'optionPortfolio.csv']\n"
     ]
    }
   ],
   "source": [
    "mypath = \"./data/\"\n",
    "import os\n",
    "files = os.listdir(mypath)\n",
    "print(files)"
   ]
  },
  {
   "cell_type": "code",
   "execution_count": 2,
   "metadata": {},
   "outputs": [
    {
     "name": "stdout",
     "output_type": "stream",
     "text": [
      "['./data/giltBondPrices.txt']\n"
     ]
    }
   ],
   "source": [
    "import glob\n",
    "files = glob.glob(\"./data/*.txt\")\n",
    "print(files)"
   ]
  },
  {
   "cell_type": "code",
   "execution_count": 4,
   "metadata": {},
   "outputs": [
    {
     "data": {
      "text/plain": [
       "'/Users/dominicokane/Dropbox/Desktop/EDHEC_DB/Teaching/Nice/Combined_VBA_Python/2021/Python/Notebooks'"
      ]
     },
     "execution_count": 4,
     "metadata": {},
     "output_type": "execute_result"
    }
   ],
   "source": [
    "os.getcwd()"
   ]
  },
  {
   "cell_type": "code",
   "execution_count": 5,
   "metadata": {},
   "outputs": [],
   "source": [
    "filename = \"./data/giltBondPrices.txt\"\n",
    "f = open(filename,'r') \n",
    "lines = f.readlines()\n",
    "f.close() "
   ]
  },
  {
   "cell_type": "code",
   "execution_count": 6,
   "metadata": {
    "scrolled": false
   },
   "outputs": [
    {
     "data": {
      "text/plain": [
       "['epic\\tdescription\\tcoupon\\tmaturity\\tbid\\task\\tchange\\tincome yield\\tgross redemption yield\\n',\n",
       " 'TR13\\tUk Gilt Treasury Stk\\t4.5\\t07-Mar-13\\t101.92\\t102.07\\t-0.01\\t4.41\\t0.22\\n',\n",
       " 'T813\\tUk Gilt Treasury Stk\\t8\\t27-Sep-13\\t107.86\\t107.98\\t-0.03\\t7.41\\t0.23\\n',\n",
       " 'TR14\\tUk Gilt Treasury Stk\\t2.25\\t07-Mar-14\\t102.9\\t103.05\\t0.01\\t2.18\\t0.22\\n',\n",
       " 'T514\\tUk Gilt Treasury Stk\\t5\\t07-Sep-14\\t109.28\\t109.43\\t0.02\\t4.57\\t0.23\\n',\n",
       " 'TR15\\tUk Gilt Treasury Stk\\t2.75\\t22-Jan-15\\t105.57\\t105.68\\t0.05\\t2.6\\t0.33\\n',\n",
       " 'T4T\\tUk Gilt Treasury Stk\\t4.75\\t07-Sep-15\\t112.92\\t113.04\\t0.04\\t4.2\\t0.35\\n',\n",
       " 'TY8\\tUk Gilt Treasury Stk\\t8\\t07-Dec-15\\t124.39\\t124.55\\t0.04\\t6.43\\t0.34\\n',\n",
       " 'TS16\\tUk Gilt Treasury Stk\\t2\\t22-Jan-16\\t104.92\\t105.04\\t0.07\\t1.91\\t0.49\\n',\n",
       " 'T16\\tUk Gilt Treasury Stk\\t4\\t07-Sep-16\\t113.44\\t113.55\\t0.08\\t3.52\\t0.56\\n',\n",
       " 'TR17\\tUk Gilt Treasury Stk\\t8.75\\t25-Aug-17\\t138.48\\t138.66\\t0.14\\t6.31\\t0.77\\n',\n",
       " 'T18\\tUk Gilt Treasury Stk\\t5\\t07-Mar-18\\t121.74\\t121.84\\t0.16\\t4.11\\t0.91\\n',\n",
       " 'T19\\tUk Gilt Treasury Stk\\t4.5\\t07-Mar-19\\t121.28\\t121.41\\t0.23\\t3.71\\t1.07\\n',\n",
       " 'TR19\\tUk Gilt Treasury Stk\\t3.75\\t07-Sep-19\\t116.5\\t117.13\\t0.26\\t3.21\\t1.22\\n',\n",
       " 'TS20\\tUk Gilt Treasury Stk\\t4.75\\t07-Mar-20\\t124.24\\t124.36\\t0.28\\t3.82\\t1.32\\n',\n",
       " 'TR20\\tUk Gilt Treasury Stk\\t3.75\\t07-Sep-20\\t117.25\\t117.5\\t0.32\\t3.19\\t1.43\\n',\n",
       " 'TR21\\tUk Gilt Treasury Stk\\t8\\t07-Jun-21\\t152.25\\t153.61\\t0.42\\t5.23\\t1.5\\n',\n",
       " 'TY21\\tUk Gilt Treasury Stk\\t3.75\\t07-Sep-21\\t117.62\\t117.77\\t0.38\\t3.19\\t1.62\\n',\n",
       " 'TR22\\tUk Gilt Treasury Stk\\t4\\t07-Mar-22\\t119.92\\t120.12\\t0.41\\t3.33\\t1.7\\n',\n",
       " 'TR25\\tUk Gilt Treasury Stk\\t5\\t07-Mar-25\\t131.89\\t132.19\\t0.52\\t3.79\\t2.07\\n',\n",
       " 'TR27\\tUk Gilt Treasury Stk\\t4.25\\t07-Dec-27\\t123.78\\t124.33\\t0.58\\t3.43\\t2.36\\n',\n",
       " 'TR28\\tUk Gilt Treasury Stk\\t6\\t07-Dec-28\\t148.21\\t148.26\\t0.68\\t4.05\\t2.39\\n',\n",
       " 'TR30\\tUk Gilt Treasury Stk\\t4.75\\t07-Dec-30\\t130.96\\t131.14\\t0.55\\t3.62\\t2.6\\n',\n",
       " 'TR32\\tUk Gilt Treasury Stk\\t4.25\\t07-Jun-32\\t122.93\\t123.08\\t0.54\\t3.46\\t2.73\\n',\n",
       " 'T34\\tUk Gilt Treasury Stk\\t4.5\\t07-Sep-34\\t126.09\\t126.18\\t0.58\\t3.57\\t2.89\\n',\n",
       " 'T4Q\\tUk Gilt Treasury Stk\\t4.25\\t07-Mar-36\\t121.46\\t121.71\\t0.53\\t3.5\\t2.97\\n',\n",
       " 'TR38\\tUk Gilt Treasury Stk\\t4.75\\t07-Dec-38\\t130.7\\t130.8\\t0.55\\t3.63\\t3.04\\n',\n",
       " 'T39\\tUk Gilt Treasury Stk\\t4.25\\t07-Sep-39\\t120.9\\t121.15\\t0.54\\t3.51\\t3.09\\n',\n",
       " 'T40\\tUk Gilt Treasury Stk\\t4.25\\t07-Dec-40\\t120.55\\t120.93\\t0.53\\t3.52\\t3.14\\n',\n",
       " 'T42\\tUk Gilt Treasury Stk\\t4.5\\t07-Dec-42\\t125.77\\t126.07\\t0.58\\t3.57\\t3.16\\n',\n",
       " 'T46\\tUk Gilt Treasury Stk\\t4.25\\t07-Dec-46\\t120.93\\t121.37\\t0.56\\t3.51\\t3.22\\n',\n",
       " 'T49\\tUk Gilt Treasury Stk\\t4.25\\t07-Dec-49\\t120.99\\t121.34\\t0.53\\t3.51\\t3.26\\n',\n",
       " 'TR4Q\\tUk Gilt Treasury Stk\\t4.25\\t07-Dec-55\\t122.49\\t122.9\\t0.55\\t3.46\\t3.27\\n',\n",
       " 'TR60\\tUk Gilt Treasury Stk\\t4\\t22-Jan-60\\t117.6\\t118.06\\t0.51\\t3.39\\t3.26']"
      ]
     },
     "execution_count": 6,
     "metadata": {},
     "output_type": "execute_result"
    }
   ],
   "source": [
    "lines"
   ]
  },
  {
   "cell_type": "code",
   "execution_count": 7,
   "metadata": {},
   "outputs": [],
   "source": [
    "dataTable = []\n",
    "for line in lines:\n",
    "    line2 = line.replace(\"\\n\", \"\")\n",
    "    dataFields = line2.split(\"\\t\")\n",
    "    dataTable.append(dataFields)"
   ]
  },
  {
   "cell_type": "code",
   "execution_count": 8,
   "metadata": {},
   "outputs": [
    {
     "name": "stdout",
     "output_type": "stream",
     "text": [
      "[['epic', 'description', 'coupon', 'maturity', 'bid', 'ask', 'change', 'income yield', 'gross redemption yield'], ['TR13', 'Uk Gilt Treasury Stk', '4.5', '07-Mar-13', '101.92', '102.07', '-0.01', '4.41', '0.22'], ['T813', 'Uk Gilt Treasury Stk', '8', '27-Sep-13', '107.86', '107.98', '-0.03', '7.41', '0.23'], ['TR14', 'Uk Gilt Treasury Stk', '2.25', '07-Mar-14', '102.9', '103.05', '0.01', '2.18', '0.22'], ['T514', 'Uk Gilt Treasury Stk', '5', '07-Sep-14', '109.28', '109.43', '0.02', '4.57', '0.23'], ['TR15', 'Uk Gilt Treasury Stk', '2.75', '22-Jan-15', '105.57', '105.68', '0.05', '2.6', '0.33'], ['T4T', 'Uk Gilt Treasury Stk', '4.75', '07-Sep-15', '112.92', '113.04', '0.04', '4.2', '0.35'], ['TY8', 'Uk Gilt Treasury Stk', '8', '07-Dec-15', '124.39', '124.55', '0.04', '6.43', '0.34'], ['TS16', 'Uk Gilt Treasury Stk', '2', '22-Jan-16', '104.92', '105.04', '0.07', '1.91', '0.49'], ['T16', 'Uk Gilt Treasury Stk', '4', '07-Sep-16', '113.44', '113.55', '0.08', '3.52', '0.56'], ['TR17', 'Uk Gilt Treasury Stk', '8.75', '25-Aug-17', '138.48', '138.66', '0.14', '6.31', '0.77'], ['T18', 'Uk Gilt Treasury Stk', '5', '07-Mar-18', '121.74', '121.84', '0.16', '4.11', '0.91'], ['T19', 'Uk Gilt Treasury Stk', '4.5', '07-Mar-19', '121.28', '121.41', '0.23', '3.71', '1.07'], ['TR19', 'Uk Gilt Treasury Stk', '3.75', '07-Sep-19', '116.5', '117.13', '0.26', '3.21', '1.22'], ['TS20', 'Uk Gilt Treasury Stk', '4.75', '07-Mar-20', '124.24', '124.36', '0.28', '3.82', '1.32'], ['TR20', 'Uk Gilt Treasury Stk', '3.75', '07-Sep-20', '117.25', '117.5', '0.32', '3.19', '1.43'], ['TR21', 'Uk Gilt Treasury Stk', '8', '07-Jun-21', '152.25', '153.61', '0.42', '5.23', '1.5'], ['TY21', 'Uk Gilt Treasury Stk', '3.75', '07-Sep-21', '117.62', '117.77', '0.38', '3.19', '1.62'], ['TR22', 'Uk Gilt Treasury Stk', '4', '07-Mar-22', '119.92', '120.12', '0.41', '3.33', '1.7'], ['TR25', 'Uk Gilt Treasury Stk', '5', '07-Mar-25', '131.89', '132.19', '0.52', '3.79', '2.07'], ['TR27', 'Uk Gilt Treasury Stk', '4.25', '07-Dec-27', '123.78', '124.33', '0.58', '3.43', '2.36'], ['TR28', 'Uk Gilt Treasury Stk', '6', '07-Dec-28', '148.21', '148.26', '0.68', '4.05', '2.39'], ['TR30', 'Uk Gilt Treasury Stk', '4.75', '07-Dec-30', '130.96', '131.14', '0.55', '3.62', '2.6'], ['TR32', 'Uk Gilt Treasury Stk', '4.25', '07-Jun-32', '122.93', '123.08', '0.54', '3.46', '2.73'], ['T34', 'Uk Gilt Treasury Stk', '4.5', '07-Sep-34', '126.09', '126.18', '0.58', '3.57', '2.89'], ['T4Q', 'Uk Gilt Treasury Stk', '4.25', '07-Mar-36', '121.46', '121.71', '0.53', '3.5', '2.97'], ['TR38', 'Uk Gilt Treasury Stk', '4.75', '07-Dec-38', '130.7', '130.8', '0.55', '3.63', '3.04'], ['T39', 'Uk Gilt Treasury Stk', '4.25', '07-Sep-39', '120.9', '121.15', '0.54', '3.51', '3.09'], ['T40', 'Uk Gilt Treasury Stk', '4.25', '07-Dec-40', '120.55', '120.93', '0.53', '3.52', '3.14'], ['T42', 'Uk Gilt Treasury Stk', '4.5', '07-Dec-42', '125.77', '126.07', '0.58', '3.57', '3.16'], ['T46', 'Uk Gilt Treasury Stk', '4.25', '07-Dec-46', '120.93', '121.37', '0.56', '3.51', '3.22'], ['T49', 'Uk Gilt Treasury Stk', '4.25', '07-Dec-49', '120.99', '121.34', '0.53', '3.51', '3.26'], ['TR4Q', 'Uk Gilt Treasury Stk', '4.25', '07-Dec-55', '122.49', '122.9', '0.55', '3.46', '3.27'], ['TR60', 'Uk Gilt Treasury Stk', '4', '22-Jan-60', '117.6', '118.06', '0.51', '3.39', '3.26']]\n"
     ]
    }
   ],
   "source": [
    "print(dataTable)"
   ]
  },
  {
   "cell_type": "markdown",
   "metadata": {},
   "source": [
    "# Python String Functions"
   ]
  },
  {
   "cell_type": "code",
   "execution_count": 9,
   "metadata": {
    "scrolled": true
   },
   "outputs": [],
   "source": [
    "s = \"EDHEC is a Business School\""
   ]
  },
  {
   "cell_type": "code",
   "execution_count": 10,
   "metadata": {
    "scrolled": true
   },
   "outputs": [
    {
     "data": {
      "text/plain": [
       "26"
      ]
     },
     "execution_count": 10,
     "metadata": {},
     "output_type": "execute_result"
    }
   ],
   "source": [
    "len(s)"
   ]
  },
  {
   "cell_type": "code",
   "execution_count": 11,
   "metadata": {
    "scrolled": true
   },
   "outputs": [
    {
     "data": {
      "text/plain": [
       "'C'"
      ]
     },
     "execution_count": 11,
     "metadata": {},
     "output_type": "execute_result"
    }
   ],
   "source": [
    "s[4]"
   ]
  },
  {
   "cell_type": "code",
   "execution_count": 12,
   "metadata": {
    "scrolled": true
   },
   "outputs": [
    {
     "data": {
      "text/plain": [
       "' Busi'"
      ]
     },
     "execution_count": 12,
     "metadata": {},
     "output_type": "execute_result"
    }
   ],
   "source": [
    "s[10:15]"
   ]
  },
  {
   "cell_type": "code",
   "execution_count": 17,
   "metadata": {
    "scrolled": true
   },
   "outputs": [
    {
     "data": {
      "text/plain": [
       "4"
      ]
     },
     "execution_count": 17,
     "metadata": {},
     "output_type": "execute_result"
    }
   ],
   "source": [
    "s.count('s')"
   ]
  },
  {
   "cell_type": "code",
   "execution_count": 18,
   "metadata": {
    "scrolled": true
   },
   "outputs": [
    {
     "data": {
      "text/plain": [
       "11"
      ]
     },
     "execution_count": 18,
     "metadata": {},
     "output_type": "execute_result"
    }
   ],
   "source": [
    "s.find('B')"
   ]
  },
  {
   "cell_type": "code",
   "execution_count": 19,
   "metadata": {
    "scrolled": true
   },
   "outputs": [
    {
     "data": {
      "text/plain": [
       "-1"
      ]
     },
     "execution_count": 19,
     "metadata": {},
     "output_type": "execute_result"
    }
   ],
   "source": [
    "s.find('X')"
   ]
  },
  {
   "cell_type": "code",
   "execution_count": 20,
   "metadata": {
    "scrolled": true
   },
   "outputs": [
    {
     "data": {
      "text/plain": [
       "'B'"
      ]
     },
     "execution_count": 20,
     "metadata": {},
     "output_type": "execute_result"
    }
   ],
   "source": [
    "s[11]"
   ]
  },
  {
   "cell_type": "code",
   "execution_count": 21,
   "metadata": {
    "scrolled": true
   },
   "outputs": [
    {
     "data": {
      "text/plain": [
       "'EDHEC is the Business School'"
      ]
     },
     "execution_count": 21,
     "metadata": {},
     "output_type": "execute_result"
    }
   ],
   "source": [
    "s.replace(\"a\",\"the\")"
   ]
  },
  {
   "cell_type": "code",
   "execution_count": 22,
   "metadata": {
    "scrolled": true
   },
   "outputs": [
    {
     "data": {
      "text/plain": [
       "'edhec is a business school'"
      ]
     },
     "execution_count": 22,
     "metadata": {},
     "output_type": "execute_result"
    }
   ],
   "source": [
    "s.lower()"
   ]
  },
  {
   "cell_type": "code",
   "execution_count": 23,
   "metadata": {
    "scrolled": true
   },
   "outputs": [
    {
     "data": {
      "text/plain": [
       "'EDHEC IS A BUSINESS SCHOOL'"
      ]
     },
     "execution_count": 23,
     "metadata": {},
     "output_type": "execute_result"
    }
   ],
   "source": [
    "s.upper()"
   ]
  },
  {
   "cell_type": "code",
   "execution_count": 24,
   "metadata": {
    "scrolled": true
   },
   "outputs": [],
   "source": [
    "q = \"in France\""
   ]
  },
  {
   "cell_type": "code",
   "execution_count": 25,
   "metadata": {
    "scrolled": true
   },
   "outputs": [],
   "source": [
    "r = s + \" \" + q"
   ]
  },
  {
   "cell_type": "code",
   "execution_count": 26,
   "metadata": {
    "scrolled": true
   },
   "outputs": [
    {
     "name": "stdout",
     "output_type": "stream",
     "text": [
      "EDHEC is a Business School in France\n"
     ]
    }
   ],
   "source": [
    "print(r)"
   ]
  }
 ],
 "metadata": {
  "kernelspec": {
   "display_name": "Python 3 (ipykernel)",
   "language": "python",
   "name": "python3"
  },
  "language_info": {
   "codemirror_mode": {
    "name": "ipython",
    "version": 3
   },
   "file_extension": ".py",
   "mimetype": "text/x-python",
   "name": "python",
   "nbconvert_exporter": "python",
   "pygments_lexer": "ipython3",
   "version": "3.8.8"
  }
 },
 "nbformat": 4,
 "nbformat_minor": 2
}
