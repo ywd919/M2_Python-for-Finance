{
 "cells": [
  {
   "cell_type": "markdown",
   "metadata": {},
   "source": [
    "# Option Pricing using Monte Carlo Methods"
   ]
  },
  {
   "cell_type": "markdown",
   "metadata": {},
   "source": [
    "We want our code to run quickly. An example is Monte Carlo. We explore ways to make the code as fast as possible."
   ]
  },
  {
   "cell_type": "markdown",
   "metadata": {},
   "source": [
    "## Analytical Formula"
   ]
  },
  {
   "cell_type": "markdown",
   "metadata": {},
   "source": [
    "We import the maths functions from the built-in maths library. N(x) needs to come from scipy."
   ]
  },
  {
   "cell_type": "code",
   "execution_count": 4,
   "metadata": {},
   "outputs": [],
   "source": [
    "from math import log, exp, sqrt\n",
    "from scipy.stats import norm\n",
    "\n",
    "def priceCallOptionAnalytical(S0,K,T,r,q,sigma):\n",
    "    d1 = (log(S0/K) + (r - q + 0.5*sigma*sigma)*T) /sigma*sqrt(T)\n",
    "    d2 = (log(S0/K) + (r - q - 0.5*sigma*sigma)*T) /sigma*sqrt(T)    \n",
    "    value = S0 * exp(-q*T) * norm.cdf(d1,0.0,1.0) - K * exp(-r*T) * norm.cdf(d2,0.0,1.0)\n",
    "    return value"
   ]
  },
  {
   "cell_type": "code",
   "execution_count": 5,
   "metadata": {},
   "outputs": [],
   "source": [
    "S0 = 100.0\n",
    "K = 95.0\n",
    "T = 1.0\n",
    "r = 0.08\n",
    "q = 0.03\n",
    "sigma = 0.23"
   ]
  },
  {
   "cell_type": "code",
   "execution_count": 6,
   "metadata": {},
   "outputs": [
    {
     "data": {
      "text/plain": [
       "13.933933539010809"
      ]
     },
     "execution_count": 6,
     "metadata": {},
     "output_type": "execute_result"
    }
   ],
   "source": [
    "priceCallOptionAnalytical(S0,K,T,r,q,sigma)"
   ]
  },
  {
   "cell_type": "code",
   "execution_count": 7,
   "metadata": {},
   "outputs": [
    {
     "name": "stdout",
     "output_type": "stream",
     "text": [
      "267 µs ± 14.4 µs per loop (mean ± std. dev. of 7 runs, 1000 loops each)\n"
     ]
    }
   ],
   "source": [
    "%timeit priceCallOptionAnalytical(S0,K,T,r,q,sigma)"
   ]
  },
  {
   "cell_type": "markdown",
   "metadata": {},
   "source": [
    "## Monte Carlo Valuation in Basic Python"
   ]
  },
  {
   "cell_type": "code",
   "execution_count": 8,
   "metadata": {},
   "outputs": [],
   "source": [
    "numPaths = 100000"
   ]
  },
  {
   "cell_type": "code",
   "execution_count": 9,
   "metadata": {},
   "outputs": [],
   "source": [
    "# Pure python code valuing a call option\n",
    "import random\n",
    "\n",
    "def priceCallOptionMC(S0,K,T,r,q,sigma,numPaths):\n",
    "    payOff = 0.0\n",
    "    for i in range(0,numPaths):\n",
    "        z = random.gauss(0.0,1.0)\n",
    "        S = S0 * exp((r-q-sigma*sigma/2.0) * T + sigma * sqrt(T) * z)        \n",
    "        payOff += max(0,S-K)\n",
    "    value = payOff * exp(-r*T) / numPaths\n",
    "    return value"
   ]
  },
  {
   "cell_type": "code",
   "execution_count": 10,
   "metadata": {},
   "outputs": [
    {
     "data": {
      "text/plain": [
       "13.973214614380598"
      ]
     },
     "execution_count": 10,
     "metadata": {},
     "output_type": "execute_result"
    }
   ],
   "source": [
    "priceCallOptionMC(S0,K,T,r,q,sigma,numPaths)"
   ]
  },
  {
   "cell_type": "code",
   "execution_count": 11,
   "metadata": {},
   "outputs": [
    {
     "name": "stdout",
     "output_type": "stream",
     "text": [
      "234 ms ± 8.82 ms per loop (mean ± std. dev. of 7 runs, 1 loop each)\n"
     ]
    }
   ],
   "source": [
    "%timeit priceCallOptionMC(S0,K,T,r,q,sigma,numPaths)"
   ]
  },
  {
   "cell_type": "markdown",
   "metadata": {},
   "source": [
    "## Monte Carlo Valuation in Numpy\n",
    "When the function can be vectorised then Numpy can speed things up a lot"
   ]
  },
  {
   "cell_type": "code",
   "execution_count": 9,
   "metadata": {},
   "outputs": [],
   "source": [
    "import numpy as np\n",
    "\n",
    "def priceCallOptionMC_Numpy(S0,K,T,r,q,sigma,numPaths):\n",
    "    z = np.random.normal(size=numPaths,loc=0.0,scale=1.0) \n",
    "    S = S0 * np.exp((r-q-sigma*sigma/2.0) * T + sigma * sqrt(T) * z)\n",
    "    payoff = np.maximum(S-K,0)\n",
    "    value = np.sum(payoff)/numPaths * np.exp(-r*T)     \n",
    "    return value"
   ]
  },
  {
   "cell_type": "code",
   "execution_count": 10,
   "metadata": {},
   "outputs": [
    {
     "data": {
      "text/plain": [
       "13.928268114817378"
      ]
     },
     "execution_count": 10,
     "metadata": {},
     "output_type": "execute_result"
    }
   ],
   "source": [
    "priceCallOptionMC_Numpy(S0,K,T,r,q,sigma,numPaths)"
   ]
  },
  {
   "cell_type": "code",
   "execution_count": 11,
   "metadata": {},
   "outputs": [
    {
     "name": "stdout",
     "output_type": "stream",
     "text": [
      "6.14 ms ± 138 µs per loop (mean ± std. dev. of 7 runs, 100 loops each)\n"
     ]
    }
   ],
   "source": [
    "%timeit priceCallOptionMC_Numpy(S0,K,T,r,q,sigma,numPaths)"
   ]
  },
  {
   "cell_type": "markdown",
   "metadata": {},
   "source": [
    "## Monte Carlo Valuation in Numba\n",
    "Use the JIT compiler"
   ]
  },
  {
   "cell_type": "code",
   "execution_count": 12,
   "metadata": {},
   "outputs": [],
   "source": [
    "from numba import njit\n",
    "\n",
    "@njit \n",
    "def priceCallOptionMC_Numba(S0,K,T,r,q,sigma,numPaths):\n",
    "    payOff = 0.0\n",
    "    for i in range(0,numPaths):\n",
    "        z = random.gauss(0.0,1.0)\n",
    "        S = S0 * exp((r-q-sigma*sigma/2.0) * T + sigma * sqrt(T) * z)        \n",
    "        payOff += max(0,S-K)\n",
    "    value = payOff * exp(-r*T) / numPaths\n",
    "    return value"
   ]
  },
  {
   "cell_type": "code",
   "execution_count": 13,
   "metadata": {},
   "outputs": [
    {
     "data": {
      "text/plain": [
       "13.940360623272499"
      ]
     },
     "execution_count": 13,
     "metadata": {},
     "output_type": "execute_result"
    }
   ],
   "source": [
    "priceCallOptionMC_Numba(S0,K,T,r,q,sigma,numPaths)"
   ]
  },
  {
   "cell_type": "code",
   "execution_count": 14,
   "metadata": {},
   "outputs": [
    {
     "name": "stdout",
     "output_type": "stream",
     "text": [
      "4.61 ms ± 291 µs per loop (mean ± std. dev. of 7 runs, 100 loops each)\n"
     ]
    }
   ],
   "source": [
    "%timeit priceCallOptionMC_Numba(S0,K,T,r,q,sigma,numPaths)"
   ]
  },
  {
   "cell_type": "code",
   "execution_count": null,
   "metadata": {},
   "outputs": [],
   "source": []
  }
 ],
 "metadata": {
  "kernelspec": {
   "display_name": "Python 3 (ipykernel)",
   "language": "python",
   "name": "python3"
  },
  "language_info": {
   "codemirror_mode": {
    "name": "ipython",
    "version": 3
   },
   "file_extension": ".py",
   "mimetype": "text/x-python",
   "name": "python",
   "nbconvert_exporter": "python",
   "pygments_lexer": "ipython3",
   "version": "3.8.11"
  }
 },
 "nbformat": 4,
 "nbformat_minor": 2
}
